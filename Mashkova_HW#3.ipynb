{
 "cells": [
  {
   "cell_type": "code",
   "execution_count": 24,
   "metadata": {},
   "outputs": [],
   "source": [
    "import matplotlib.pyplot as plt\n",
    "import numpy as np\n",
    "from cigar import Cigar\n",
    "import pandas as pd\n",
    "from collections import Counter"
   ]
  },
  {
   "cell_type": "markdown",
   "metadata": {},
   "source": [
    "### Задание 0"
   ]
  },
  {
   "cell_type": "code",
   "execution_count": 3,
   "metadata": {},
   "outputs": [
    {
     "name": "stdout",
     "output_type": "stream",
     "text": [
      "[M::mm_idx_gen::0.161*1.06] collected minimizers\n",
      "[M::mm_idx_gen::0.183*1.30] sorted minimizers\n",
      "[M::main::0.283*1.19] loaded/built the index for 1 target sequence(s)\n",
      "[M::mm_idx_stat] kmer size: 15; skip: 10; is_hpc: 0; #seq: 1\n",
      "[M::mm_idx_stat::0.294*1.18] distinct minimizers: 838533 (98.18% are singletons); average occurrences: 1.034; average spacing: 5.352\n",
      "[M::main] Version: 2.17-r941\n",
      "[M::main] CMD: minimap2 -d reference.mmi reference.fasta\n",
      "[M::main] Real time: 0.307 sec; CPU: 0.360 sec; Peak RSS: 0.065 GB\n"
     ]
    }
   ],
   "source": [
    "! minimap2 -d reference.mmi reference.fasta"
   ]
  },
  {
   "cell_type": "code",
   "execution_count": 5,
   "metadata": {},
   "outputs": [
    {
     "name": "stdout",
     "output_type": "stream",
     "text": [
      "[WARNING]\u001b[1;31m Indexing parameters (-k, -w or -H) overridden by parameters used in the prebuilt index.\u001b[0m\n",
      "[M::main::0.085*1.05] loaded/built the index for 1 target sequence(s)\n",
      "[M::mm_mapopt_update::0.097*1.04] mid_occ = 11\n",
      "[M::mm_idx_stat] kmer size: 15; skip: 10; is_hpc: 0; #seq: 1\n",
      "[M::mm_idx_stat::0.106*1.03] distinct minimizers: 838533 (98.18% are singletons); average occurrences: 1.034; average spacing: 5.352\n",
      "[M::worker_pipeline::34.673*2.85] mapped 41447 sequences\n",
      "[M::main] Version: 2.17-r941\n",
      "[M::main] CMD: minimap2 -ax map-pb reference.mmi pacbio_40x.fq\n",
      "[M::main] Real time: 34.697 sec; CPU: 98.814 sec; Peak RSS: 1.985 GB\n"
     ]
    }
   ],
   "source": [
    "! minimap2 -ax map-pb reference.mmi pacbio_40x.fq > alignment_pacbio.sam"
   ]
  },
  {
   "cell_type": "code",
   "execution_count": 6,
   "metadata": {},
   "outputs": [
    {
     "name": "stdout",
     "output_type": "stream",
     "text": [
      "[M::main::0.091*1.00] loaded/built the index for 1 target sequence(s)\n",
      "[M::mm_mapopt_update::0.104*1.00] mid_occ = 11\n",
      "[M::mm_idx_stat] kmer size: 15; skip: 10; is_hpc: 0; #seq: 1\n",
      "[M::mm_idx_stat::0.115*1.00] distinct minimizers: 838533 (98.18% are singletons); average occurrences: 1.034; average spacing: 5.352\n",
      "[M::worker_pipeline::13.584*2.78] mapped 30810 sequences\n",
      "[M::main] Version: 2.17-r941\n",
      "[M::main] CMD: minimap2 -ax map-ont reference.mmi SRR6334890.fastq\n",
      "[M::main] Real time: 13.600 sec; CPU: 37.802 sec; Peak RSS: 0.921 GB\n"
     ]
    }
   ],
   "source": [
    "! minimap2 -ax map-ont reference.mmi SRR6334890.fastq > alignment_ont.sam"
   ]
  },
  {
   "cell_type": "code",
   "execution_count": 7,
   "metadata": {},
   "outputs": [],
   "source": [
    "! samtools view -S -b alignment_pacbio.sam > alignment_pacbio.bam"
   ]
  },
  {
   "cell_type": "code",
   "execution_count": 8,
   "metadata": {},
   "outputs": [],
   "source": [
    "! samtools view -S -b alignment_ont.sam > alignment_ont.bam"
   ]
  },
  {
   "cell_type": "code",
   "execution_count": 62,
   "metadata": {},
   "outputs": [],
   "source": [
    "! samtools sort alignment_pacbio.sam -o alignment_pacbio.bam"
   ]
  },
  {
   "cell_type": "code",
   "execution_count": 63,
   "metadata": {},
   "outputs": [],
   "source": [
    "! samtools sort alignment_ont.sam -o alignment_ont.bam"
   ]
  },
  {
   "cell_type": "code",
   "execution_count": 64,
   "metadata": {},
   "outputs": [],
   "source": [
    "! samtools index alignment_pacbio.bam"
   ]
  },
  {
   "cell_type": "code",
   "execution_count": 65,
   "metadata": {},
   "outputs": [],
   "source": [
    "! samtools index alignment_ont.bam"
   ]
  },
  {
   "cell_type": "code",
   "execution_count": 9,
   "metadata": {},
   "outputs": [
    {
     "name": "stdout",
     "output_type": "stream",
     "text": [
      "49743 + 0 in total (QC-passed reads + QC-failed reads)\r\n",
      "1528 + 0 secondary\r\n",
      "6768 + 0 supplementary\r\n",
      "0 + 0 duplicates\r\n",
      "48434 + 0 mapped (97.37% : N/A)\r\n",
      "0 + 0 paired in sequencing\r\n",
      "0 + 0 read1\r\n",
      "0 + 0 read2\r\n",
      "0 + 0 properly paired (N/A : N/A)\r\n",
      "0 + 0 with itself and mate mapped\r\n",
      "0 + 0 singletons (N/A : N/A)\r\n",
      "0 + 0 with mate mapped to a different chr\r\n",
      "0 + 0 with mate mapped to a different chr (mapQ>=5)\r\n"
     ]
    }
   ],
   "source": [
    "! samtools flagstat alignment_pacbio.bam"
   ]
  },
  {
   "cell_type": "markdown",
   "metadata": {},
   "source": [
    "Видим, что процент приложившихся ридов Pacbio равен 97.37."
   ]
  },
  {
   "cell_type": "code",
   "execution_count": 10,
   "metadata": {},
   "outputs": [
    {
     "name": "stdout",
     "output_type": "stream",
     "text": [
      "32103 + 0 in total (QC-passed reads + QC-failed reads)\r\n",
      "1072 + 0 secondary\r\n",
      "221 + 0 supplementary\r\n",
      "0 + 0 duplicates\r\n",
      "29565 + 0 mapped (92.09% : N/A)\r\n",
      "0 + 0 paired in sequencing\r\n",
      "0 + 0 read1\r\n",
      "0 + 0 read2\r\n",
      "0 + 0 properly paired (N/A : N/A)\r\n",
      "0 + 0 with itself and mate mapped\r\n",
      "0 + 0 singletons (N/A : N/A)\r\n",
      "0 + 0 with mate mapped to a different chr\r\n",
      "0 + 0 with mate mapped to a different chr (mapQ>=5)\r\n"
     ]
    }
   ],
   "source": [
    "! samtools flagstat alignment_ont.bam"
   ]
  },
  {
   "cell_type": "markdown",
   "metadata": {},
   "source": [
    "Видим, что процент приложившихся ридов Oxford Nanopores равен 92.09."
   ]
  },
  {
   "cell_type": "markdown",
   "metadata": {},
   "source": [
    "### Задание 1"
   ]
  },
  {
   "cell_type": "markdown",
   "metadata": {},
   "source": [
    "#### Покрытие генома"
   ]
  },
  {
   "cell_type": "code",
   "execution_count": 33,
   "metadata": {},
   "outputs": [],
   "source": [
    "def get_coverage(sam_file_name, ref_file_name):    \n",
    "    sam_file = open(sam_file_name, 'r')\n",
    "    ref_file = open(ref_file_name, 'r')\n",
    "    sam_file.readline()\n",
    "    sam_file.readline()\n",
    "    ref_length = 0\n",
    "    ref_file.readline()\n",
    "    for line in ref_file:\n",
    "        ref_length += len(line)\n",
    "    per_base_coverage = np.zeros(ref_length)\n",
    "    for line in sam_file:\n",
    "        line = line.strip().split()\n",
    "        start = int(line[3])\n",
    "        read_length = len(line[9])\n",
    "        stop = min(start + read_length - 1, ref_length)\n",
    "        per_base_coverage[start:stop] = per_base_coverage[start:stop] + 1\n",
    "    ref_file.close()\n",
    "    sam_file.close()\n",
    "    return per_base_coverage, ref_length"
   ]
  },
  {
   "cell_type": "markdown",
   "metadata": {},
   "source": [
    "Риды Pacbio"
   ]
  },
  {
   "cell_type": "code",
   "execution_count": 34,
   "metadata": {},
   "outputs": [
    {
     "data": {
      "text/plain": [
       "<matplotlib.collections.PathCollection at 0x11d648580>"
      ]
     },
     "execution_count": 34,
     "metadata": {},
     "output_type": "execute_result"
    },
    {
     "data": {
      "image/png": "[encoded data removed]",
      "text/plain": [
       "<Figure size 864x864 with 1 Axes>"
      ]
     },
     "metadata": {
      "needs_background": "light"
     },
     "output_type": "display_data"
    }
   ],
   "source": [
    "# покрытие с выбросами\n",
    "per_base_coverage, ref_length = get_coverage('alignment_pacbio.sam', 'reference.fasta')\n",
    "n = len(per_base_coverage)\n",
    "M = []\n",
    "N = []\n",
    "for i in range(0, n, 5000):\n",
    "    M.append(i)\n",
    "    N.append(sum(per_base_coverage[i:(i+5000)]) / 5000)\n",
    "plt.figure(figsize=(12, 12))\n",
    "plt.title('Coverage with outliers')\n",
    "plt.scatter(M, N)"
   ]
  },
  {
   "cell_type": "code",
   "execution_count": 36,
   "metadata": {},
   "outputs": [
    {
     "name": "stdout",
     "output_type": "stream",
     "text": [
      "4705957\n"
     ]
    }
   ],
   "source": [
    "print(ref_length)"
   ]
  },
  {
   "cell_type": "code",
   "execution_count": 16,
   "metadata": {},
   "outputs": [
    {
     "data": {
      "text/plain": [
       "<matplotlib.collections.PathCollection at 0x1157b4110>"
      ]
     },
     "execution_count": 16,
     "metadata": {},
     "output_type": "execute_result"
    },
    {
     "data": {
      "image/png": "[encoded data removed]",
      "text/plain": [
       "<Figure size 720x720 with 1 Axes>"
      ]
     },
     "metadata": {
      "needs_background": "light"
     },
     "output_type": "display_data"
    }
   ],
   "source": [
    "# покрытие без выбросов\n",
    "N = np.asarray(N)\n",
    "indices = np.argwhere(N < 200).flatten()\n",
    "N_ = [N[i] for i in range(len(N)) if i in indices]\n",
    "M_ = [M[i] for i in range(len(M)) if i in indices]\n",
    "plt.figure(figsize=(10, 10))\n",
    "plt.title('Coverage without outliers')\n",
    "plt.scatter(M_, N_)"
   ]
  },
  {
   "cell_type": "code",
   "execution_count": 17,
   "metadata": {},
   "outputs": [
    {
     "name": "stdout",
     "output_type": "stream",
     "text": [
      "Среднее покрытие: 48\n",
      "Процент покрытия: 98.73390258347027 %\n"
     ]
    }
   ],
   "source": [
    "print(f'Среднее покрытие: {int(sum(per_base_coverage) / len(per_base_coverage))}')\n",
    "count_covered_bases = 0\n",
    "for base in per_base_coverage:\n",
    "    if base != 0:\n",
    "        count_covered_bases += 1\n",
    "print(f'Процент покрытия: {(count_covered_bases / n) * 100} %')"
   ]
  },
  {
   "cell_type": "markdown",
   "metadata": {},
   "source": [
    "Сравним с данными из bbmap:"
   ]
  },
  {
   "cell_type": "code",
   "execution_count": 18,
   "metadata": {},
   "outputs": [
    {
     "name": "stdout",
     "output_type": "stream",
     "text": [
      "/Users/olga/Downloads/bbmap//calcmem.sh: line 75: [: -v: unary operator expected\n",
      "Max memory cannot be determined.  Attempting to use 3200 MB.\n",
      "If this fails, please add the -Xmx flag (e.g. -Xmx24g) to your command, \n",
      "or run this program qsubbed or from a qlogin session on Genepool, or set ulimit to an appropriate value.\n",
      "java -ea -Xmx3200m -cp /Users/olga/Downloads/bbmap/current/ jgi.CoveragePileup in=alignment_pacbio.sam out=bbmap_pacbio.txt hist=hist_pacbio.txt\n",
      "Executing jgi.CoveragePileup [in=alignment_pacbio.sam, out=bbmap_pacbio.txt, hist=hist_pacbio.txt]\n",
      "\n",
      "Reads:                               \t49743\n",
      "Mapped reads:                        \t48434\n",
      "Mapped bases:                        \t193109287\n",
      "Ref scaffolds:                       \t1\n",
      "Ref bases:                           \t4639675\n",
      "\n",
      "Percent mapped:                      \t97.368\n",
      "Percent proper pairs:                \t0.000\n",
      "Average coverage:                    \t41.621\n",
      "Average coverage with deletions:     \t40.062\n",
      "Standard deviation:                    \t9.255\n",
      "Percent scaffolds with any coverage: \t100.00\n",
      "Percent of reference bases covered:  \t100.00\n",
      "\n",
      "Time: \t1.295 seconds.\n"
     ]
    }
   ],
   "source": [
    "! /Users/olga/Downloads/bbmap/pileup.sh in=alignment_pacbio.sam out=bbmap_pacbio.txt hist=hist_pacbio.txt"
   ]
  },
  {
   "cell_type": "markdown",
   "metadata": {},
   "source": [
    "Риды Oxford Nanopores"
   ]
  },
  {
   "cell_type": "code",
   "execution_count": 19,
   "metadata": {},
   "outputs": [
    {
     "data": {
      "text/plain": [
       "<matplotlib.collections.PathCollection at 0x11593d050>"
      ]
     },
     "execution_count": 19,
     "metadata": {},
     "output_type": "execute_result"
    },
    {
     "data": {
      "image/png": "[encoded data removed]",
      "text/plain": [
       "<Figure size 864x864 with 1 Axes>"
      ]
     },
     "metadata": {
      "needs_background": "light"
     },
     "output_type": "display_data"
    }
   ],
   "source": [
    "# покрытие с выбросами\n",
    "per_base_coverage = get_coverage('alignment_ont.sam', 'reference.fasta')\n",
    "n = len(per_base_coverage)\n",
    "M = []\n",
    "N = []\n",
    "for i in range(0, n, 5000):\n",
    "    M.append(i)\n",
    "    N.append(sum(per_base_coverage[i:(i+5000)]) / 5000)\n",
    "plt.figure(figsize=(12, 12))\n",
    "plt.title('Coverage with outliers')\n",
    "plt.scatter(M, N)"
   ]
  },
  {
   "cell_type": "code",
   "execution_count": 20,
   "metadata": {},
   "outputs": [
    {
     "data": {
      "text/plain": [
       "<matplotlib.collections.PathCollection at 0x115a8ce50>"
      ]
     },
     "execution_count": 20,
     "metadata": {},
     "output_type": "execute_result"
    },
    {
     "data": {
      "image/png": "[encoded data removed]",
      "text/plain": [
       "<Figure size 720x720 with 1 Axes>"
      ]
     },
     "metadata": {
      "needs_background": "light"
     },
     "output_type": "display_data"
    }
   ],
   "source": [
    "# покрытие без выбросов\n",
    "N = np.asarray(N)\n",
    "indices = np.argwhere(N < 200).flatten()\n",
    "N_ = [N[i] for i in range(len(N)) if i in indices]\n",
    "M_ = [M[i] for i in range(len(M)) if i in indices]\n",
    "plt.figure(figsize=(10, 10))\n",
    "plt.title('Coverage without outliers')\n",
    "plt.scatter(M_, N_)"
   ]
  },
  {
   "cell_type": "code",
   "execution_count": 21,
   "metadata": {},
   "outputs": [
    {
     "name": "stdout",
     "output_type": "stream",
     "text": [
      "Среднее покрытие: 28\n",
      "Процент покрытия: 98.79550535629629 %\n"
     ]
    }
   ],
   "source": [
    "print(f'Среднее покрытие: {int(sum(per_base_coverage) / len(per_base_coverage))}')\n",
    "count_covered_bases = 0\n",
    "for base in per_base_coverage:\n",
    "    if base != 0:\n",
    "        count_covered_bases += 1\n",
    "print(f'Процент покрытия: {(count_covered_bases / n) * 100} %')"
   ]
  },
  {
   "cell_type": "markdown",
   "metadata": {},
   "source": [
    "Сравним с данными из bbmap:"
   ]
  },
  {
   "cell_type": "code",
   "execution_count": 22,
   "metadata": {},
   "outputs": [
    {
     "name": "stdout",
     "output_type": "stream",
     "text": [
      "/Users/olga/Downloads/bbmap//calcmem.sh: line 75: [: -v: unary operator expected\n",
      "Max memory cannot be determined.  Attempting to use 3200 MB.\n",
      "If this fails, please add the -Xmx flag (e.g. -Xmx24g) to your command, \n",
      "or run this program qsubbed or from a qlogin session on Genepool, or set ulimit to an appropriate value.\n",
      "java -ea -Xmx3200m -cp /Users/olga/Downloads/bbmap/current/ jgi.CoveragePileup in=alignment_ont.sam out=bbmap_ont.txt hist=hist_ont.txt\n",
      "Executing jgi.CoveragePileup [in=alignment_ont.sam, out=bbmap_ont.txt, hist=hist_ont.txt]\n",
      "\n",
      "Reads:                               \t32103\n",
      "Mapped reads:                        \t29565\n",
      "Mapped bases:                        \t125216746\n",
      "Ref scaffolds:                       \t1\n",
      "Ref bases:                           \t4639675\n",
      "\n",
      "Percent mapped:                      \t92.094\n",
      "Percent proper pairs:                \t0.000\n",
      "Average coverage:                    \t26.988\n",
      "Average coverage with deletions:     \t28.341\n",
      "Standard deviation:                    \t6.312\n",
      "Percent scaffolds with any coverage: \t100.00\n",
      "Percent of reference bases covered:  \t100.00\n",
      "\n",
      "Time: \t0.624 seconds.\n"
     ]
    }
   ],
   "source": [
    "! /Users/olga/Downloads/bbmap/pileup.sh in=alignment_ont.sam out=bbmap_ont.txt hist=hist_ont.txt"
   ]
  },
  {
   "cell_type": "markdown",
   "metadata": {},
   "source": [
    "При сравнении результатов покрытия генома выяснилось, что у ридов Oxford Nanopores и Pacbio почти совпадает процент покрытия генома. Среднее покрытие различается (у Oxford Nanopores оно равно 28, тогда как у Pacbio оно равно 48). Также различаются графики покрытий - как с выбросами, так и без них: значения выбросов по количеству ридов у Oxford Nanopores выше (около 250 и 1200 по сравнению со значениями 100 и примерно 300 для Pacbio), дисперсия распределения покрытия выше у ридов Pacbio. Сравнивая данные результаты с результатами bbmap, выяснилось, что процент покрытия почти совпадает для ридов обоих типов, среднее покрытие ридов Oxford Nanopores также практически сопадает, а среднее покрытие ридов Pacbio несколько различается."
   ]
  },
  {
   "cell_type": "markdown",
   "metadata": {},
   "source": [
    "#### Таблица частот замен / вставок / удалений + средний процент ошибок в ридах"
   ]
  },
  {
   "cell_type": "code",
   "execution_count": 87,
   "metadata": {},
   "outputs": [],
   "source": [
    "def get_errors(sam_file_name, ref_file_name):\n",
    "    errors = {('A', 'A'): 0, ('A', 'C'): 0, ('A', 'G'): 0, ('A', 'T'): 0, ('A', '-'): 0, \n",
    "              ('C', 'A'): 0, ('C', 'C'): 0, ('C', 'G'): 0, ('C', 'T'): 0, ('C', '-'): 0,\n",
    "              ('G', 'A'): 0, ('G', 'C'): 0, ('G', 'G'): 0, ('G', 'T'): 0, ('G', '-'): 0, \n",
    "              ('T', 'A'): 0, ('T', 'C'): 0, ('T', 'G'): 0, ('T', 'T'): 0, ('T', '-'): 0,\n",
    "              ('-', 'A'): 0, ('-', 'C'): 0, ('-', 'G'): 0, ('-', 'T'): 0, ('-', '-'): 0}\n",
    "    sam_file = open(sam_file_name, 'r')\n",
    "    ref_file = open(ref_file_name, 'r')\n",
    "    sam_file.readline()\n",
    "    sam_file.readline()\n",
    "    ref_file.readline()\n",
    "    ref_seq = ''\n",
    "    ref_length = 0\n",
    "    for line in ref_file:\n",
    "        ref_seq += line.strip()\n",
    "    ref_file.close()\n",
    "    ref_length = len(ref_seq)\n",
    "    total_align_info = {}\n",
    "    percents = []\n",
    "    total_len = 0\n",
    "    for line in sam_file:\n",
    "        line = line.strip().split()\n",
    "        if line[5] == '*' or line[2] == '*':\n",
    "                continue\n",
    "        start = int(line[3]) - 1\n",
    "        if start == -1:\n",
    "            continue\n",
    "        read_length = len(line[9])\n",
    "        p = [0] * read_length\n",
    "        total_len += read_length\n",
    "        read_seq = line[9]\n",
    "        stop = min(start + read_length - 1, ref_length - 1)\n",
    "        align_info = list(Cigar(line[5]).items())\n",
    "        for (num, letter) in align_info:\n",
    "            if letter not in total_align_info.keys():\n",
    "                total_align_info[letter] = num\n",
    "            else:\n",
    "                total_align_info[letter] += num\n",
    "        align_info_string = ''.join([letter*num for (num, letter) in align_info])\n",
    "        for i in range(start, stop):\n",
    "            if (read_seq[i - start + 1], ref_seq[i]) == ('A', 'C') and align_info_string[i - start + 1] == 'M':\n",
    "                errors[('A', 'C')] += 1\n",
    "                p[i - start + 1] = 1\n",
    "            elif (read_seq[i - start + 1], ref_seq[i]) == ('A', 'G') and align_info_string[i - start + 1] == 'M':\n",
    "                errors[('A', 'G')] += 1\n",
    "                p[i - start + 1] = 1\n",
    "            elif (read_seq[i - start + 1], ref_seq[i]) == ('A', 'T') and align_info_string[i - start + 1] == 'M':\n",
    "                errors[('A', 'T')] += 1\n",
    "                p[i - start + 1] = 1\n",
    "            elif (read_seq[i - start + 1], ref_seq[i]) == ('C', 'A') and align_info_string[i - start + 1] == 'M':\n",
    "                errors[('C', 'A')] += 1\n",
    "                p[i - start + 1] = 1\n",
    "            elif (read_seq[i - start + 1], ref_seq[i]) == ('C', 'G') and align_info_string[i - start + 1] == 'M':\n",
    "                errors[('C', 'G')] += 1\n",
    "            elif (read_seq[i - start + 1], ref_seq[i]) == ('C', 'T') and align_info_string[i - start + 1] == 'M':\n",
    "                errors[('C', 'T')] += 1\n",
    "            elif (read_seq[i - start + 1], ref_seq[i]) == ('G', 'A') and align_info_string[i - start + 1] == 'M':\n",
    "                errors[('G', 'A')] += 1\n",
    "            elif (read_seq[i - start + 1], ref_seq[i]) == ('G', 'C') and align_info_string[i - start + 1] == 'M':\n",
    "                errors[('G', 'C')] += 1\n",
    "            elif (read_seq[i - start + 1], ref_seq[i]) == ('G', 'T') and align_info_string[i - start + 1] == 'M':\n",
    "                errors[('G', 'T')] += 1\n",
    "            elif (read_seq[i - start + 1], ref_seq[i]) == ('T', 'A') and align_info_string[i - start + 1] == 'M':\n",
    "                errors[('T', 'A')] += 1\n",
    "            elif (read_seq[i - start + 1], ref_seq[i]) == ('T', 'C') and align_info_string[i - start + 1] == 'M':\n",
    "                errors[('T', 'C')] += 1\n",
    "            elif (read_seq[i - start + 1], ref_seq[i]) == ('T', 'G') and align_info_string[i - start + 1] == 'M':\n",
    "                errors[('T', 'G')] += 1\n",
    "            elif read_seq[i - start + 1] == 'A' and align_info_string[i - start + 1] == 'I':\n",
    "                errors[('A', '-')] += 1\n",
    "            elif read_seq[i - start + 1] == 'C' and align_info_string[i - start + 1] == 'I':\n",
    "                errors[('C', '-')] += 1\n",
    "            elif read_seq[i - start + 1] == 'G' and align_info_string[i - start + 1] == 'I':\n",
    "                errors[('G', '-')] += 1\n",
    "            elif read_seq[i - start + 1] == 'T' and align_info_string[i - start + 1] == 'I':\n",
    "                errors[('T', '-')] += 1\n",
    "            elif read_seq[i - start + 1] == 'A' and align_info_string[i - start + 1] == 'D':\n",
    "                errors[('-', 'A')] += 1\n",
    "            elif read_seq[i - start + 1] == 'C' and align_info_string[i - start + 1] == 'D':\n",
    "                errors[('-', 'C')] += 1\n",
    "            elif read_seq[i - start + 1] == 'G' and align_info_string[i - start + 1] == 'D':\n",
    "                errors[('-', 'G')] += 1\n",
    "            elif read_seq[i - start + 1] == 'T' and align_info_string[i - start + 1] == 'D':\n",
    "                errors[('-', 'T')] += 1\n",
    "    sam_file.close()\n",
    "    #total_len = np.sum(list(total_align_info.values()))\n",
    "    return errors, total_len, total_align_info"
   ]
  },
  {
   "cell_type": "code",
   "execution_count": 104,
   "metadata": {},
   "outputs": [],
   "source": [
    "INDEXES = {'A': 0, 'C': 1, 'G': 2, 'T': 3}\n",
    "CIGAR_ABBR = {\n",
    "    'M':'Matches',\n",
    "    'N':'Alignment gaps',\n",
    "    'D':'Deletions',\n",
    "    'I':'Insertions',\n",
    "    'S':'Soft clipped alignment',\n",
    "    'H':'Hard clipped alignment'\n",
    "}\n",
    "\n",
    "def get_errors(sam_f, fasta_f):\n",
    "    reference = []\n",
    "    for line in open(fasta_f):\n",
    "        if line.startswith('>'):\n",
    "            continue\n",
    "        reference.append(line.strip())\n",
    "    reference = list(''.join(reference))\n",
    "    reference_len = len(reference)\n",
    "    \n",
    "    substitution_matrix = np.zeros([4, 4])\n",
    "    total_cigars = Counter()\n",
    "    \n",
    "    for num, line in enumerate(open(sam_f)):\n",
    "        if num and (num % 1e6 == 0):\n",
    "            print(f\"Processed {num} SAM-lines\")\n",
    "        if line.startswith('@'):\n",
    "            continue\n",
    "        parts = line.strip().split()\n",
    "        if parts[2] == '*' or parts[5] == '*':\n",
    "            continue\n",
    "        start_pos = int(parts[3])\n",
    "        if start_pos == 0:\n",
    "            continue\n",
    "        read = list(parts[9])\n",
    "        read_len = len(read)\n",
    "        end_pos = min(start_pos + read_len - 1, reference_len - 1)\n",
    "        \n",
    "        reference_region = reference[start_pos-1:end_pos]\n",
    "        for pos, r in enumerate(reference_region):\n",
    "            if r != read[pos] and read[pos] != 'N' and read[pos] != '*':\n",
    "                substitution_matrix[INDEXES[read[pos]], INDEXES[r]] += 1\n",
    "        try:\n",
    "            cigars = list(Cigar(parts[5]).items())\n",
    "            for (cnt, c) in cigars:\n",
    "                total_cigars[c] += cnt\n",
    "        except Exception as ex:\n",
    "            print(num, parts)\n",
    "            raise ex\n",
    "    return total_cigars, substitution_matrix"
   ]
  },
  {
   "cell_type": "code",
   "execution_count": 117,
   "metadata": {},
   "outputs": [
    {
     "name": "stdout",
     "output_type": "stream",
     "text": [
      "1) PacBio\n",
      "Всего ошибок: 36.81%\n",
      "2) Oxford Nanopores\n",
      "Всего ошибок: 9.67%\n"
     ]
    }
   ],
   "source": [
    "total_cigars, _ = get_errors('alignment_pacbio.sam', 'reference.fasta')\n",
    "total_len = np.sum(list(total_cigars.values()))\n",
    "print(\"1) PacBio\")\n",
    "#for k, v in sorted(total_cigars.items()):\n",
    "    #print(f\"\\t[{k}] {CIGAR_ABBR[k]}: {np.round(v/total_len*100, 3)}%\")\n",
    "print(f\"Всего ошибок: {np.round(100 - total_cigars['M']/total_len*100, 3)}%\")\n",
    "\n",
    "total_cigars, _ = get_errors('alignment_ont.sam', 'reference.fasta')\n",
    "print('2) Oxford Nanopores')\n",
    "total_len = np.sum(list(total_cigars.values()))\n",
    "#for k, v in sorted(total_cigars.items()):\n",
    "    #print(f\"\\t[{k}] {CIGAR_ABBR[k]}: {np.round(v/total_len*100, 3)}%\")\n",
    "print(f\"Всего ошибок: {np.round(100 - total_cigars['M']/total_len*100, 3)}%\")"
   ]
  },
  {
   "cell_type": "markdown",
   "metadata": {},
   "source": [
    "Риды Pacbio"
   ]
  },
  {
   "cell_type": "code",
   "execution_count": 88,
   "metadata": {},
   "outputs": [
    {
     "name": "stdout",
     "output_type": "stream",
     "text": [
      "Матрица замен / инделов:\n",
      "          A         C         G         T        -\n",
      "A         0  10401334  10340406  10255098  3766276\n",
      "C  10392489         0  10756393  10355762  3848421\n",
      "G  10342468  10757965         0  10348600  3839961\n",
      "T  10257416  10363020  10346171         0  3757195\n",
      "-   1642205   1665093   1659864   1641680        0\n",
      "------------------------------\n",
      "Матрица частот замен / инделов:\n",
      "          A         C         G         T         -\n",
      "A  0.000000  0.046565  0.046293  0.045911  0.016861\n",
      "C  0.046526  0.000000  0.048155  0.046361  0.017229\n",
      "G  0.046302  0.048162  0.000000  0.046329  0.017191\n",
      "T  0.045921  0.046394  0.046318  0.000000  0.016820\n",
      "-  0.007352  0.007454  0.007431  0.007350  0.000000\n"
     ]
    }
   ],
   "source": [
    "errors, total_len, total_align_info = get_errors('alignment_pacbio.sam', 'reference.fasta')\n",
    "print('Матрица замен / инделов:')\n",
    "errors_df = pd.DataFrame(np.array(list(errors.values())).reshape(5, 5), columns=['A', 'C', 'G', 'T', '-'], index=['A', 'C', 'G', 'T', '-'])\n",
    "print(errors_df)\n",
    "print('------------------------------')\n",
    "print('Матрица частот замен / инделов:')\n",
    "errors_freq_arr = np.array(list(errors.values())) / total_len\n",
    "errors_freq_df = pd.DataFrame(errors_freq_arr.reshape(5, 5), columns=['A', 'C', 'G', 'T', '-'], index=['A', 'C', 'G', 'T', '-'])\n",
    "print(errors_freq_df)"
   ]
  },
  {
   "cell_type": "markdown",
   "metadata": {},
   "source": [
    "Риды Oxford Nanopores"
   ]
  },
  {
   "cell_type": "code",
   "execution_count": 90,
   "metadata": {},
   "outputs": [
    {
     "name": "stdout",
     "output_type": "stream",
     "text": [
      "Матрица замен / инделов:\n",
      "         A        C        G        T       -\n",
      "A        0  7274281  7242573  7100176  359483\n",
      "C  7289567        0  7668432  7274002  374540\n",
      "G  7271676  7664075        0  7281951  376215\n",
      "T  7119098  7265368  7262873        0  359415\n",
      "-  1459478  1512796  1512472  1458982       0\n",
      "------------------------------\n",
      "Матрица частот замен / инделов:\n",
      "          A         C         G         T         -\n",
      "A  0.000000  0.056996  0.056748  0.055632  0.002817\n",
      "C  0.057116  0.000000  0.060085  0.056994  0.002935\n",
      "G  0.056976  0.060051  0.000000  0.057056  0.002948\n",
      "T  0.055780  0.056927  0.056907  0.000000  0.002816\n",
      "-  0.011435  0.011853  0.011851  0.011432  0.000000\n"
     ]
    }
   ],
   "source": [
    "errors, total_len, total_align_info = get_errors('alignment_ont.sam', 'reference.fasta')\n",
    "print('Матрица замен / инделов:')\n",
    "errors_df = pd.DataFrame(np.array(list(errors.values())).reshape(5, 5), columns=['A', 'C', 'G', 'T', '-'], index=['A', 'C', 'G', 'T', '-'])\n",
    "print(errors_df)\n",
    "print('------------------------------')\n",
    "print('Матрица частот замен / инделов:')\n",
    "errors_freq_arr = np.array(list(errors.values())) / total_len\n",
    "errors_freq_df = pd.DataFrame(errors_freq_arr.reshape(5, 5), columns=['A', 'C', 'G', 'T', '-'], index=['A', 'C', 'G', 'T', '-'])\n",
    "print(errors_freq_df)"
   ]
  },
  {
   "cell_type": "markdown",
   "metadata": {},
   "source": [
    "Средний процент ошибок в ридах Oxford Nanopores несколько выше, чем у ридов Pacbio. Части матриц частот замен у ридов обоих типов почти симметричны, причём у ридов Oxford Nanopores ошибки замен происходят чаще (приблизительно 0.035 и 0.052 соответственно). Что касается вставок / удалений, то у ридов обоих типов удаления происходят чаще, вставки / удаления распределены почти равномерно по нуклеотидам. "
   ]
  },
  {
   "cell_type": "markdown",
   "metadata": {},
   "source": [
    "#### Распределение длин инделов"
   ]
  },
  {
   "cell_type": "code",
   "execution_count": 107,
   "metadata": {},
   "outputs": [],
   "source": [
    "def get_indel_lengths(sam_file_name):\n",
    "    sam_file = open(sam_file_name, 'r')\n",
    "    sam_file.readline()\n",
    "    sam_file.readline()\n",
    "    insertion_lengths = {}\n",
    "    deletion_lengths = {}\n",
    "    indel_lengths = {}\n",
    "    for line in sam_file:\n",
    "        line = line.strip().split()\n",
    "        if line[5] == '*':\n",
    "            continue\n",
    "        align_info = list(Cigar(line[5]).items())\n",
    "        for (num, letter) in align_info:\n",
    "            if letter == 'D':\n",
    "                if num not in deletion_lengths.keys():\n",
    "                    deletion_lengths[num] = 1\n",
    "                else:\n",
    "                    deletion_lengths[num] += 1\n",
    "                if num not in indel_lengths.keys():\n",
    "                    indel_lengths[num] = 1\n",
    "                else:\n",
    "                    indel_lengths[num] += 1\n",
    "            elif letter == 'I':\n",
    "                if num not in insertion_lengths.keys():\n",
    "                    insertion_lengths[num] = 1\n",
    "                else:\n",
    "                    insertion_lengths[num] += 1\n",
    "                if num not in indel_lengths.keys():\n",
    "                    indel_lengths[num] = 1\n",
    "                else:\n",
    "                    indel_lengths[num] += 1\n",
    "    sam_file.close()\n",
    "    return deletion_lengths, insertion_lengths, indel_lengths"
   ]
  },
  {
   "cell_type": "markdown",
   "metadata": {},
   "source": [
    "Риды Pacbio (графики построены в логарифмической шкале)"
   ]
  },
  {
   "cell_type": "code",
   "execution_count": 108,
   "metadata": {},
   "outputs": [
    {
     "name": "stdout",
     "output_type": "stream",
     "text": [
      "Медианная длина делеций: 76.0\n",
      "Минимальная длина делеций: 1\n",
      "Максимальная длина делеций: 1900\n"
     ]
    },
    {
     "data": {
      "text/plain": [
       "<matplotlib.collections.PathCollection at 0x11d902e20>"
      ]
     },
     "execution_count": 108,
     "metadata": {},
     "output_type": "execute_result"
    },
    {
     "data": {
      "image/png": "[encoded data removed]",
      "text/plain": [
       "<Figure size 864x576 with 1 Axes>"
      ]
     },
     "metadata": {
      "needs_background": "light"
     },
     "output_type": "display_data"
    }
   ],
   "source": [
    "deletion_lengths, insertion_lengths, indel_lengths = get_indel_lengths('alignment_pacbio.sam')\n",
    "print(f'Медианная длина делеций: {np.median(list(deletion_lengths.keys()))}')\n",
    "print(f'Минимальная длина делеций: {min(list(deletion_lengths.keys()))}')\n",
    "print(f'Максимальная длина делеций: {max(list(deletion_lengths.keys()))}')\n",
    "\n",
    "n = len(list(deletion_lengths.keys()))\n",
    "M = []\n",
    "N = []\n",
    "for elem in deletion_lengths.keys():\n",
    "    M.append(elem)\n",
    "    N.append(np.log(deletion_lengths[elem]))\n",
    "\n",
    "plt.figure(figsize=(12, 8))\n",
    "plt.title('Deletion lengths')\n",
    "plt.scatter(M, N)"
   ]
  },
  {
   "cell_type": "code",
   "execution_count": 109,
   "metadata": {},
   "outputs": [
    {
     "name": "stdout",
     "output_type": "stream",
     "text": [
      "Медианная длина вставок: 220.5\n",
      "Минимальная длина вставок: 1\n",
      "Максимальная длина вставок: 2798\n"
     ]
    },
    {
     "data": {
      "text/plain": [
       "<matplotlib.collections.PathCollection at 0x11d7674f0>"
      ]
     },
     "execution_count": 109,
     "metadata": {},
     "output_type": "execute_result"
    },
    {
     "data": {
      "image/png": "[encoded data removed]",
      "text/plain": [
       "<Figure size 864x576 with 1 Axes>"
      ]
     },
     "metadata": {
      "needs_background": "light"
     },
     "output_type": "display_data"
    }
   ],
   "source": [
    "print(f'Медианная длина вставок: {np.median(list(insertion_lengths.keys()))}')\n",
    "print(f'Минимальная длина вставок: {min(list(insertion_lengths.keys()))}')\n",
    "print(f'Максимальная длина вставок: {max(list(insertion_lengths.keys()))}')\n",
    "\n",
    "n = len(list(insertion_lengths.keys()))\n",
    "M = []\n",
    "N = []\n",
    "for elem in insertion_lengths.keys():\n",
    "    M.append(elem)\n",
    "    N.append(np.log(insertion_lengths[elem]))\n",
    "\n",
    "plt.figure(figsize=(12, 8))\n",
    "plt.title('Insertion lengths')\n",
    "plt.scatter(M, N)"
   ]
  },
  {
   "cell_type": "code",
   "execution_count": 110,
   "metadata": {},
   "outputs": [
    {
     "name": "stdout",
     "output_type": "stream",
     "text": [
      "Медианная длина инделов: 228.0\n",
      "Минимальная длина инделов: 1\n",
      "Максимальная длина инделов: 2798\n"
     ]
    },
    {
     "data": {
      "text/plain": [
       "<matplotlib.collections.PathCollection at 0x11e228ee0>"
      ]
     },
     "execution_count": 110,
     "metadata": {},
     "output_type": "execute_result"
    },
    {
     "data": {
      "image/png": "[encoded data removed]",
      "text/plain": [
       "<Figure size 864x576 with 1 Axes>"
      ]
     },
     "metadata": {
      "needs_background": "light"
     },
     "output_type": "display_data"
    }
   ],
   "source": [
    "print(f'Медианная длина инделов: {np.median(list(indel_lengths.keys()))}')\n",
    "print(f'Минимальная длина инделов: {min(list(indel_lengths.keys()))}')\n",
    "print(f'Максимальная длина инделов: {max(list(indel_lengths.keys()))}')\n",
    "\n",
    "n = len(list(indel_lengths.keys()))\n",
    "M = []\n",
    "N = []\n",
    "for elem in indel_lengths.keys():\n",
    "    M.append(elem)\n",
    "    N.append(np.log(indel_lengths[elem]))\n",
    "\n",
    "plt.figure(figsize=(12, 8))\n",
    "plt.title('Indel lengths')\n",
    "plt.scatter(M, N)"
   ]
  },
  {
   "cell_type": "markdown",
   "metadata": {},
   "source": [
    "Риды Oxford Nanopores"
   ]
  },
  {
   "cell_type": "code",
   "execution_count": 111,
   "metadata": {},
   "outputs": [
    {
     "name": "stdout",
     "output_type": "stream",
     "text": [
      "Медианная длина делеций: 77.0\n",
      "Минимальная длина делеций: 1\n",
      "Максимальная длина делеций: 798\n"
     ]
    },
    {
     "data": {
      "text/plain": [
       "<matplotlib.collections.PathCollection at 0x11d752f40>"
      ]
     },
     "execution_count": 111,
     "metadata": {},
     "output_type": "execute_result"
    },
    {
     "data": {
      "image/png": "[encoded data removed]",
      "text/plain": [
       "<Figure size 864x576 with 1 Axes>"
      ]
     },
     "metadata": {
      "needs_background": "light"
     },
     "output_type": "display_data"
    }
   ],
   "source": [
    "deletion_lengths, insertion_lengths, indel_lengths = get_indel_lengths('alignment_ont.sam')\n",
    "print(f'Медианная длина делеций: {np.median(list(deletion_lengths.keys()))}')\n",
    "print(f'Минимальная длина делеций: {min(list(deletion_lengths.keys()))}')\n",
    "print(f'Максимальная длина делеций: {max(list(deletion_lengths.keys()))}')\n",
    "\n",
    "n = len(list(deletion_lengths.keys()))\n",
    "M = []\n",
    "N = []\n",
    "for elem in deletion_lengths.keys():\n",
    "    M.append(elem)\n",
    "    N.append(np.log(deletion_lengths[elem]))\n",
    "\n",
    "plt.figure(figsize=(12, 8))\n",
    "plt.title('Deletion lengths')\n",
    "plt.scatter(M, N)"
   ]
  },
  {
   "cell_type": "code",
   "execution_count": 112,
   "metadata": {},
   "outputs": [
    {
     "name": "stdout",
     "output_type": "stream",
     "text": [
      "Медианная длина вставок: 139.0\n",
      "Минимальная длина вставок: 1\n",
      "Максимальная длина вставок: 1196\n"
     ]
    },
    {
     "data": {
      "text/plain": [
       "<matplotlib.collections.PathCollection at 0x11d7d4490>"
      ]
     },
     "execution_count": 112,
     "metadata": {},
     "output_type": "execute_result"
    },
    {
     "data": {
      "image/png": "[encoded data removed]",
      "text/plain": [
       "<Figure size 864x576 with 1 Axes>"
      ]
     },
     "metadata": {
      "needs_background": "light"
     },
     "output_type": "display_data"
    }
   ],
   "source": [
    "print(f'Медианная длина вставок: {np.median(list(insertion_lengths.keys()))}')\n",
    "print(f'Минимальная длина вставок: {min(list(insertion_lengths.keys()))}')\n",
    "print(f'Максимальная длина вставок: {max(list(insertion_lengths.keys()))}')\n",
    "\n",
    "n = len(list(insertion_lengths.keys()))\n",
    "M = []\n",
    "N = []\n",
    "for elem in insertion_lengths.keys():\n",
    "    M.append(elem)\n",
    "    N.append(np.log(insertion_lengths[elem]))\n",
    "\n",
    "plt.figure(figsize=(12, 8))\n",
    "plt.title('Insertion lengths')\n",
    "plt.scatter(M, N)"
   ]
  },
  {
   "cell_type": "code",
   "execution_count": 113,
   "metadata": {},
   "outputs": [
    {
     "name": "stdout",
     "output_type": "stream",
     "text": [
      "Медианная длина инделов: 126.0\n",
      "Минимальная длина инделов: 1\n",
      "Максимальная длина инделов: 1196\n"
     ]
    },
    {
     "data": {
      "text/plain": [
       "<matplotlib.collections.PathCollection at 0x11db85ee0>"
      ]
     },
     "execution_count": 113,
     "metadata": {},
     "output_type": "execute_result"
    },
    {
     "data": {
      "image/png": "[encoded data removed]",
      "text/plain": [
       "<Figure size 864x576 with 1 Axes>"
      ]
     },
     "metadata": {
      "needs_background": "light"
     },
     "output_type": "display_data"
    }
   ],
   "source": [
    "print(f'Медианная длина инделов: {np.median(list(indel_lengths.keys()))}')\n",
    "print(f'Минимальная длина инделов: {min(list(indel_lengths.keys()))}')\n",
    "print(f'Максимальная длина инделов: {max(list(indel_lengths.keys()))}')\n",
    "\n",
    "n = len(list(indel_lengths.keys()))\n",
    "M = []\n",
    "N = []\n",
    "for elem in indel_lengths.keys():\n",
    "    M.append(elem)\n",
    "    N.append(np.log(indel_lengths[elem]))\n",
    "\n",
    "plt.figure(figsize=(12, 8))\n",
    "plt.title('Indel lengths')\n",
    "plt.scatter(M, N)"
   ]
  },
  {
   "cell_type": "markdown",
   "metadata": {},
   "source": [
    "У ридов Pacbio распределение длин делеций варьируется в большем диапазоне (до 1900 bp), чем у ридов Oxford Nanopore (до 798 bp), но медианная длина делеций у ридов обоих типов практически одинакова. То же верно и для распределения длин вставок: у ридов Pacbio распределение длин вставок варьируется от 1 до 2798 bp, тогда как у ридов Oxford Nanopores - от 1 до 1196 bp. Медианная длина вставок у Pacbio выше. Скетчи графиков распределений длин делеций / вставок / инделов в целом практически одинаковы. "
   ]
  },
  {
   "cell_type": "code",
   "execution_count": null,
   "metadata": {},
   "outputs": [],
   "source": []
  }
 ],
 "metadata": {
  "kernelspec": {
   "display_name": "Python 3",
   "language": "python",
   "name": "python3"
  },
  "language_info": {
   "codemirror_mode": {
    "name": "ipython",
    "version": 3
   },
   "file_extension": ".py",
   "mimetype": "text/x-python",
   "name": "python",
   "nbconvert_exporter": "python",
   "pygments_lexer": "ipython3",
   "version": "3.9.5"
  }
 },
 "nbformat": 4,
 "nbformat_minor": 2
}
