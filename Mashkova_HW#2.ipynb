{
 "cells": [
  {
   "cell_type": "code",
   "execution_count": 50,
   "metadata": {},
   "outputs": [],
   "source": [
    "import matplotlib.pyplot as plt\n",
    "import numpy as np\n",
    "from cigar import Cigar\n",
    "import seaborn as sns\n",
    "import pandas as pd"
   ]
  },
  {
   "cell_type": "markdown",
   "metadata": {},
   "source": [
    "### Часть 1"
   ]
  },
  {
   "cell_type": "markdown",
   "metadata": {},
   "source": [
    "#### Задание 0 (bwa)"
   ]
  },
  {
   "cell_type": "code",
   "execution_count": 2,
   "metadata": {},
   "outputs": [
    {
     "name": "stdout",
     "output_type": "stream",
     "text": [
      "[bwa_index] Pack FASTA... 0.03 sec\n",
      "[bwa_index] Construct BWT for the packed sequence...\n",
      "[bwa_index] 1.03 seconds elapse.\n",
      "[bwa_index] Update BWT... 0.02 sec\n",
      "[bwa_index] Pack forward-only FASTA... 0.01 sec\n",
      "[bwa_index] Construct SA from BWT and Occ... 0.30 sec\n",
      "[main] Version: 0.7.17-r1188\n",
      "[main] CMD: bwa index ./ref.fasta\n",
      "[main] Real time: 1.412 sec; CPU: 1.404 sec\n"
     ]
    }
   ],
   "source": [
    "! bwa index ./ref.fasta"
   ]
  },
  {
   "cell_type": "code",
   "execution_count": 3,
   "metadata": {},
   "outputs": [
    {
     "name": "stdout",
     "output_type": "stream",
     "text": [
      "[M::bwa_idx_load_from_disk] read 0 ALT contigs\n",
      "[M::process] read 66668 sequences (10000200 bp)...\n",
      "[M::process] read 66668 sequences (10000200 bp)...\n",
      "[M::mem_pestat] # candidate unique pairs for (FF, FR, RF, RR): (0, 32626, 1, 1)\n",
      "[M::mem_pestat] skip orientation FF as there are not enough pairs\n",
      "[M::mem_pestat] analyzing insert size distribution for orientation FR...\n",
      "[M::mem_pestat] (25, 50, 75) percentile: (221, 257, 304)\n",
      "[M::mem_pestat] low and high boundaries for computing mean and std.dev: (55, 470)\n",
      "[M::mem_pestat] mean and std.dev: (266.18, 60.78)\n",
      "[M::mem_pestat] low and high boundaries for proper pairs: (1, 553)\n",
      "[M::mem_pestat] skip orientation RF as there are not enough pairs\n",
      "[M::mem_pestat] skip orientation RR as there are not enough pairs\n",
      "[M::mem_process_seqs] Processed 66668 reads in 4.406 CPU sec, 4.365 real sec\n",
      "[M::process] read 66668 sequences (10000200 bp)...\n",
      "[M::mem_pestat] # candidate unique pairs for (FF, FR, RF, RR): (2, 32605, 0, 1)\n",
      "[M::mem_pestat] skip orientation FF as there are not enough pairs\n",
      "[M::mem_pestat] analyzing insert size distribution for orientation FR...\n",
      "[M::mem_pestat] (25, 50, 75) percentile: (222, 258, 306)\n",
      "[M::mem_pestat] low and high boundaries for computing mean and std.dev: (54, 474)\n",
      "[M::mem_pestat] mean and std.dev: (267.48, 62.01)\n",
      "[M::mem_pestat] low and high boundaries for proper pairs: (1, 558)\n",
      "[M::mem_pestat] skip orientation RF as there are not enough pairs\n",
      "[M::mem_pestat] skip orientation RR as there are not enough pairs\n",
      "[M::mem_process_seqs] Processed 66668 reads in 4.542 CPU sec, 4.434 real sec\n",
      "[M::process] read 66668 sequences (10000200 bp)...\n",
      "[M::mem_pestat] # candidate unique pairs for (FF, FR, RF, RR): (1, 32601, 0, 0)\n",
      "[M::mem_pestat] skip orientation FF as there are not enough pairs\n",
      "[M::mem_pestat] analyzing insert size distribution for orientation FR...\n",
      "[M::mem_pestat] (25, 50, 75) percentile: (221, 258, 306)\n",
      "[M::mem_pestat] low and high boundaries for computing mean and std.dev: (51, 476)\n",
      "[M::mem_pestat] mean and std.dev: (267.15, 61.93)\n",
      "[M::mem_pestat] low and high boundaries for proper pairs: (1, 561)\n",
      "[M::mem_pestat] skip orientation RF as there are not enough pairs\n",
      "[M::mem_pestat] skip orientation RR as there are not enough pairs\n",
      "[M::mem_process_seqs] Processed 66668 reads in 4.514 CPU sec, 4.402 real sec\n",
      "[M::process] read 66668 sequences (10000200 bp)...\n",
      "[M::mem_pestat] # candidate unique pairs for (FF, FR, RF, RR): (0, 32586, 0, 0)\n",
      "[M::mem_pestat] skip orientation FF as there are not enough pairs\n",
      "[M::mem_pestat] analyzing insert size distribution for orientation FR...\n",
      "[M::mem_pestat] (25, 50, 75) percentile: (221, 258, 306)\n",
      "[M::mem_pestat] low and high boundaries for computing mean and std.dev: (51, 476)\n",
      "[M::mem_pestat] mean and std.dev: (267.15, 62.12)\n",
      "[M::mem_pestat] low and high boundaries for proper pairs: (1, 561)\n",
      "[M::mem_pestat] skip orientation RF as there are not enough pairs\n",
      "[M::mem_pestat] skip orientation RR as there are not enough pairs\n",
      "[M::mem_process_seqs] Processed 66668 reads in 4.885 CPU sec, 4.800 real sec\n",
      "[M::process] read 66668 sequences (10000200 bp)...\n",
      "[M::mem_pestat] # candidate unique pairs for (FF, FR, RF, RR): (1, 32633, 0, 0)\n",
      "[M::mem_pestat] skip orientation FF as there are not enough pairs\n",
      "[M::mem_pestat] analyzing insert size distribution for orientation FR...\n",
      "[M::mem_pestat] (25, 50, 75) percentile: (222, 259, 305)\n",
      "[M::mem_pestat] low and high boundaries for computing mean and std.dev: (56, 471)\n",
      "[M::mem_pestat] mean and std.dev: (266.92, 61.05)\n",
      "[M::mem_pestat] low and high boundaries for proper pairs: (1, 554)\n",
      "[M::mem_pestat] skip orientation RF as there are not enough pairs\n",
      "[M::mem_pestat] skip orientation RR as there are not enough pairs\n",
      "[M::mem_process_seqs] Processed 66668 reads in 4.653 CPU sec, 4.537 real sec\n",
      "[M::process] read 66668 sequences (10000200 bp)...\n",
      "[M::mem_pestat] # candidate unique pairs for (FF, FR, RF, RR): (1, 32588, 0, 0)\n",
      "[M::mem_pestat] skip orientation FF as there are not enough pairs\n",
      "[M::mem_pestat] analyzing insert size distribution for orientation FR...\n",
      "[M::mem_pestat] (25, 50, 75) percentile: (221, 258, 305)\n",
      "[M::mem_pestat] low and high boundaries for computing mean and std.dev: (53, 473)\n",
      "[M::mem_pestat] mean and std.dev: (266.87, 61.74)\n",
      "[M::mem_pestat] low and high boundaries for proper pairs: (1, 557)\n",
      "[M::mem_pestat] skip orientation RF as there are not enough pairs\n",
      "[M::mem_pestat] skip orientation RR as there are not enough pairs\n",
      "[M::mem_process_seqs] Processed 66668 reads in 4.751 CPU sec, 4.645 real sec\n",
      "[M::process] read 66668 sequences (10000200 bp)...\n",
      "[M::mem_pestat] # candidate unique pairs for (FF, FR, RF, RR): (0, 32635, 0, 1)\n",
      "[M::mem_pestat] skip orientation FF as there are not enough pairs\n",
      "[M::mem_pestat] analyzing insert size distribution for orientation FR...\n",
      "[M::mem_pestat] (25, 50, 75) percentile: (221, 258, 305)\n",
      "[M::mem_pestat] low and high boundaries for computing mean and std.dev: (53, 473)\n",
      "[M::mem_pestat] mean and std.dev: (266.47, 61.28)\n",
      "[M::mem_pestat] low and high boundaries for proper pairs: (1, 557)\n",
      "[M::mem_pestat] skip orientation RF as there are not enough pairs\n",
      "[M::mem_pestat] skip orientation RR as there are not enough pairs\n",
      "[M::mem_process_seqs] Processed 66668 reads in 4.785 CPU sec, 4.685 real sec\n",
      "[M::process] read 66668 sequences (10000200 bp)...\n",
      "[M::mem_pestat] # candidate unique pairs for (FF, FR, RF, RR): (1, 32610, 0, 1)\n",
      "[M::mem_pestat] skip orientation FF as there are not enough pairs\n",
      "[M::mem_pestat] analyzing insert size distribution for orientation FR...\n",
      "[M::mem_pestat] (25, 50, 75) percentile: (221, 258, 305)\n",
      "[M::mem_pestat] low and high boundaries for computing mean and std.dev: (53, 473)\n",
      "[M::mem_pestat] mean and std.dev: (266.66, 61.46)\n",
      "[M::mem_pestat] low and high boundaries for proper pairs: (1, 557)\n",
      "[M::mem_pestat] skip orientation RF as there are not enough pairs\n",
      "[M::mem_pestat] skip orientation RR as there are not enough pairs\n",
      "[M::mem_process_seqs] Processed 66668 reads in 4.515 CPU sec, 4.399 real sec\n",
      "[M::process] read 66668 sequences (10000200 bp)...\n",
      "[M::mem_pestat] # candidate unique pairs for (FF, FR, RF, RR): (0, 32573, 0, 0)\n",
      "[M::mem_pestat] skip orientation FF as there are not enough pairs\n",
      "[M::mem_pestat] analyzing insert size distribution for orientation FR...\n",
      "[M::mem_pestat] (25, 50, 75) percentile: (222, 258, 305)\n",
      "[M::mem_pestat] low and high boundaries for computing mean and std.dev: (56, 471)\n",
      "[M::mem_pestat] mean and std.dev: (266.82, 61.28)\n",
      "[M::mem_pestat] low and high boundaries for proper pairs: (1, 554)\n",
      "[M::mem_pestat] skip orientation RF as there are not enough pairs\n",
      "[M::mem_pestat] skip orientation RR as there are not enough pairs\n",
      "[M::mem_process_seqs] Processed 66668 reads in 4.514 CPU sec, 4.398 real sec\n",
      "[M::process] read 66668 sequences (10000200 bp)...\n",
      "[M::mem_pestat] # candidate unique pairs for (FF, FR, RF, RR): (1, 32617, 0, 0)\n",
      "[M::mem_pestat] skip orientation FF as there are not enough pairs\n",
      "[M::mem_pestat] analyzing insert size distribution for orientation FR...\n",
      "[M::mem_pestat] (25, 50, 75) percentile: (222, 259, 305)\n",
      "[M::mem_pestat] low and high boundaries for computing mean and std.dev: (56, 471)\n",
      "[M::mem_pestat] mean and std.dev: (267.29, 61.54)\n",
      "[M::mem_pestat] low and high boundaries for proper pairs: (1, 554)\n",
      "[M::mem_pestat] skip orientation RF as there are not enough pairs\n",
      "[M::mem_pestat] skip orientation RR as there are not enough pairs\n",
      "[M::mem_process_seqs] Processed 66668 reads in 4.779 CPU sec, 4.675 real sec\n",
      "[M::process] read 66668 sequences (10000200 bp)...\n",
      "[M::mem_pestat] # candidate unique pairs for (FF, FR, RF, RR): (1, 32574, 0, 0)\n",
      "[M::mem_pestat] skip orientation FF as there are not enough pairs\n",
      "[M::mem_pestat] analyzing insert size distribution for orientation FR...\n",
      "[M::mem_pestat] (25, 50, 75) percentile: (222, 259, 306)\n",
      "[M::mem_pestat] low and high boundaries for computing mean and std.dev: (54, 474)\n",
      "[M::mem_pestat] mean and std.dev: (267.44, 61.67)\n",
      "[M::mem_pestat] low and high boundaries for proper pairs: (1, 558)\n",
      "[M::mem_pestat] skip orientation RF as there are not enough pairs\n",
      "[M::mem_pestat] skip orientation RR as there are not enough pairs\n",
      "[M::mem_process_seqs] Processed 66668 reads in 4.561 CPU sec, 4.448 real sec\n",
      "[M::process] read 66668 sequences (10000200 bp)...\n"
     ]
    },
    {
     "name": "stdout",
     "output_type": "stream",
     "text": [
      "[M::mem_pestat] # candidate unique pairs for (FF, FR, RF, RR): (0, 32582, 0, 0)\n",
      "[M::mem_pestat] skip orientation FF as there are not enough pairs\n",
      "[M::mem_pestat] analyzing insert size distribution for orientation FR...\n",
      "[M::mem_pestat] (25, 50, 75) percentile: (221, 258, 305)\n",
      "[M::mem_pestat] low and high boundaries for computing mean and std.dev: (53, 473)\n",
      "[M::mem_pestat] mean and std.dev: (266.69, 61.29)\n",
      "[M::mem_pestat] low and high boundaries for proper pairs: (1, 557)\n",
      "[M::mem_pestat] skip orientation RF as there are not enough pairs\n",
      "[M::mem_pestat] skip orientation RR as there are not enough pairs\n",
      "[M::mem_process_seqs] Processed 66668 reads in 4.850 CPU sec, 4.752 real sec\n",
      "[M::process] read 66668 sequences (10000200 bp)...\n",
      "[M::mem_pestat] # candidate unique pairs for (FF, FR, RF, RR): (2, 32586, 0, 0)\n",
      "[M::mem_pestat] skip orientation FF as there are not enough pairs\n",
      "[M::mem_pestat] analyzing insert size distribution for orientation FR...\n",
      "[M::mem_pestat] (25, 50, 75) percentile: (221, 258, 305)\n",
      "[M::mem_pestat] low and high boundaries for computing mean and std.dev: (53, 473)\n",
      "[M::mem_pestat] mean and std.dev: (266.83, 61.39)\n",
      "[M::mem_pestat] low and high boundaries for proper pairs: (1, 557)\n",
      "[M::mem_pestat] skip orientation RF as there are not enough pairs\n",
      "[M::mem_pestat] skip orientation RR as there are not enough pairs\n",
      "[M::mem_process_seqs] Processed 66668 reads in 4.544 CPU sec, 4.430 real sec\n",
      "[M::process] read 66668 sequences (10000200 bp)...\n",
      "[M::mem_pestat] # candidate unique pairs for (FF, FR, RF, RR): (1, 32580, 0, 0)\n",
      "[M::mem_pestat] skip orientation FF as there are not enough pairs\n",
      "[M::mem_pestat] analyzing insert size distribution for orientation FR...\n",
      "[M::mem_pestat] (25, 50, 75) percentile: (222, 259, 306)\n",
      "[M::mem_pestat] low and high boundaries for computing mean and std.dev: (54, 474)\n",
      "[M::mem_pestat] mean and std.dev: (267.49, 61.68)\n",
      "[M::mem_pestat] low and high boundaries for proper pairs: (1, 558)\n",
      "[M::mem_pestat] skip orientation RF as there are not enough pairs\n",
      "[M::mem_pestat] skip orientation RR as there are not enough pairs\n",
      "[M::mem_process_seqs] Processed 66668 reads in 4.687 CPU sec, 4.575 real sec\n",
      "[M::process] read 66668 sequences (10000200 bp)...\n",
      "[M::mem_pestat] # candidate unique pairs for (FF, FR, RF, RR): (1, 32591, 1, 0)\n",
      "[M::mem_pestat] skip orientation FF as there are not enough pairs\n",
      "[M::mem_pestat] analyzing insert size distribution for orientation FR...\n",
      "[M::mem_pestat] (25, 50, 75) percentile: (221, 258, 305)\n",
      "[M::mem_pestat] low and high boundaries for computing mean and std.dev: (53, 473)\n",
      "[M::mem_pestat] mean and std.dev: (266.73, 61.14)\n",
      "[M::mem_pestat] low and high boundaries for proper pairs: (1, 557)\n",
      "[M::mem_pestat] skip orientation RF as there are not enough pairs\n",
      "[M::mem_pestat] skip orientation RR as there are not enough pairs\n",
      "[M::mem_process_seqs] Processed 66668 reads in 4.556 CPU sec, 4.444 real sec\n",
      "[M::process] read 66668 sequences (10000200 bp)...\n",
      "[M::mem_pestat] # candidate unique pairs for (FF, FR, RF, RR): (2, 32591, 0, 0)\n",
      "[M::mem_pestat] skip orientation FF as there are not enough pairs\n",
      "[M::mem_pestat] analyzing insert size distribution for orientation FR...\n",
      "[M::mem_pestat] (25, 50, 75) percentile: (221, 258, 306)\n",
      "[M::mem_pestat] low and high boundaries for computing mean and std.dev: (51, 476)\n",
      "[M::mem_pestat] mean and std.dev: (266.91, 61.75)\n",
      "[M::mem_pestat] low and high boundaries for proper pairs: (1, 561)\n",
      "[M::mem_pestat] skip orientation RF as there are not enough pairs\n",
      "[M::mem_pestat] skip orientation RR as there are not enough pairs\n",
      "[M::mem_process_seqs] Processed 66668 reads in 4.882 CPU sec, 4.778 real sec\n",
      "[M::process] read 66668 sequences (10000200 bp)...\n",
      "[M::mem_pestat] # candidate unique pairs for (FF, FR, RF, RR): (0, 32550, 0, 0)\n",
      "[M::mem_pestat] skip orientation FF as there are not enough pairs\n",
      "[M::mem_pestat] analyzing insert size distribution for orientation FR...\n",
      "[M::mem_pestat] (25, 50, 75) percentile: (221, 257, 305)\n",
      "[M::mem_pestat] low and high boundaries for computing mean and std.dev: (53, 473)\n",
      "[M::mem_pestat] mean and std.dev: (266.37, 61.36)\n",
      "[M::mem_pestat] low and high boundaries for proper pairs: (1, 557)\n",
      "[M::mem_pestat] skip orientation RF as there are not enough pairs\n",
      "[M::mem_pestat] skip orientation RR as there are not enough pairs\n",
      "[M::mem_process_seqs] Processed 66668 reads in 4.528 CPU sec, 4.405 real sec\n",
      "[M::process] read 66668 sequences (10000200 bp)...\n",
      "[M::mem_pestat] # candidate unique pairs for (FF, FR, RF, RR): (0, 32590, 0, 0)\n",
      "[M::mem_pestat] skip orientation FF as there are not enough pairs\n",
      "[M::mem_pestat] analyzing insert size distribution for orientation FR...\n",
      "[M::mem_pestat] (25, 50, 75) percentile: (221, 258, 306)\n",
      "[M::mem_pestat] low and high boundaries for computing mean and std.dev: (51, 476)\n",
      "[M::mem_pestat] mean and std.dev: (267.18, 61.70)\n",
      "[M::mem_pestat] low and high boundaries for proper pairs: (1, 561)\n",
      "[M::mem_pestat] skip orientation RF as there are not enough pairs\n",
      "[M::mem_pestat] skip orientation RR as there are not enough pairs\n",
      "[M::mem_process_seqs] Processed 66668 reads in 4.478 CPU sec, 4.352 real sec\n",
      "[M::process] read 66668 sequences (10000200 bp)...\n",
      "[M::mem_pestat] # candidate unique pairs for (FF, FR, RF, RR): (1, 32577, 0, 0)\n",
      "[M::mem_pestat] skip orientation FF as there are not enough pairs\n",
      "[M::mem_pestat] analyzing insert size distribution for orientation FR...\n",
      "[M::mem_pestat] (25, 50, 75) percentile: (222, 258, 305)\n",
      "[M::mem_pestat] low and high boundaries for computing mean and std.dev: (56, 471)\n",
      "[M::mem_pestat] mean and std.dev: (266.74, 61.38)\n",
      "[M::mem_pestat] low and high boundaries for proper pairs: (1, 554)\n",
      "[M::mem_pestat] skip orientation RF as there are not enough pairs\n",
      "[M::mem_pestat] skip orientation RR as there are not enough pairs\n",
      "[M::mem_process_seqs] Processed 66668 reads in 4.487 CPU sec, 4.366 real sec\n",
      "[M::process] read 66668 sequences (10000200 bp)...\n",
      "[M::mem_pestat] # candidate unique pairs for (FF, FR, RF, RR): (0, 32606, 1, 0)\n",
      "[M::mem_pestat] skip orientation FF as there are not enough pairs\n",
      "[M::mem_pestat] analyzing insert size distribution for orientation FR...\n",
      "[M::mem_pestat] (25, 50, 75) percentile: (221, 257, 306)\n",
      "[M::mem_pestat] low and high boundaries for computing mean and std.dev: (51, 476)\n",
      "[M::mem_pestat] mean and std.dev: (266.74, 61.92)\n",
      "[M::mem_pestat] low and high boundaries for proper pairs: (1, 561)\n",
      "[M::mem_pestat] skip orientation RF as there are not enough pairs\n",
      "[M::mem_pestat] skip orientation RR as there are not enough pairs\n",
      "[M::mem_process_seqs] Processed 66668 reads in 4.479 CPU sec, 4.349 real sec\n",
      "[M::process] read 66668 sequences (10000200 bp)...\n",
      "[M::mem_pestat] # candidate unique pairs for (FF, FR, RF, RR): (0, 32602, 0, 0)\n",
      "[M::mem_pestat] skip orientation FF as there are not enough pairs\n",
      "[M::mem_pestat] analyzing insert size distribution for orientation FR...\n",
      "[M::mem_pestat] (25, 50, 75) percentile: (222, 258, 306)\n",
      "[M::mem_pestat] low and high boundaries for computing mean and std.dev: (54, 474)\n",
      "[M::mem_pestat] mean and std.dev: (267.22, 61.36)\n",
      "[M::mem_pestat] low and high boundaries for proper pairs: (1, 558)\n",
      "[M::mem_pestat] skip orientation RF as there are not enough pairs\n",
      "[M::mem_pestat] skip orientation RR as there are not enough pairs\n",
      "[M::mem_process_seqs] Processed 66668 reads in 4.511 CPU sec, 4.385 real sec\n",
      "[M::process] read 66668 sequences (10000200 bp)...\n",
      "[M::mem_pestat] # candidate unique pairs for (FF, FR, RF, RR): (1, 32574, 0, 0)\n",
      "[M::mem_pestat] skip orientation FF as there are not enough pairs\n",
      "[M::mem_pestat] analyzing insert size distribution for orientation FR...\n",
      "[M::mem_pestat] (25, 50, 75) percentile: (222, 259, 306)\n",
      "[M::mem_pestat] low and high boundaries for computing mean and std.dev: (54, 474)\n",
      "[M::mem_pestat] mean and std.dev: (267.60, 61.83)\n",
      "[M::mem_pestat] low and high boundaries for proper pairs: (1, 558)\n",
      "[M::mem_pestat] skip orientation RF as there are not enough pairs\n",
      "[M::mem_pestat] skip orientation RR as there are not enough pairs\n",
      "[M::mem_process_seqs] Processed 66668 reads in 4.493 CPU sec, 4.363 real sec\n",
      "[M::process] read 66668 sequences (10000200 bp)...\n",
      "[M::mem_pestat] # candidate unique pairs for (FF, FR, RF, RR): (1, 32635, 0, 0)\n",
      "[M::mem_pestat] skip orientation FF as there are not enough pairs\n",
      "[M::mem_pestat] analyzing insert size distribution for orientation FR...\n",
      "[M::mem_pestat] (25, 50, 75) percentile: (222, 258, 306)\n",
      "[M::mem_pestat] low and high boundaries for computing mean and std.dev: (54, 474)\n",
      "[M::mem_pestat] mean and std.dev: (267.37, 61.53)\n",
      "[M::mem_pestat] low and high boundaries for proper pairs: (1, 558)\n",
      "[M::mem_pestat] skip orientation RF as there are not enough pairs\n",
      "[M::mem_pestat] skip orientation RR as there are not enough pairs\n"
     ]
    },
    {
     "name": "stdout",
     "output_type": "stream",
     "text": [
      "[M::mem_process_seqs] Processed 66668 reads in 4.608 CPU sec, 4.493 real sec\n",
      "[M::process] read 66668 sequences (10000200 bp)...\n",
      "[M::mem_pestat] # candidate unique pairs for (FF, FR, RF, RR): (0, 32632, 0, 0)\n",
      "[M::mem_pestat] skip orientation FF as there are not enough pairs\n",
      "[M::mem_pestat] analyzing insert size distribution for orientation FR...\n",
      "[M::mem_pestat] (25, 50, 75) percentile: (221, 258, 304)\n",
      "[M::mem_pestat] low and high boundaries for computing mean and std.dev: (55, 470)\n",
      "[M::mem_pestat] mean and std.dev: (266.27, 60.83)\n",
      "[M::mem_pestat] low and high boundaries for proper pairs: (1, 553)\n",
      "[M::mem_pestat] skip orientation RF as there are not enough pairs\n",
      "[M::mem_pestat] skip orientation RR as there are not enough pairs\n",
      "[M::mem_process_seqs] Processed 66668 reads in 4.342 CPU sec, 4.216 real sec\n",
      "[M::process] read 66668 sequences (10000200 bp)...\n",
      "[M::mem_pestat] # candidate unique pairs for (FF, FR, RF, RR): (1, 32642, 0, 0)\n",
      "[M::mem_pestat] skip orientation FF as there are not enough pairs\n",
      "[M::mem_pestat] analyzing insert size distribution for orientation FR...\n",
      "[M::mem_pestat] (25, 50, 75) percentile: (222, 259, 306)\n",
      "[M::mem_pestat] low and high boundaries for computing mean and std.dev: (54, 474)\n",
      "[M::mem_pestat] mean and std.dev: (267.83, 61.77)\n",
      "[M::mem_pestat] low and high boundaries for proper pairs: (1, 558)\n",
      "[M::mem_pestat] skip orientation RF as there are not enough pairs\n",
      "[M::mem_pestat] skip orientation RR as there are not enough pairs\n",
      "[M::mem_process_seqs] Processed 66668 reads in 4.336 CPU sec, 4.205 real sec\n",
      "[M::process] read 66668 sequences (10000200 bp)...\n",
      "[M::mem_pestat] # candidate unique pairs for (FF, FR, RF, RR): (0, 32619, 0, 1)\n",
      "[M::mem_pestat] skip orientation FF as there are not enough pairs\n",
      "[M::mem_pestat] analyzing insert size distribution for orientation FR...\n",
      "[M::mem_pestat] (25, 50, 75) percentile: (222, 258, 304)\n",
      "[M::mem_pestat] low and high boundaries for computing mean and std.dev: (58, 468)\n",
      "[M::mem_pestat] mean and std.dev: (266.85, 61.40)\n",
      "[M::mem_pestat] low and high boundaries for proper pairs: (1, 550)\n",
      "[M::mem_pestat] skip orientation RF as there are not enough pairs\n",
      "[M::mem_pestat] skip orientation RR as there are not enough pairs\n",
      "[M::mem_process_seqs] Processed 66668 reads in 4.612 CPU sec, 4.501 real sec\n",
      "[M::process] read 66668 sequences (10000200 bp)...\n",
      "[M::mem_pestat] # candidate unique pairs for (FF, FR, RF, RR): (1, 32576, 0, 0)\n",
      "[M::mem_pestat] skip orientation FF as there are not enough pairs\n",
      "[M::mem_pestat] analyzing insert size distribution for orientation FR...\n",
      "[M::mem_pestat] (25, 50, 75) percentile: (222, 258, 305)\n",
      "[M::mem_pestat] low and high boundaries for computing mean and std.dev: (56, 471)\n",
      "[M::mem_pestat] mean and std.dev: (266.67, 61.49)\n",
      "[M::mem_pestat] low and high boundaries for proper pairs: (1, 554)\n",
      "[M::mem_pestat] skip orientation RF as there are not enough pairs\n",
      "[M::mem_pestat] skip orientation RR as there are not enough pairs\n",
      "[M::mem_process_seqs] Processed 66668 reads in 4.567 CPU sec, 4.456 real sec\n",
      "[M::process] read 66668 sequences (10000200 bp)...\n",
      "[M::mem_pestat] # candidate unique pairs for (FF, FR, RF, RR): (2, 32557, 1, 0)\n",
      "[M::mem_pestat] skip orientation FF as there are not enough pairs\n",
      "[M::mem_pestat] analyzing insert size distribution for orientation FR...\n",
      "[M::mem_pestat] (25, 50, 75) percentile: (221, 258, 305)\n",
      "[M::mem_pestat] low and high boundaries for computing mean and std.dev: (53, 473)\n",
      "[M::mem_pestat] mean and std.dev: (266.83, 61.49)\n",
      "[M::mem_pestat] low and high boundaries for proper pairs: (1, 557)\n",
      "[M::mem_pestat] skip orientation RF as there are not enough pairs\n",
      "[M::mem_pestat] skip orientation RR as there are not enough pairs\n",
      "[M::mem_process_seqs] Processed 66668 reads in 4.519 CPU sec, 4.399 real sec\n",
      "[M::process] read 66668 sequences (10000200 bp)...\n",
      "[M::mem_pestat] # candidate unique pairs for (FF, FR, RF, RR): (0, 32634, 0, 0)\n",
      "[M::mem_pestat] skip orientation FF as there are not enough pairs\n",
      "[M::mem_pestat] analyzing insert size distribution for orientation FR...\n",
      "[M::mem_pestat] (25, 50, 75) percentile: (222, 258, 305)\n",
      "[M::mem_pestat] low and high boundaries for computing mean and std.dev: (56, 471)\n",
      "[M::mem_pestat] mean and std.dev: (266.97, 61.37)\n",
      "[M::mem_pestat] low and high boundaries for proper pairs: (1, 554)\n",
      "[M::mem_pestat] skip orientation RF as there are not enough pairs\n",
      "[M::mem_pestat] skip orientation RR as there are not enough pairs\n",
      "[M::mem_process_seqs] Processed 66668 reads in 4.476 CPU sec, 4.347 real sec\n",
      "[M::process] read 66668 sequences (10000200 bp)...\n",
      "[M::mem_pestat] # candidate unique pairs for (FF, FR, RF, RR): (3, 32626, 0, 0)\n",
      "[M::mem_pestat] skip orientation FF as there are not enough pairs\n",
      "[M::mem_pestat] analyzing insert size distribution for orientation FR...\n",
      "[M::mem_pestat] (25, 50, 75) percentile: (221, 258, 306)\n",
      "[M::mem_pestat] low and high boundaries for computing mean and std.dev: (51, 476)\n",
      "[M::mem_pestat] mean and std.dev: (267.19, 61.96)\n",
      "[M::mem_pestat] low and high boundaries for proper pairs: (1, 561)\n",
      "[M::mem_pestat] skip orientation RF as there are not enough pairs\n",
      "[M::mem_pestat] skip orientation RR as there are not enough pairs\n",
      "[M::mem_process_seqs] Processed 66668 reads in 4.467 CPU sec, 4.344 real sec\n",
      "[M::process] read 66668 sequences (10000200 bp)...\n",
      "[M::mem_pestat] # candidate unique pairs for (FF, FR, RF, RR): (0, 32572, 0, 0)\n",
      "[M::mem_pestat] skip orientation FF as there are not enough pairs\n",
      "[M::mem_pestat] analyzing insert size distribution for orientation FR...\n",
      "[M::mem_pestat] (25, 50, 75) percentile: (221, 257, 304)\n",
      "[M::mem_pestat] low and high boundaries for computing mean and std.dev: (55, 470)\n",
      "[M::mem_pestat] mean and std.dev: (265.87, 60.95)\n",
      "[M::mem_pestat] low and high boundaries for proper pairs: (1, 553)\n",
      "[M::mem_pestat] skip orientation RF as there are not enough pairs\n",
      "[M::mem_pestat] skip orientation RR as there are not enough pairs\n",
      "[M::mem_process_seqs] Processed 66668 reads in 4.494 CPU sec, 4.376 real sec\n",
      "[M::process] read 66668 sequences (10000200 bp)...\n",
      "[M::mem_pestat] # candidate unique pairs for (FF, FR, RF, RR): (0, 32626, 0, 0)\n",
      "[M::mem_pestat] skip orientation FF as there are not enough pairs\n",
      "[M::mem_pestat] analyzing insert size distribution for orientation FR...\n",
      "[M::mem_pestat] (25, 50, 75) percentile: (222, 259, 306)\n",
      "[M::mem_pestat] low and high boundaries for computing mean and std.dev: (54, 474)\n",
      "[M::mem_pestat] mean and std.dev: (267.52, 61.74)\n",
      "[M::mem_pestat] low and high boundaries for proper pairs: (1, 558)\n",
      "[M::mem_pestat] skip orientation RF as there are not enough pairs\n",
      "[M::mem_pestat] skip orientation RR as there are not enough pairs\n",
      "[M::mem_process_seqs] Processed 66668 reads in 4.400 CPU sec, 4.285 real sec\n",
      "[M::process] read 66668 sequences (10000200 bp)...\n",
      "[M::mem_pestat] # candidate unique pairs for (FF, FR, RF, RR): (0, 32559, 0, 0)\n",
      "[M::mem_pestat] skip orientation FF as there are not enough pairs\n",
      "[M::mem_pestat] analyzing insert size distribution for orientation FR...\n",
      "[M::mem_pestat] (25, 50, 75) percentile: (222, 258, 305)\n",
      "[M::mem_pestat] low and high boundaries for computing mean and std.dev: (56, 471)\n",
      "[M::mem_pestat] mean and std.dev: (266.74, 61.04)\n",
      "[M::mem_pestat] low and high boundaries for proper pairs: (1, 554)\n",
      "[M::mem_pestat] skip orientation RF as there are not enough pairs\n",
      "[M::mem_pestat] skip orientation RR as there are not enough pairs\n",
      "[M::mem_process_seqs] Processed 66668 reads in 4.791 CPU sec, 4.692 real sec\n",
      "[M::process] read 66668 sequences (10000200 bp)...\n",
      "[M::mem_pestat] # candidate unique pairs for (FF, FR, RF, RR): (2, 32607, 1, 0)\n",
      "[M::mem_pestat] skip orientation FF as there are not enough pairs\n",
      "[M::mem_pestat] analyzing insert size distribution for orientation FR...\n",
      "[M::mem_pestat] (25, 50, 75) percentile: (222, 258, 305)\n",
      "[M::mem_pestat] low and high boundaries for computing mean and std.dev: (56, 471)\n",
      "[M::mem_pestat] mean and std.dev: (266.70, 61.52)\n",
      "[M::mem_pestat] low and high boundaries for proper pairs: (1, 554)\n",
      "[M::mem_pestat] skip orientation RF as there are not enough pairs\n",
      "[M::mem_pestat] skip orientation RR as there are not enough pairs\n",
      "[M::mem_process_seqs] Processed 66668 reads in 4.971 CPU sec, 4.880 real sec\n",
      "[M::process] read 66668 sequences (10000200 bp)...\n"
     ]
    },
    {
     "name": "stdout",
     "output_type": "stream",
     "text": [
      "[M::mem_pestat] # candidate unique pairs for (FF, FR, RF, RR): (2, 32588, 0, 0)\n",
      "[M::mem_pestat] skip orientation FF as there are not enough pairs\n",
      "[M::mem_pestat] analyzing insert size distribution for orientation FR...\n",
      "[M::mem_pestat] (25, 50, 75) percentile: (222, 258, 306)\n",
      "[M::mem_pestat] low and high boundaries for computing mean and std.dev: (54, 474)\n",
      "[M::mem_pestat] mean and std.dev: (267.22, 61.54)\n",
      "[M::mem_pestat] low and high boundaries for proper pairs: (1, 558)\n",
      "[M::mem_pestat] skip orientation RF as there are not enough pairs\n",
      "[M::mem_pestat] skip orientation RR as there are not enough pairs\n",
      "[M::mem_process_seqs] Processed 66668 reads in 4.672 CPU sec, 4.566 real sec\n",
      "[M::process] read 66668 sequences (10000200 bp)...\n",
      "[M::mem_pestat] # candidate unique pairs for (FF, FR, RF, RR): (2, 32605, 0, 0)\n",
      "[M::mem_pestat] skip orientation FF as there are not enough pairs\n",
      "[M::mem_pestat] analyzing insert size distribution for orientation FR...\n",
      "[M::mem_pestat] (25, 50, 75) percentile: (222, 258, 305)\n",
      "[M::mem_pestat] low and high boundaries for computing mean and std.dev: (56, 471)\n",
      "[M::mem_pestat] mean and std.dev: (266.69, 61.18)\n",
      "[M::mem_pestat] low and high boundaries for proper pairs: (1, 554)\n",
      "[M::mem_pestat] skip orientation RF as there are not enough pairs\n",
      "[M::mem_pestat] skip orientation RR as there are not enough pairs\n",
      "[M::mem_process_seqs] Processed 66668 reads in 4.506 CPU sec, 4.400 real sec\n",
      "[M::process] read 66668 sequences (10000200 bp)...\n",
      "[M::mem_pestat] # candidate unique pairs for (FF, FR, RF, RR): (0, 32628, 0, 0)\n",
      "[M::mem_pestat] skip orientation FF as there are not enough pairs\n",
      "[M::mem_pestat] analyzing insert size distribution for orientation FR...\n",
      "[M::mem_pestat] (25, 50, 75) percentile: (222, 258, 305)\n",
      "[M::mem_pestat] low and high boundaries for computing mean and std.dev: (56, 471)\n",
      "[M::mem_pestat] mean and std.dev: (266.65, 61.35)\n",
      "[M::mem_pestat] low and high boundaries for proper pairs: (1, 554)\n",
      "[M::mem_pestat] skip orientation RF as there are not enough pairs\n",
      "[M::mem_pestat] skip orientation RR as there are not enough pairs\n",
      "[M::mem_process_seqs] Processed 66668 reads in 4.687 CPU sec, 4.578 real sec\n",
      "[M::process] read 66668 sequences (10000200 bp)...\n",
      "[M::mem_pestat] # candidate unique pairs for (FF, FR, RF, RR): (1, 32602, 0, 0)\n",
      "[M::mem_pestat] skip orientation FF as there are not enough pairs\n",
      "[M::mem_pestat] analyzing insert size distribution for orientation FR...\n",
      "[M::mem_pestat] (25, 50, 75) percentile: (222, 257, 305)\n",
      "[M::mem_pestat] low and high boundaries for computing mean and std.dev: (56, 471)\n",
      "[M::mem_pestat] mean and std.dev: (266.60, 61.27)\n",
      "[M::mem_pestat] low and high boundaries for proper pairs: (1, 554)\n",
      "[M::mem_pestat] skip orientation RF as there are not enough pairs\n",
      "[M::mem_pestat] skip orientation RR as there are not enough pairs\n",
      "[M::mem_process_seqs] Processed 66668 reads in 4.559 CPU sec, 4.447 real sec\n",
      "[M::process] read 66668 sequences (10000200 bp)...\n",
      "[M::mem_pestat] # candidate unique pairs for (FF, FR, RF, RR): (0, 32581, 0, 1)\n",
      "[M::mem_pestat] skip orientation FF as there are not enough pairs\n",
      "[M::mem_pestat] analyzing insert size distribution for orientation FR...\n",
      "[M::mem_pestat] (25, 50, 75) percentile: (222, 259, 306)\n",
      "[M::mem_pestat] low and high boundaries for computing mean and std.dev: (54, 474)\n",
      "[M::mem_pestat] mean and std.dev: (267.59, 61.68)\n",
      "[M::mem_pestat] low and high boundaries for proper pairs: (1, 558)\n",
      "[M::mem_pestat] skip orientation RF as there are not enough pairs\n",
      "[M::mem_pestat] skip orientation RR as there are not enough pairs\n",
      "[M::mem_process_seqs] Processed 66668 reads in 4.461 CPU sec, 4.344 real sec\n",
      "[M::process] read 66668 sequences (10000200 bp)...\n",
      "[M::mem_pestat] # candidate unique pairs for (FF, FR, RF, RR): (0, 32600, 0, 1)\n",
      "[M::mem_pestat] skip orientation FF as there are not enough pairs\n",
      "[M::mem_pestat] analyzing insert size distribution for orientation FR...\n",
      "[M::mem_pestat] (25, 50, 75) percentile: (221, 258, 306)\n",
      "[M::mem_pestat] low and high boundaries for computing mean and std.dev: (51, 476)\n",
      "[M::mem_pestat] mean and std.dev: (266.97, 61.83)\n",
      "[M::mem_pestat] low and high boundaries for proper pairs: (1, 561)\n",
      "[M::mem_pestat] skip orientation RF as there are not enough pairs\n",
      "[M::mem_pestat] skip orientation RR as there are not enough pairs\n",
      "[M::mem_process_seqs] Processed 66668 reads in 4.553 CPU sec, 4.441 real sec\n",
      "[M::process] read 66668 sequences (10000200 bp)...\n",
      "[M::mem_pestat] # candidate unique pairs for (FF, FR, RF, RR): (0, 32598, 0, 0)\n",
      "[M::mem_pestat] skip orientation FF as there are not enough pairs\n",
      "[M::mem_pestat] analyzing insert size distribution for orientation FR...\n",
      "[M::mem_pestat] (25, 50, 75) percentile: (221, 258, 306)\n",
      "[M::mem_pestat] low and high boundaries for computing mean and std.dev: (51, 476)\n",
      "[M::mem_pestat] mean and std.dev: (267.24, 61.91)\n",
      "[M::mem_pestat] low and high boundaries for proper pairs: (1, 561)\n",
      "[M::mem_pestat] skip orientation RF as there are not enough pairs\n",
      "[M::mem_pestat] skip orientation RR as there are not enough pairs\n",
      "[M::mem_process_seqs] Processed 66668 reads in 4.496 CPU sec, 4.379 real sec\n",
      "[M::process] read 66668 sequences (10000200 bp)...\n",
      "[M::mem_pestat] # candidate unique pairs for (FF, FR, RF, RR): (1, 32587, 0, 0)\n",
      "[M::mem_pestat] skip orientation FF as there are not enough pairs\n",
      "[M::mem_pestat] analyzing insert size distribution for orientation FR...\n",
      "[M::mem_pestat] (25, 50, 75) percentile: (222, 258, 306)\n",
      "[M::mem_pestat] low and high boundaries for computing mean and std.dev: (54, 474)\n",
      "[M::mem_pestat] mean and std.dev: (267.26, 61.57)\n",
      "[M::mem_pestat] low and high boundaries for proper pairs: (1, 558)\n",
      "[M::mem_pestat] skip orientation RF as there are not enough pairs\n",
      "[M::mem_pestat] skip orientation RR as there are not enough pairs\n",
      "[M::mem_process_seqs] Processed 66668 reads in 4.500 CPU sec, 4.382 real sec\n",
      "[M::process] read 66668 sequences (10000200 bp)...\n",
      "[M::mem_pestat] # candidate unique pairs for (FF, FR, RF, RR): (1, 32564, 0, 0)\n",
      "[M::mem_pestat] skip orientation FF as there are not enough pairs\n",
      "[M::mem_pestat] analyzing insert size distribution for orientation FR...\n",
      "[M::mem_pestat] (25, 50, 75) percentile: (222, 258, 305)\n",
      "[M::mem_pestat] low and high boundaries for computing mean and std.dev: (56, 471)\n",
      "[M::mem_pestat] mean and std.dev: (266.81, 61.25)\n",
      "[M::mem_pestat] low and high boundaries for proper pairs: (1, 554)\n",
      "[M::mem_pestat] skip orientation RF as there are not enough pairs\n",
      "[M::mem_pestat] skip orientation RR as there are not enough pairs\n",
      "[M::mem_process_seqs] Processed 66668 reads in 4.520 CPU sec, 4.405 real sec\n",
      "[M::process] read 66668 sequences (10000200 bp)...\n",
      "[M::mem_pestat] # candidate unique pairs for (FF, FR, RF, RR): (0, 32599, 0, 0)\n",
      "[M::mem_pestat] skip orientation FF as there are not enough pairs\n",
      "[M::mem_pestat] analyzing insert size distribution for orientation FR...\n",
      "[M::mem_pestat] (25, 50, 75) percentile: (222, 258, 306)\n",
      "[M::mem_pestat] low and high boundaries for computing mean and std.dev: (54, 474)\n",
      "[M::mem_pestat] mean and std.dev: (267.42, 61.79)\n",
      "[M::mem_pestat] low and high boundaries for proper pairs: (1, 558)\n",
      "[M::mem_pestat] skip orientation RF as there are not enough pairs\n",
      "[M::mem_pestat] skip orientation RR as there are not enough pairs\n",
      "[M::mem_process_seqs] Processed 66668 reads in 4.592 CPU sec, 4.479 real sec\n",
      "[M::process] read 66668 sequences (10000200 bp)...\n",
      "[M::mem_pestat] # candidate unique pairs for (FF, FR, RF, RR): (1, 32618, 0, 0)\n",
      "[M::mem_pestat] skip orientation FF as there are not enough pairs\n",
      "[M::mem_pestat] analyzing insert size distribution for orientation FR...\n",
      "[M::mem_pestat] (25, 50, 75) percentile: (222, 259, 306)\n",
      "[M::mem_pestat] low and high boundaries for computing mean and std.dev: (54, 474)\n",
      "[M::mem_pestat] mean and std.dev: (267.36, 61.39)\n",
      "[M::mem_pestat] low and high boundaries for proper pairs: (1, 558)\n",
      "[M::mem_pestat] skip orientation RF as there are not enough pairs\n",
      "[M::mem_pestat] skip orientation RR as there are not enough pairs\n",
      "[M::mem_process_seqs] Processed 66668 reads in 4.570 CPU sec, 4.453 real sec\n",
      "[M::process] read 66668 sequences (10000200 bp)...\n",
      "[M::mem_pestat] # candidate unique pairs for (FF, FR, RF, RR): (1, 32602, 0, 0)\n",
      "[M::mem_pestat] skip orientation FF as there are not enough pairs\n",
      "[M::mem_pestat] analyzing insert size distribution for orientation FR...\n",
      "[M::mem_pestat] (25, 50, 75) percentile: (222, 258, 306)\n",
      "[M::mem_pestat] low and high boundaries for computing mean and std.dev: (54, 474)\n",
      "[M::mem_pestat] mean and std.dev: (267.23, 61.57)\n",
      "[M::mem_pestat] low and high boundaries for proper pairs: (1, 558)\n",
      "[M::mem_pestat] skip orientation RF as there are not enough pairs\n",
      "[M::mem_pestat] skip orientation RR as there are not enough pairs\n"
     ]
    },
    {
     "name": "stdout",
     "output_type": "stream",
     "text": [
      "[M::mem_process_seqs] Processed 66668 reads in 4.822 CPU sec, 4.726 real sec\n",
      "[M::process] read 66668 sequences (10000200 bp)...\n",
      "[M::mem_pestat] # candidate unique pairs for (FF, FR, RF, RR): (1, 32604, 0, 0)\n",
      "[M::mem_pestat] skip orientation FF as there are not enough pairs\n",
      "[M::mem_pestat] analyzing insert size distribution for orientation FR...\n",
      "[M::mem_pestat] (25, 50, 75) percentile: (221, 258, 305)\n",
      "[M::mem_pestat] low and high boundaries for computing mean and std.dev: (53, 473)\n",
      "[M::mem_pestat] mean and std.dev: (266.60, 61.19)\n",
      "[M::mem_pestat] low and high boundaries for proper pairs: (1, 557)\n",
      "[M::mem_pestat] skip orientation RF as there are not enough pairs\n",
      "[M::mem_pestat] skip orientation RR as there are not enough pairs\n",
      "[M::mem_process_seqs] Processed 66668 reads in 4.379 CPU sec, 4.248 real sec\n",
      "[M::process] read 66668 sequences (10000200 bp)...\n",
      "[M::mem_pestat] # candidate unique pairs for (FF, FR, RF, RR): (0, 32649, 0, 0)\n",
      "[M::mem_pestat] skip orientation FF as there are not enough pairs\n",
      "[M::mem_pestat] analyzing insert size distribution for orientation FR...\n",
      "[M::mem_pestat] (25, 50, 75) percentile: (222, 258, 305)\n",
      "[M::mem_pestat] low and high boundaries for computing mean and std.dev: (56, 471)\n",
      "[M::mem_pestat] mean and std.dev: (266.79, 61.29)\n",
      "[M::mem_pestat] low and high boundaries for proper pairs: (1, 554)\n",
      "[M::mem_pestat] skip orientation RF as there are not enough pairs\n",
      "[M::mem_pestat] skip orientation RR as there are not enough pairs\n",
      "[M::mem_process_seqs] Processed 66668 reads in 4.504 CPU sec, 4.390 real sec\n",
      "[M::process] read 66668 sequences (10000200 bp)...\n",
      "[M::mem_pestat] # candidate unique pairs for (FF, FR, RF, RR): (1, 32600, 0, 0)\n",
      "[M::mem_pestat] skip orientation FF as there are not enough pairs\n",
      "[M::mem_pestat] analyzing insert size distribution for orientation FR...\n",
      "[M::mem_pestat] (25, 50, 75) percentile: (222, 259, 306)\n",
      "[M::mem_pestat] low and high boundaries for computing mean and std.dev: (54, 474)\n",
      "[M::mem_pestat] mean and std.dev: (267.48, 61.59)\n",
      "[M::mem_pestat] low and high boundaries for proper pairs: (1, 558)\n",
      "[M::mem_pestat] skip orientation RF as there are not enough pairs\n",
      "[M::mem_pestat] skip orientation RR as there are not enough pairs\n",
      "[M::mem_process_seqs] Processed 66668 reads in 4.457 CPU sec, 4.342 real sec\n",
      "[M::process] read 66668 sequences (10000200 bp)...\n",
      "[M::mem_pestat] # candidate unique pairs for (FF, FR, RF, RR): (0, 32598, 0, 0)\n",
      "[M::mem_pestat] skip orientation FF as there are not enough pairs\n",
      "[M::mem_pestat] analyzing insert size distribution for orientation FR...\n",
      "[M::mem_pestat] (25, 50, 75) percentile: (221, 259, 306)\n",
      "[M::mem_pestat] low and high boundaries for computing mean and std.dev: (51, 476)\n",
      "[M::mem_pestat] mean and std.dev: (267.29, 61.75)\n",
      "[M::mem_pestat] low and high boundaries for proper pairs: (1, 561)\n",
      "[M::mem_pestat] skip orientation RF as there are not enough pairs\n",
      "[M::mem_pestat] skip orientation RR as there are not enough pairs\n",
      "[M::mem_process_seqs] Processed 66668 reads in 4.662 CPU sec, 4.553 real sec\n",
      "[M::process] read 32296 sequences (4844400 bp)...\n",
      "[M::mem_pestat] # candidate unique pairs for (FF, FR, RF, RR): (2, 32641, 0, 0)\n",
      "[M::mem_pestat] skip orientation FF as there are not enough pairs\n",
      "[M::mem_pestat] analyzing insert size distribution for orientation FR...\n",
      "[M::mem_pestat] (25, 50, 75) percentile: (221, 258, 305)\n",
      "[M::mem_pestat] low and high boundaries for computing mean and std.dev: (53, 473)\n",
      "[M::mem_pestat] mean and std.dev: (266.63, 61.42)\n",
      "[M::mem_pestat] low and high boundaries for proper pairs: (1, 557)\n",
      "[M::mem_pestat] skip orientation RF as there are not enough pairs\n",
      "[M::mem_pestat] skip orientation RR as there are not enough pairs\n",
      "[M::mem_process_seqs] Processed 66668 reads in 4.684 CPU sec, 4.599 real sec\n",
      "[M::mem_pestat] # candidate unique pairs for (FF, FR, RF, RR): (0, 15814, 0, 0)\n",
      "[M::mem_pestat] skip orientation FF as there are not enough pairs\n",
      "[M::mem_pestat] analyzing insert size distribution for orientation FR...\n",
      "[M::mem_pestat] (25, 50, 75) percentile: (222, 258, 307)\n",
      "[M::mem_pestat] low and high boundaries for computing mean and std.dev: (52, 477)\n",
      "[M::mem_pestat] mean and std.dev: (267.71, 61.86)\n",
      "[M::mem_pestat] low and high boundaries for proper pairs: (1, 562)\n",
      "[M::mem_pestat] skip orientation RF as there are not enough pairs\n",
      "[M::mem_pestat] skip orientation RR as there are not enough pairs\n",
      "[M::mem_process_seqs] Processed 32296 reads in 2.132 CPU sec, 2.044 real sec\n",
      "[main] Version: 0.7.17-r1188\n",
      "[main] CMD: bwa mem ./ref.fasta ./frag.R1.fastq ./frag.R2.fastq\n",
      "[main] Real time: 230.073 sec; CPU: 235.843 sec\n"
     ]
    }
   ],
   "source": [
    "! bwa mem ./ref.fasta ./frag.R1.fastq ./frag.R2.fastq > ./alignment_frag.sam"
   ]
  },
  {
   "cell_type": "code",
   "execution_count": 4,
   "metadata": {},
   "outputs": [
    {
     "name": "stdout",
     "output_type": "stream",
     "text": [
      "[M::bwa_idx_load_from_disk] read 0 ALT contigs\n",
      "[M::process] read 91006 sequences (10000068 bp)...\n",
      "[M::process] read 90918 sequences (10000242 bp)...\n",
      "[M::mem_pestat] # candidate unique pairs for (FF, FR, RF, RR): (12, 38830, 1, 13)\n",
      "[M::mem_pestat] analyzing insert size distribution for orientation FF...\n",
      "[M::mem_pestat] (25, 50, 75) percentile: (1181, 6990, 8310)\n",
      "[M::mem_pestat] low and high boundaries for computing mean and std.dev: (1, 22568)\n",
      "[M::mem_pestat] mean and std.dev: (5069.42, 3608.83)\n",
      "[M::mem_pestat] low and high boundaries for proper pairs: (1, 29697)\n",
      "[M::mem_pestat] analyzing insert size distribution for orientation FR...\n",
      "[M::mem_pestat] (25, 50, 75) percentile: (6731, 7379, 8247)\n",
      "[M::mem_pestat] low and high boundaries for computing mean and std.dev: (3699, 11279)\n",
      "[M::mem_pestat] mean and std.dev: (7569.46, 999.13)\n",
      "[M::mem_pestat] low and high boundaries for proper pairs: (2183, 12795)\n",
      "[M::mem_pestat] skip orientation RF as there are not enough pairs\n",
      "[M::mem_pestat] analyzing insert size distribution for orientation RR...\n",
      "[M::mem_pestat] (25, 50, 75) percentile: (5997, 6969, 7943)\n",
      "[M::mem_pestat] low and high boundaries for computing mean and std.dev: (2105, 11835)\n",
      "[M::mem_pestat] mean and std.dev: (7406.64, 1085.25)\n",
      "[M::mem_pestat] low and high boundaries for proper pairs: (159, 13781)\n",
      "[M::mem_pestat] skip orientation FF\n",
      "[M::mem_pestat] skip orientation RR\n",
      "[M::mem_process_seqs] Processed 91006 reads in 6.288 CPU sec, 6.269 real sec\n",
      "[M::process] read 90988 sequences (10000113 bp)...\n",
      "[M::mem_pestat] # candidate unique pairs for (FF, FR, RF, RR): (5, 38675, 6, 13)\n",
      "[M::mem_pestat] skip orientation FF as there are not enough pairs\n",
      "[M::mem_pestat] analyzing insert size distribution for orientation FR...\n",
      "[M::mem_pestat] (25, 50, 75) percentile: (6711, 7371, 8257)\n",
      "[M::mem_pestat] low and high boundaries for computing mean and std.dev: (3619, 11349)\n",
      "[M::mem_pestat] mean and std.dev: (7560.61, 1001.51)\n",
      "[M::mem_pestat] low and high boundaries for proper pairs: (2073, 12895)\n",
      "[M::mem_pestat] skip orientation RF as there are not enough pairs\n",
      "[M::mem_pestat] analyzing insert size distribution for orientation RR...\n",
      "[M::mem_pestat] (25, 50, 75) percentile: (4773, 6236, 7343)\n",
      "[M::mem_pestat] low and high boundaries for computing mean and std.dev: (1, 12483)\n",
      "[M::mem_pestat] mean and std.dev: (5564.69, 2091.63)\n",
      "[M::mem_pestat] low and high boundaries for proper pairs: (1, 15053)\n",
      "[M::mem_pestat] skip orientation RR\n",
      "[M::mem_process_seqs] Processed 90918 reads in 6.103 CPU sec, 5.973 real sec\n",
      "[M::process] read 90934 sequences (10000177 bp)...\n",
      "[M::mem_pestat] # candidate unique pairs for (FF, FR, RF, RR): (6, 38571, 6, 14)\n",
      "[M::mem_pestat] skip orientation FF as there are not enough pairs\n",
      "[M::mem_pestat] analyzing insert size distribution for orientation FR...\n",
      "[M::mem_pestat] (25, 50, 75) percentile: (6723, 7378, 8278)\n",
      "[M::mem_pestat] low and high boundaries for computing mean and std.dev: (3613, 11388)\n",
      "[M::mem_pestat] mean and std.dev: (7572.99, 1006.54)\n",
      "[M::mem_pestat] low and high boundaries for proper pairs: (2058, 12943)\n",
      "[M::mem_pestat] skip orientation RF as there are not enough pairs\n",
      "[M::mem_pestat] analyzing insert size distribution for orientation RR...\n",
      "[M::mem_pestat] (25, 50, 75) percentile: (6289, 6791, 7403)\n",
      "[M::mem_pestat] low and high boundaries for computing mean and std.dev: (4061, 9631)\n",
      "[M::mem_pestat] mean and std.dev: (7072.50, 731.20)\n",
      "[M::mem_pestat] low and high boundaries for proper pairs: (2947, 10745)\n",
      "[M::mem_pestat] skip orientation RR\n",
      "[M::mem_process_seqs] Processed 90988 reads in 5.999 CPU sec, 5.871 real sec\n",
      "[M::process] read 90816 sequences (10000109 bp)...\n",
      "[M::mem_pestat] # candidate unique pairs for (FF, FR, RF, RR): (6, 38516, 6, 14)\n",
      "[M::mem_pestat] skip orientation FF as there are not enough pairs\n",
      "[M::mem_pestat] analyzing insert size distribution for orientation FR...\n",
      "[M::mem_pestat] (25, 50, 75) percentile: (6720, 7381, 8262)\n",
      "[M::mem_pestat] low and high boundaries for computing mean and std.dev: (3636, 11346)\n",
      "[M::mem_pestat] mean and std.dev: (7571.74, 1005.73)\n",
      "[M::mem_pestat] low and high boundaries for proper pairs: (2094, 12888)\n",
      "[M::mem_pestat] skip orientation RF as there are not enough pairs\n",
      "[M::mem_pestat] analyzing insert size distribution for orientation RR...\n",
      "[M::mem_pestat] (25, 50, 75) percentile: (2010, 6648, 7495)\n",
      "[M::mem_pestat] low and high boundaries for computing mean and std.dev: (1, 18465)\n",
      "[M::mem_pestat] mean and std.dev: (5150.14, 2621.62)\n",
      "[M::mem_pestat] low and high boundaries for proper pairs: (1, 23950)\n",
      "[M::mem_pestat] skip orientation RR\n",
      "[M::mem_process_seqs] Processed 90934 reads in 6.246 CPU sec, 6.121 real sec\n",
      "[M::process] read 91006 sequences (10000162 bp)...\n",
      "[M::mem_pestat] # candidate unique pairs for (FF, FR, RF, RR): (1, 38669, 8, 9)\n",
      "[M::mem_pestat] skip orientation FF as there are not enough pairs\n",
      "[M::mem_pestat] analyzing insert size distribution for orientation FR...\n",
      "[M::mem_pestat] (25, 50, 75) percentile: (6725, 7384, 8270)\n",
      "[M::mem_pestat] low and high boundaries for computing mean and std.dev: (3635, 11360)\n",
      "[M::mem_pestat] mean and std.dev: (7576.39, 1006.07)\n",
      "[M::mem_pestat] low and high boundaries for proper pairs: (2090, 12905)\n",
      "[M::mem_pestat] skip orientation RF as there are not enough pairs\n",
      "[M::mem_pestat] skip orientation RR as there are not enough pairs\n",
      "[M::mem_process_seqs] Processed 90816 reads in 6.153 CPU sec, 6.022 real sec\n",
      "[M::process] read 90978 sequences (10000197 bp)...\n",
      "[M::mem_pestat] # candidate unique pairs for (FF, FR, RF, RR): (7, 38648, 5, 9)\n",
      "[M::mem_pestat] skip orientation FF as there are not enough pairs\n",
      "[M::mem_pestat] analyzing insert size distribution for orientation FR...\n",
      "[M::mem_pestat] (25, 50, 75) percentile: (6731, 7388, 8269)\n",
      "[M::mem_pestat] low and high boundaries for computing mean and std.dev: (3655, 11345)\n",
      "[M::mem_pestat] mean and std.dev: (7575.83, 1009.09)\n",
      "[M::mem_pestat] low and high boundaries for proper pairs: (2117, 12883)\n",
      "[M::mem_pestat] skip orientation RF as there are not enough pairs\n",
      "[M::mem_pestat] skip orientation RR as there are not enough pairs\n",
      "[M::mem_process_seqs] Processed 91006 reads in 5.947 CPU sec, 5.823 real sec\n",
      "[M::process] read 90830 sequences (10000234 bp)...\n",
      "[M::mem_pestat] # candidate unique pairs for (FF, FR, RF, RR): (6, 38595, 8, 8)\n",
      "[M::mem_pestat] skip orientation FF as there are not enough pairs\n",
      "[M::mem_pestat] analyzing insert size distribution for orientation FR...\n",
      "[M::mem_pestat] (25, 50, 75) percentile: (6723, 7365, 8251)\n",
      "[M::mem_pestat] low and high boundaries for computing mean and std.dev: (3667, 11307)\n",
      "[M::mem_pestat] mean and std.dev: (7563.20, 999.75)\n",
      "[M::mem_pestat] low and high boundaries for proper pairs: (2139, 12835)\n",
      "[M::mem_pestat] skip orientation RF as there are not enough pairs\n",
      "[M::mem_pestat] skip orientation RR as there are not enough pairs\n",
      "[M::mem_process_seqs] Processed 90978 reads in 6.476 CPU sec, 6.375 real sec\n",
      "[M::process] read 90964 sequences (10000021 bp)...\n",
      "[M::mem_pestat] # candidate unique pairs for (FF, FR, RF, RR): (12, 38784, 5, 17)\n",
      "[M::mem_pestat] analyzing insert size distribution for orientation FF...\n",
      "[M::mem_pestat] (25, 50, 75) percentile: (3185, 6119, 7324)\n",
      "[M::mem_pestat] low and high boundaries for computing mean and std.dev: (1, 15602)\n",
      "[M::mem_pestat] mean and std.dev: (5029.67, 2600.32)\n",
      "[M::mem_pestat] low and high boundaries for proper pairs: (1, 19741)\n",
      "[M::mem_pestat] analyzing insert size distribution for orientation FR...\n",
      "[M::mem_pestat] (25, 50, 75) percentile: (6725, 7385, 8279)\n",
      "[M::mem_pestat] low and high boundaries for computing mean and std.dev: (3617, 11387)\n",
      "[M::mem_pestat] mean and std.dev: (7575.39, 1006.46)\n",
      "[M::mem_pestat] low and high boundaries for proper pairs: (2063, 12941)\n",
      "[M::mem_pestat] skip orientation RF as there are not enough pairs\n",
      "[M::mem_pestat] analyzing insert size distribution for orientation RR...\n",
      "[M::mem_pestat] (25, 50, 75) percentile: (3340, 6330, 7470)\n",
      "[M::mem_pestat] low and high boundaries for computing mean and std.dev: (1, 15730)\n",
      "[M::mem_pestat] mean and std.dev: (5222.12, 2803.55)\n",
      "[M::mem_pestat] low and high boundaries for proper pairs: (1, 19860)\n",
      "[M::mem_pestat] skip orientation FF\n",
      "[M::mem_pestat] skip orientation RR\n",
      "[M::mem_process_seqs] Processed 90830 reads in 5.915 CPU sec, 5.758 real sec\n"
     ]
    },
    {
     "name": "stdout",
     "output_type": "stream",
     "text": [
      "[M::process] read 90916 sequences (10000240 bp)...\n",
      "[M::mem_pestat] # candidate unique pairs for (FF, FR, RF, RR): (7, 38654, 3, 11)\n",
      "[M::mem_pestat] skip orientation FF as there are not enough pairs\n",
      "[M::mem_pestat] analyzing insert size distribution for orientation FR...\n",
      "[M::mem_pestat] (25, 50, 75) percentile: (6724, 7375, 8258)\n",
      "[M::mem_pestat] low and high boundaries for computing mean and std.dev: (3656, 11326)\n",
      "[M::mem_pestat] mean and std.dev: (7564.56, 1006.17)\n",
      "[M::mem_pestat] low and high boundaries for proper pairs: (2122, 12860)\n",
      "[M::mem_pestat] skip orientation RF as there are not enough pairs\n",
      "[M::mem_pestat] analyzing insert size distribution for orientation RR...\n",
      "[M::mem_pestat] (25, 50, 75) percentile: (4434, 6306, 7725)\n",
      "[M::mem_pestat] low and high boundaries for computing mean and std.dev: (1, 14307)\n",
      "[M::mem_pestat] mean and std.dev: (5460.64, 2353.70)\n",
      "[M::mem_pestat] low and high boundaries for proper pairs: (1, 17598)\n",
      "[M::mem_pestat] skip orientation RR\n",
      "[M::mem_process_seqs] Processed 90964 reads in 6.337 CPU sec, 6.217 real sec\n",
      "[M::process] read 90786 sequences (10000187 bp)...\n",
      "[M::mem_pestat] # candidate unique pairs for (FF, FR, RF, RR): (8, 38469, 8, 12)\n",
      "[M::mem_pestat] skip orientation FF as there are not enough pairs\n",
      "[M::mem_pestat] analyzing insert size distribution for orientation FR...\n",
      "[M::mem_pestat] (25, 50, 75) percentile: (6732, 7380, 8265)\n",
      "[M::mem_pestat] low and high boundaries for computing mean and std.dev: (3666, 11331)\n",
      "[M::mem_pestat] mean and std.dev: (7576.54, 1003.44)\n",
      "[M::mem_pestat] low and high boundaries for proper pairs: (2133, 12864)\n",
      "[M::mem_pestat] skip orientation RF as there are not enough pairs\n",
      "[M::mem_pestat] analyzing insert size distribution for orientation RR...\n",
      "[M::mem_pestat] (25, 50, 75) percentile: (5230, 7228, 7639)\n",
      "[M::mem_pestat] low and high boundaries for computing mean and std.dev: (412, 12457)\n",
      "[M::mem_pestat] mean and std.dev: (6382.92, 2234.57)\n",
      "[M::mem_pestat] low and high boundaries for proper pairs: (1, 15321)\n",
      "[M::mem_pestat] skip orientation RR\n",
      "[M::mem_process_seqs] Processed 90916 reads in 6.103 CPU sec, 5.966 real sec\n",
      "[M::process] read 90938 sequences (10000125 bp)...\n",
      "[M::mem_pestat] # candidate unique pairs for (FF, FR, RF, RR): (9, 38561, 5, 9)\n",
      "[M::mem_pestat] skip orientation FF as there are not enough pairs\n",
      "[M::mem_pestat] analyzing insert size distribution for orientation FR...\n",
      "[M::mem_pestat] (25, 50, 75) percentile: (6719, 7370, 8265)\n",
      "[M::mem_pestat] low and high boundaries for computing mean and std.dev: (3627, 11357)\n",
      "[M::mem_pestat] mean and std.dev: (7566.60, 1001.88)\n",
      "[M::mem_pestat] low and high boundaries for proper pairs: (2081, 12903)\n",
      "[M::mem_pestat] skip orientation RF as there are not enough pairs\n",
      "[M::mem_pestat] skip orientation RR as there are not enough pairs\n",
      "[M::mem_process_seqs] Processed 90786 reads in 5.909 CPU sec, 5.760 real sec\n",
      "[M::process] read 90960 sequences (10000020 bp)...\n",
      "[M::mem_pestat] # candidate unique pairs for (FF, FR, RF, RR): (6, 38528, 9, 12)\n",
      "[M::mem_pestat] skip orientation FF as there are not enough pairs\n",
      "[M::mem_pestat] analyzing insert size distribution for orientation FR...\n",
      "[M::mem_pestat] (25, 50, 75) percentile: (6720, 7371, 8263)\n",
      "[M::mem_pestat] low and high boundaries for computing mean and std.dev: (3634, 11349)\n",
      "[M::mem_pestat] mean and std.dev: (7570.32, 1008.81)\n",
      "[M::mem_pestat] low and high boundaries for proper pairs: (2091, 12892)\n",
      "[M::mem_pestat] skip orientation RF as there are not enough pairs\n",
      "[M::mem_pestat] analyzing insert size distribution for orientation RR...\n",
      "[M::mem_pestat] (25, 50, 75) percentile: (4697, 6331, 7104)\n",
      "[M::mem_pestat] low and high boundaries for computing mean and std.dev: (1, 11918)\n",
      "[M::mem_pestat] mean and std.dev: (5667.58, 2071.01)\n",
      "[M::mem_pestat] low and high boundaries for proper pairs: (1, 14325)\n",
      "[M::mem_pestat] skip orientation RR\n",
      "[M::mem_process_seqs] Processed 90938 reads in 5.977 CPU sec, 5.830 real sec\n",
      "[M::process] read 90868 sequences (10000155 bp)...\n",
      "[M::mem_pestat] # candidate unique pairs for (FF, FR, RF, RR): (9, 38682, 8, 4)\n",
      "[M::mem_pestat] skip orientation FF as there are not enough pairs\n",
      "[M::mem_pestat] analyzing insert size distribution for orientation FR...\n",
      "[M::mem_pestat] (25, 50, 75) percentile: (6721, 7378, 8270)\n",
      "[M::mem_pestat] low and high boundaries for computing mean and std.dev: (3623, 11368)\n",
      "[M::mem_pestat] mean and std.dev: (7570.59, 1005.38)\n",
      "[M::mem_pestat] low and high boundaries for proper pairs: (2074, 12917)\n",
      "[M::mem_pestat] skip orientation RF as there are not enough pairs\n",
      "[M::mem_pestat] skip orientation RR as there are not enough pairs\n",
      "[M::mem_process_seqs] Processed 90960 reads in 5.841 CPU sec, 5.697 real sec\n",
      "[M::process] read 90802 sequences (10000066 bp)...\n",
      "[M::mem_pestat] # candidate unique pairs for (FF, FR, RF, RR): (6, 38712, 8, 11)\n",
      "[M::mem_pestat] skip orientation FF as there are not enough pairs\n",
      "[M::mem_pestat] analyzing insert size distribution for orientation FR...\n",
      "[M::mem_pestat] (25, 50, 75) percentile: (6712, 7369, 8258)\n",
      "[M::mem_pestat] low and high boundaries for computing mean and std.dev: (3620, 11350)\n",
      "[M::mem_pestat] mean and std.dev: (7564.14, 1005.76)\n",
      "[M::mem_pestat] low and high boundaries for proper pairs: (2074, 12896)\n",
      "[M::mem_pestat] skip orientation RF as there are not enough pairs\n",
      "[M::mem_pestat] analyzing insert size distribution for orientation RR...\n",
      "[M::mem_pestat] (25, 50, 75) percentile: (3875, 6623, 7048)\n",
      "[M::mem_pestat] low and high boundaries for computing mean and std.dev: (1, 13394)\n",
      "[M::mem_pestat] mean and std.dev: (5260.09, 2524.21)\n",
      "[M::mem_pestat] low and high boundaries for proper pairs: (1, 16567)\n",
      "[M::mem_pestat] skip orientation RR\n",
      "[M::mem_process_seqs] Processed 90868 reads in 5.900 CPU sec, 5.757 real sec\n",
      "[M::process] read 90886 sequences (10000095 bp)...\n",
      "[M::mem_pestat] # candidate unique pairs for (FF, FR, RF, RR): (10, 38699, 4, 16)\n",
      "[M::mem_pestat] analyzing insert size distribution for orientation FF...\n",
      "[M::mem_pestat] (25, 50, 75) percentile: (3816, 5927, 7592)\n",
      "[M::mem_pestat] low and high boundaries for computing mean and std.dev: (1, 15144)\n",
      "[M::mem_pestat] mean and std.dev: (5474.30, 2189.26)\n",
      "[M::mem_pestat] low and high boundaries for proper pairs: (1, 18920)\n",
      "[M::mem_pestat] analyzing insert size distribution for orientation FR...\n",
      "[M::mem_pestat] (25, 50, 75) percentile: (6717, 7373, 8264)\n",
      "[M::mem_pestat] low and high boundaries for computing mean and std.dev: (3623, 11358)\n",
      "[M::mem_pestat] mean and std.dev: (7567.22, 1007.49)\n",
      "[M::mem_pestat] low and high boundaries for proper pairs: (2076, 12905)\n",
      "[M::mem_pestat] skip orientation RF as there are not enough pairs\n",
      "[M::mem_pestat] analyzing insert size distribution for orientation RR...\n",
      "[M::mem_pestat] (25, 50, 75) percentile: (2876, 6038, 7263)\n",
      "[M::mem_pestat] low and high boundaries for computing mean and std.dev: (1, 16037)\n",
      "[M::mem_pestat] mean and std.dev: (5178.94, 2790.68)\n",
      "[M::mem_pestat] low and high boundaries for proper pairs: (1, 20424)\n",
      "[M::mem_pestat] skip orientation FF\n",
      "[M::mem_pestat] skip orientation RR\n",
      "[M::mem_process_seqs] Processed 90802 reads in 5.864 CPU sec, 5.717 real sec\n",
      "[M::process] read 91090 sequences (10000117 bp)...\n",
      "[M::mem_pestat] # candidate unique pairs for (FF, FR, RF, RR): (6, 38700, 8, 9)\n",
      "[M::mem_pestat] skip orientation FF as there are not enough pairs\n",
      "[M::mem_pestat] analyzing insert size distribution for orientation FR...\n",
      "[M::mem_pestat] (25, 50, 75) percentile: (6718, 7369, 8253)\n",
      "[M::mem_pestat] low and high boundaries for computing mean and std.dev: (3648, 11323)\n",
      "[M::mem_pestat] mean and std.dev: (7564.81, 996.75)\n",
      "[M::mem_pestat] low and high boundaries for proper pairs: (2113, 12858)\n",
      "[M::mem_pestat] skip orientation RF as there are not enough pairs\n",
      "[M::mem_pestat] skip orientation RR as there are not enough pairs\n",
      "[M::mem_process_seqs] Processed 90886 reads in 5.933 CPU sec, 5.791 real sec\n",
      "[M::process] read 90892 sequences (10000197 bp)...\n",
      "[M::mem_pestat] # candidate unique pairs for (FF, FR, RF, RR): (10, 38688, 4, 16)\n",
      "[M::mem_pestat] analyzing insert size distribution for orientation FF...\n",
      "[M::mem_pestat] (25, 50, 75) percentile: (1879, 5376, 6495)\n",
      "[M::mem_pestat] low and high boundaries for computing mean and std.dev: (1, 15727)\n",
      "[M::mem_pestat] mean and std.dev: (4715.70, 2801.07)\n",
      "[M::mem_pestat] low and high boundaries for proper pairs: (1, 20343)\n",
      "[M::mem_pestat] analyzing insert size distribution for orientation FR...\n",
      "[M::mem_pestat] (25, 50, 75) percentile: (6723, 7369, 8261)\n",
      "[M::mem_pestat] low and high boundaries for computing mean and std.dev: (3647, 11337)\n",
      "[M::mem_pestat] mean and std.dev: (7567.36, 998.29)\n",
      "[M::mem_pestat] low and high boundaries for proper pairs: (2109, 12875)\n",
      "[M::mem_pestat] skip orientation RF as there are not enough pairs\n",
      "[M::mem_pestat] analyzing insert size distribution for orientation RR...\n",
      "[M::mem_pestat] (25, 50, 75) percentile: (3319, 5209, 7136)\n",
      "[M::mem_pestat] low and high boundaries for computing mean and std.dev: (1, 14770)\n",
      "[M::mem_pestat] mean and std.dev: (5269.19, 2212.51)\n",
      "[M::mem_pestat] low and high boundaries for proper pairs: (1, 18587)\n",
      "[M::mem_pestat] skip orientation FF\n",
      "[M::mem_pestat] skip orientation RR\n"
     ]
    },
    {
     "name": "stdout",
     "output_type": "stream",
     "text": [
      "[M::mem_process_seqs] Processed 91090 reads in 5.917 CPU sec, 5.767 real sec\n",
      "[M::process] read 90814 sequences (10000010 bp)...\n",
      "[M::mem_pestat] # candidate unique pairs for (FF, FR, RF, RR): (9, 38594, 3, 17)\n",
      "[M::mem_pestat] skip orientation FF as there are not enough pairs\n",
      "[M::mem_pestat] analyzing insert size distribution for orientation FR...\n",
      "[M::mem_pestat] (25, 50, 75) percentile: (6725, 7383, 8255)\n",
      "[M::mem_pestat] low and high boundaries for computing mean and std.dev: (3665, 11315)\n",
      "[M::mem_pestat] mean and std.dev: (7570.72, 997.46)\n",
      "[M::mem_pestat] low and high boundaries for proper pairs: (2135, 12845)\n",
      "[M::mem_pestat] skip orientation RF as there are not enough pairs\n",
      "[M::mem_pestat] analyzing insert size distribution for orientation RR...\n",
      "[M::mem_pestat] (25, 50, 75) percentile: (4783, 7210, 7570)\n",
      "[M::mem_pestat] low and high boundaries for computing mean and std.dev: (1, 13144)\n",
      "[M::mem_pestat] mean and std.dev: (5602.71, 2903.58)\n",
      "[M::mem_pestat] low and high boundaries for proper pairs: (1, 17217)\n",
      "[M::mem_pestat] skip orientation RR\n",
      "[M::mem_process_seqs] Processed 90892 reads in 5.837 CPU sec, 5.692 real sec\n",
      "[M::process] read 91006 sequences (10000032 bp)...\n",
      "[M::mem_pestat] # candidate unique pairs for (FF, FR, RF, RR): (15, 38685, 4, 19)\n",
      "[M::mem_pestat] analyzing insert size distribution for orientation FF...\n",
      "[M::mem_pestat] (25, 50, 75) percentile: (4497, 7342, 7814)\n",
      "[M::mem_pestat] low and high boundaries for computing mean and std.dev: (1, 14448)\n",
      "[M::mem_pestat] mean and std.dev: (6414.13, 2397.60)\n",
      "[M::mem_pestat] low and high boundaries for proper pairs: (1, 17765)\n",
      "[M::mem_pestat] analyzing insert size distribution for orientation FR...\n",
      "[M::mem_pestat] (25, 50, 75) percentile: (6732, 7381, 8269)\n",
      "[M::mem_pestat] low and high boundaries for computing mean and std.dev: (3658, 11343)\n",
      "[M::mem_pestat] mean and std.dev: (7577.48, 1001.31)\n",
      "[M::mem_pestat] low and high boundaries for proper pairs: (2121, 12880)\n",
      "[M::mem_pestat] skip orientation RF as there are not enough pairs\n",
      "[M::mem_pestat] analyzing insert size distribution for orientation RR...\n",
      "[M::mem_pestat] (25, 50, 75) percentile: (2311, 5641, 6802)\n",
      "[M::mem_pestat] low and high boundaries for computing mean and std.dev: (1, 15784)\n",
      "[M::mem_pestat] mean and std.dev: (4853.53, 2627.55)\n",
      "[M::mem_pestat] low and high boundaries for proper pairs: (1, 20275)\n",
      "[M::mem_pestat] skip orientation FF\n",
      "[M::mem_pestat] skip orientation RR\n",
      "[M::mem_process_seqs] Processed 90814 reads in 5.803 CPU sec, 5.663 real sec\n",
      "[M::process] read 90830 sequences (10000132 bp)...\n",
      "[M::mem_pestat] # candidate unique pairs for (FF, FR, RF, RR): (21, 38615, 8, 12)\n",
      "[M::mem_pestat] analyzing insert size distribution for orientation FF...\n",
      "[M::mem_pestat] (25, 50, 75) percentile: (3174, 4701, 8635)\n",
      "[M::mem_pestat] low and high boundaries for computing mean and std.dev: (1, 19557)\n",
      "[M::mem_pestat] mean and std.dev: (5223.19, 3147.28)\n",
      "[M::mem_pestat] low and high boundaries for proper pairs: (1, 25018)\n",
      "[M::mem_pestat] analyzing insert size distribution for orientation FR...\n",
      "[M::mem_pestat] (25, 50, 75) percentile: (6717, 7365, 8250)\n",
      "[M::mem_pestat] low and high boundaries for computing mean and std.dev: (3651, 11316)\n",
      "[M::mem_pestat] mean and std.dev: (7559.74, 1006.83)\n",
      "[M::mem_pestat] low and high boundaries for proper pairs: (2118, 12849)\n",
      "[M::mem_pestat] skip orientation RF as there are not enough pairs\n",
      "[M::mem_pestat] analyzing insert size distribution for orientation RR...\n",
      "[M::mem_pestat] (25, 50, 75) percentile: (4836, 6363, 8646)\n",
      "[M::mem_pestat] low and high boundaries for computing mean and std.dev: (1, 16266)\n",
      "[M::mem_pestat] mean and std.dev: (5691.00, 2768.70)\n",
      "[M::mem_pestat] low and high boundaries for proper pairs: (1, 20076)\n",
      "[M::mem_pestat] skip orientation FF\n",
      "[M::mem_pestat] skip orientation RR\n",
      "[M::mem_process_seqs] Processed 91006 reads in 5.949 CPU sec, 5.806 real sec\n",
      "[M::process] read 90780 sequences (10000186 bp)...\n",
      "[M::mem_pestat] # candidate unique pairs for (FF, FR, RF, RR): (10, 38621, 4, 16)\n",
      "[M::mem_pestat] analyzing insert size distribution for orientation FF...\n",
      "[M::mem_pestat] (25, 50, 75) percentile: (4978, 6462, 7136)\n",
      "[M::mem_pestat] low and high boundaries for computing mean and std.dev: (662, 11452)\n",
      "[M::mem_pestat] mean and std.dev: (6013.20, 1837.39)\n",
      "[M::mem_pestat] low and high boundaries for proper pairs: (1, 13610)\n",
      "[M::mem_pestat] analyzing insert size distribution for orientation FR...\n",
      "[M::mem_pestat] (25, 50, 75) percentile: (6725, 7378, 8261)\n",
      "[M::mem_pestat] low and high boundaries for computing mean and std.dev: (3653, 11333)\n",
      "[M::mem_pestat] mean and std.dev: (7567.50, 1002.18)\n",
      "[M::mem_pestat] low and high boundaries for proper pairs: (2117, 12869)\n",
      "[M::mem_pestat] skip orientation RF as there are not enough pairs\n",
      "[M::mem_pestat] analyzing insert size distribution for orientation RR...\n",
      "[M::mem_pestat] (25, 50, 75) percentile: (5498, 6627, 8893)\n",
      "[M::mem_pestat] low and high boundaries for computing mean and std.dev: (1, 15683)\n",
      "[M::mem_pestat] mean and std.dev: (6719.62, 2265.61)\n",
      "[M::mem_pestat] low and high boundaries for proper pairs: (1, 19078)\n",
      "[M::mem_pestat] skip orientation FF\n",
      "[M::mem_pestat] skip orientation RR\n",
      "[M::mem_process_seqs] Processed 90830 reads in 5.855 CPU sec, 5.703 real sec\n",
      "[M::process] read 90998 sequences (10000016 bp)...\n",
      "[M::mem_pestat] # candidate unique pairs for (FF, FR, RF, RR): (6, 38483, 7, 9)\n",
      "[M::mem_pestat] skip orientation FF as there are not enough pairs\n",
      "[M::mem_pestat] analyzing insert size distribution for orientation FR...\n",
      "[M::mem_pestat] (25, 50, 75) percentile: (6720, 7378, 8265)\n",
      "[M::mem_pestat] low and high boundaries for computing mean and std.dev: (3630, 11355)\n",
      "[M::mem_pestat] mean and std.dev: (7567.94, 1006.66)\n",
      "[M::mem_pestat] low and high boundaries for proper pairs: (2085, 12900)\n",
      "[M::mem_pestat] skip orientation RF as there are not enough pairs\n",
      "[M::mem_pestat] skip orientation RR as there are not enough pairs\n",
      "[M::mem_process_seqs] Processed 90780 reads in 5.867 CPU sec, 5.718 real sec\n",
      "[M::process] read 90926 sequences (10000227 bp)...\n",
      "[M::mem_pestat] # candidate unique pairs for (FF, FR, RF, RR): (2, 38523, 3, 14)\n",
      "[M::mem_pestat] skip orientation FF as there are not enough pairs\n",
      "[M::mem_pestat] analyzing insert size distribution for orientation FR...\n",
      "[M::mem_pestat] (25, 50, 75) percentile: (6717, 7369, 8244)\n",
      "[M::mem_pestat] low and high boundaries for computing mean and std.dev: (3663, 11298)\n",
      "[M::mem_pestat] mean and std.dev: (7560.64, 1004.15)\n",
      "[M::mem_pestat] low and high boundaries for proper pairs: (2136, 12825)\n",
      "[M::mem_pestat] skip orientation RF as there are not enough pairs\n",
      "[M::mem_pestat] analyzing insert size distribution for orientation RR...\n",
      "[M::mem_pestat] (25, 50, 75) percentile: (4054, 6828, 8308)\n",
      "[M::mem_pestat] low and high boundaries for computing mean and std.dev: (1, 16816)\n",
      "[M::mem_pestat] mean and std.dev: (5776.21, 2750.98)\n",
      "[M::mem_pestat] low and high boundaries for proper pairs: (1, 21070)\n",
      "[M::mem_pestat] skip orientation RR\n",
      "[M::mem_process_seqs] Processed 90998 reads in 5.872 CPU sec, 5.724 real sec\n",
      "[M::process] read 90808 sequences (10000144 bp)...\n",
      "[M::mem_pestat] # candidate unique pairs for (FF, FR, RF, RR): (6, 38699, 3, 15)\n",
      "[M::mem_pestat] skip orientation FF as there are not enough pairs\n",
      "[M::mem_pestat] analyzing insert size distribution for orientation FR...\n",
      "[M::mem_pestat] (25, 50, 75) percentile: (6719, 7370, 8273)\n",
      "[M::mem_pestat] low and high boundaries for computing mean and std.dev: (3611, 11381)\n",
      "[M::mem_pestat] mean and std.dev: (7567.98, 1004.34)\n",
      "[M::mem_pestat] low and high boundaries for proper pairs: (2057, 12935)\n",
      "[M::mem_pestat] skip orientation RF as there are not enough pairs\n",
      "[M::mem_pestat] analyzing insert size distribution for orientation RR...\n",
      "[M::mem_pestat] (25, 50, 75) percentile: (5572, 6843, 7302)\n",
      "[M::mem_pestat] low and high boundaries for computing mean and std.dev: (2112, 10762)\n",
      "[M::mem_pestat] mean and std.dev: (6687.08, 1356.32)\n",
      "[M::mem_pestat] low and high boundaries for proper pairs: (382, 12492)\n",
      "[M::mem_pestat] skip orientation RR\n",
      "[M::mem_process_seqs] Processed 90926 reads in 5.871 CPU sec, 5.721 real sec\n",
      "[M::process] read 91060 sequences (10000057 bp)...\n",
      "[M::mem_pestat] # candidate unique pairs for (FF, FR, RF, RR): (4, 38621, 7, 12)\n",
      "[M::mem_pestat] skip orientation FF as there are not enough pairs\n",
      "[M::mem_pestat] analyzing insert size distribution for orientation FR...\n",
      "[M::mem_pestat] (25, 50, 75) percentile: (6726, 7381, 8269)\n",
      "[M::mem_pestat] low and high boundaries for computing mean and std.dev: (3640, 11355)\n",
      "[M::mem_pestat] mean and std.dev: (7572.93, 1003.45)\n",
      "[M::mem_pestat] low and high boundaries for proper pairs: (2097, 12898)\n",
      "[M::mem_pestat] skip orientation RF as there are not enough pairs\n",
      "[M::mem_pestat] analyzing insert size distribution for orientation RR...\n",
      "[M::mem_pestat] (25, 50, 75) percentile: (6059, 6429, 8952)\n",
      "[M::mem_pestat] low and high boundaries for computing mean and std.dev: (273, 14738)\n",
      "[M::mem_pestat] mean and std.dev: (7046.09, 2255.49)\n",
      "[M::mem_pestat] low and high boundaries for proper pairs: (1, 17631)\n",
      "[M::mem_pestat] skip orientation RR\n"
     ]
    },
    {
     "name": "stdout",
     "output_type": "stream",
     "text": [
      "[M::mem_process_seqs] Processed 90808 reads in 5.861 CPU sec, 5.711 real sec\n",
      "[M::process] read 91008 sequences (10000033 bp)...\n",
      "[M::mem_pestat] # candidate unique pairs for (FF, FR, RF, RR): (6, 38736, 3, 14)\n",
      "[M::mem_pestat] skip orientation FF as there are not enough pairs\n",
      "[M::mem_pestat] analyzing insert size distribution for orientation FR...\n",
      "[M::mem_pestat] (25, 50, 75) percentile: (6728, 7371, 8262)\n",
      "[M::mem_pestat] low and high boundaries for computing mean and std.dev: (3660, 11330)\n",
      "[M::mem_pestat] mean and std.dev: (7573.30, 1002.11)\n",
      "[M::mem_pestat] low and high boundaries for proper pairs: (2126, 12864)\n",
      "[M::mem_pestat] skip orientation RF as there are not enough pairs\n",
      "[M::mem_pestat] analyzing insert size distribution for orientation RR...\n",
      "[M::mem_pestat] (25, 50, 75) percentile: (3266, 6292, 7135)\n",
      "[M::mem_pestat] low and high boundaries for computing mean and std.dev: (1, 14873)\n",
      "[M::mem_pestat] mean and std.dev: (5026.93, 2431.01)\n",
      "[M::mem_pestat] low and high boundaries for proper pairs: (1, 18742)\n",
      "[M::mem_pestat] skip orientation RR\n",
      "[M::mem_process_seqs] Processed 91060 reads in 5.808 CPU sec, 5.660 real sec\n",
      "[M::process] read 90922 sequences (10000070 bp)...\n",
      "[M::mem_pestat] # candidate unique pairs for (FF, FR, RF, RR): (12, 38728, 8, 11)\n",
      "[M::mem_pestat] analyzing insert size distribution for orientation FF...\n",
      "[M::mem_pestat] (25, 50, 75) percentile: (1543, 2417, 4249)\n",
      "[M::mem_pestat] low and high boundaries for computing mean and std.dev: (1, 9661)\n",
      "[M::mem_pestat] mean and std.dev: (2934.75, 2261.82)\n",
      "[M::mem_pestat] low and high boundaries for proper pairs: (1, 12367)\n",
      "[M::mem_pestat] analyzing insert size distribution for orientation FR...\n",
      "[M::mem_pestat] (25, 50, 75) percentile: (6722, 7366, 8258)\n",
      "[M::mem_pestat] low and high boundaries for computing mean and std.dev: (3650, 11330)\n",
      "[M::mem_pestat] mean and std.dev: (7565.90, 1001.13)\n",
      "[M::mem_pestat] low and high boundaries for proper pairs: (2114, 12866)\n",
      "[M::mem_pestat] skip orientation RF as there are not enough pairs\n",
      "[M::mem_pestat] analyzing insert size distribution for orientation RR...\n",
      "[M::mem_pestat] (25, 50, 75) percentile: (4598, 7370, 8768)\n",
      "[M::mem_pestat] low and high boundaries for computing mean and std.dev: (1, 17108)\n",
      "[M::mem_pestat] mean and std.dev: (6071.73, 3063.55)\n",
      "[M::mem_pestat] low and high boundaries for proper pairs: (1, 21278)\n",
      "[M::mem_pestat] skip orientation FF\n",
      "[M::mem_pestat] skip orientation RR\n",
      "[M::mem_process_seqs] Processed 91008 reads in 5.804 CPU sec, 5.656 real sec\n",
      "[M::process] read 90984 sequences (10000126 bp)...\n",
      "[M::mem_pestat] # candidate unique pairs for (FF, FR, RF, RR): (4, 38600, 8, 11)\n",
      "[M::mem_pestat] skip orientation FF as there are not enough pairs\n",
      "[M::mem_pestat] analyzing insert size distribution for orientation FR...\n",
      "[M::mem_pestat] (25, 50, 75) percentile: (6712, 7366, 8259)\n",
      "[M::mem_pestat] low and high boundaries for computing mean and std.dev: (3618, 11353)\n",
      "[M::mem_pestat] mean and std.dev: (7563.06, 1007.61)\n",
      "[M::mem_pestat] low and high boundaries for proper pairs: (2071, 12900)\n",
      "[M::mem_pestat] skip orientation RF as there are not enough pairs\n",
      "[M::mem_pestat] analyzing insert size distribution for orientation RR...\n",
      "[M::mem_pestat] (25, 50, 75) percentile: (6763, 7859, 8869)\n",
      "[M::mem_pestat] low and high boundaries for computing mean and std.dev: (2551, 13081)\n",
      "[M::mem_pestat] mean and std.dev: (7445.91, 1807.70)\n",
      "[M::mem_pestat] low and high boundaries for proper pairs: (215, 15187)\n",
      "[M::mem_pestat] skip orientation RR\n",
      "[M::mem_process_seqs] Processed 90922 reads in 5.870 CPU sec, 5.722 real sec\n",
      "[M::process] read 91008 sequences (10000227 bp)...\n",
      "[M::mem_pestat] # candidate unique pairs for (FF, FR, RF, RR): (11, 38478, 2, 16)\n",
      "[M::mem_pestat] analyzing insert size distribution for orientation FF...\n",
      "[M::mem_pestat] (25, 50, 75) percentile: (5039, 6056, 6509)\n",
      "[M::mem_pestat] low and high boundaries for computing mean and std.dev: (2099, 9449)\n",
      "[M::mem_pestat] mean and std.dev: (5768.90, 1637.46)\n",
      "[M::mem_pestat] low and high boundaries for proper pairs: (1, 12319)\n",
      "[M::mem_pestat] analyzing insert size distribution for orientation FR...\n",
      "[M::mem_pestat] (25, 50, 75) percentile: (6727, 7387, 8279)\n",
      "[M::mem_pestat] low and high boundaries for computing mean and std.dev: (3623, 11383)\n",
      "[M::mem_pestat] mean and std.dev: (7578.41, 1005.60)\n",
      "[M::mem_pestat] low and high boundaries for proper pairs: (2071, 12935)\n",
      "[M::mem_pestat] skip orientation RF as there are not enough pairs\n",
      "[M::mem_pestat] analyzing insert size distribution for orientation RR...\n",
      "[M::mem_pestat] (25, 50, 75) percentile: (6424, 7555, 8290)\n",
      "[M::mem_pestat] low and high boundaries for computing mean and std.dev: (2692, 12022)\n",
      "[M::mem_pestat] mean and std.dev: (7593.69, 1166.29)\n",
      "[M::mem_pestat] low and high boundaries for proper pairs: (826, 13888)\n",
      "[M::mem_pestat] skip orientation FF\n",
      "[M::mem_pestat] skip orientation RR\n",
      "[M::mem_process_seqs] Processed 90984 reads in 5.918 CPU sec, 5.768 real sec\n",
      "[M::process] read 90926 sequences (10000048 bp)...\n",
      "[M::mem_pestat] # candidate unique pairs for (FF, FR, RF, RR): (10, 38683, 6, 13)\n",
      "[M::mem_pestat] analyzing insert size distribution for orientation FF...\n",
      "[M::mem_pestat] (25, 50, 75) percentile: (2612, 6598, 6893)\n",
      "[M::mem_pestat] low and high boundaries for computing mean and std.dev: (1, 15455)\n",
      "[M::mem_pestat] mean and std.dev: (5486.30, 2482.90)\n",
      "[M::mem_pestat] low and high boundaries for proper pairs: (1, 19736)\n",
      "[M::mem_pestat] analyzing insert size distribution for orientation FR...\n",
      "[M::mem_pestat] (25, 50, 75) percentile: (6708, 7371, 8266)\n",
      "[M::mem_pestat] low and high boundaries for computing mean and std.dev: (3592, 11382)\n",
      "[M::mem_pestat] mean and std.dev: (7563.11, 1010.92)\n",
      "[M::mem_pestat] low and high boundaries for proper pairs: (2034, 12940)\n",
      "[M::mem_pestat] skip orientation RF as there are not enough pairs\n",
      "[M::mem_pestat] analyzing insert size distribution for orientation RR...\n",
      "[M::mem_pestat] (25, 50, 75) percentile: (2632, 6910, 8461)\n",
      "[M::mem_pestat] low and high boundaries for computing mean and std.dev: (1, 20119)\n",
      "[M::mem_pestat] mean and std.dev: (5967.31, 3043.60)\n",
      "[M::mem_pestat] low and high boundaries for proper pairs: (1, 25948)\n",
      "[M::mem_pestat] skip orientation FF\n",
      "[M::mem_pestat] skip orientation RR\n",
      "[M::mem_process_seqs] Processed 91008 reads in 5.872 CPU sec, 5.724 real sec\n",
      "[M::process] read 91200 sequences (10000067 bp)...\n",
      "[M::mem_pestat] # candidate unique pairs for (FF, FR, RF, RR): (7, 38567, 5, 10)\n",
      "[M::mem_pestat] skip orientation FF as there are not enough pairs\n",
      "[M::mem_pestat] analyzing insert size distribution for orientation FR...\n",
      "[M::mem_pestat] (25, 50, 75) percentile: (6730, 7386, 8264)\n",
      "[M::mem_pestat] low and high boundaries for computing mean and std.dev: (3662, 11332)\n",
      "[M::mem_pestat] mean and std.dev: (7574.31, 999.25)\n",
      "[M::mem_pestat] low and high boundaries for proper pairs: (2128, 12866)\n",
      "[M::mem_pestat] skip orientation RF as there are not enough pairs\n",
      "[M::mem_pestat] analyzing insert size distribution for orientation RR...\n",
      "[M::mem_pestat] (25, 50, 75) percentile: (5761, 6253, 7096)\n",
      "[M::mem_pestat] low and high boundaries for computing mean and std.dev: (3091, 9766)\n",
      "[M::mem_pestat] mean and std.dev: (6180.40, 1056.41)\n",
      "[M::mem_pestat] low and high boundaries for proper pairs: (1756, 11101)\n",
      "[M::mem_pestat] skip orientation RR\n",
      "[M::mem_process_seqs] Processed 90926 reads in 5.928 CPU sec, 5.779 real sec\n",
      "[M::process] read 90976 sequences (10000173 bp)...\n",
      "[M::mem_pestat] # candidate unique pairs for (FF, FR, RF, RR): (12, 38783, 10, 12)\n",
      "[M::mem_pestat] analyzing insert size distribution for orientation FF...\n",
      "[M::mem_pestat] (25, 50, 75) percentile: (2236, 5095, 7709)\n",
      "[M::mem_pestat] low and high boundaries for computing mean and std.dev: (1, 18655)\n",
      "[M::mem_pestat] mean and std.dev: (4668.08, 2862.51)\n",
      "[M::mem_pestat] low and high boundaries for proper pairs: (1, 24128)\n",
      "[M::mem_pestat] analyzing insert size distribution for orientation FR...\n",
      "[M::mem_pestat] (25, 50, 75) percentile: (6717, 7375, 8275)\n",
      "[M::mem_pestat] low and high boundaries for computing mean and std.dev: (3601, 11391)\n",
      "[M::mem_pestat] mean and std.dev: (7573.11, 1010.10)\n",
      "[M::mem_pestat] low and high boundaries for proper pairs: (2043, 12949)\n",
      "[M::mem_pestat] analyzing insert size distribution for orientation RF...\n",
      "[M::mem_pestat] (25, 50, 75) percentile: (3496, 4948, 8052)\n",
      "[M::mem_pestat] low and high boundaries for computing mean and std.dev: (1, 17164)\n",
      "[M::mem_pestat] mean and std.dev: (5071.60, 2550.40)\n",
      "[M::mem_pestat] low and high boundaries for proper pairs: (1, 21720)\n",
      "[M::mem_pestat] analyzing insert size distribution for orientation RR...\n",
      "[M::mem_pestat] (25, 50, 75) percentile: (6513, 7370, 7656)\n",
      "[M::mem_pestat] low and high boundaries for computing mean and std.dev: (4227, 9942)\n",
      "[M::mem_pestat] mean and std.dev: (7399.00, 602.03)\n",
      "[M::mem_pestat] low and high boundaries for proper pairs: (3084, 11085)\n",
      "[M::mem_pestat] skip orientation FF\n",
      "[M::mem_pestat] skip orientation RF\n",
      "[M::mem_pestat] skip orientation RR\n"
     ]
    },
    {
     "name": "stdout",
     "output_type": "stream",
     "text": [
      "[M::mem_process_seqs] Processed 91200 reads in 5.882 CPU sec, 5.727 real sec\n",
      "[M::process] read 90990 sequences (10000033 bp)...\n",
      "[M::mem_pestat] # candidate unique pairs for (FF, FR, RF, RR): (2, 38765, 5, 8)\n",
      "[M::mem_pestat] skip orientation FF as there are not enough pairs\n",
      "[M::mem_pestat] analyzing insert size distribution for orientation FR...\n",
      "[M::mem_pestat] (25, 50, 75) percentile: (6724, 7380, 8262)\n",
      "[M::mem_pestat] low and high boundaries for computing mean and std.dev: (3648, 11338)\n",
      "[M::mem_pestat] mean and std.dev: (7570.40, 1002.62)\n",
      "[M::mem_pestat] low and high boundaries for proper pairs: (2110, 12876)\n",
      "[M::mem_pestat] skip orientation RF as there are not enough pairs\n",
      "[M::mem_pestat] skip orientation RR as there are not enough pairs\n",
      "[M::mem_process_seqs] Processed 90976 reads in 5.797 CPU sec, 5.644 real sec\n",
      "[M::process] read 90768 sequences (10000140 bp)...\n",
      "[M::mem_pestat] # candidate unique pairs for (FF, FR, RF, RR): (9, 38728, 5, 7)\n",
      "[M::mem_pestat] skip orientation FF as there are not enough pairs\n",
      "[M::mem_pestat] analyzing insert size distribution for orientation FR...\n",
      "[M::mem_pestat] (25, 50, 75) percentile: (6717, 7364, 8257)\n",
      "[M::mem_pestat] low and high boundaries for computing mean and std.dev: (3637, 11337)\n",
      "[M::mem_pestat] mean and std.dev: (7565.45, 1006.05)\n",
      "[M::mem_pestat] low and high boundaries for proper pairs: (2097, 12877)\n",
      "[M::mem_pestat] skip orientation RF as there are not enough pairs\n",
      "[M::mem_pestat] skip orientation RR as there are not enough pairs\n",
      "[M::mem_process_seqs] Processed 90990 reads in 5.843 CPU sec, 5.689 real sec\n",
      "[M::process] read 90718 sequences (10000111 bp)...\n",
      "[M::mem_pestat] # candidate unique pairs for (FF, FR, RF, RR): (5, 38547, 9, 12)\n",
      "[M::mem_pestat] skip orientation FF as there are not enough pairs\n",
      "[M::mem_pestat] analyzing insert size distribution for orientation FR...\n",
      "[M::mem_pestat] (25, 50, 75) percentile: (6719, 7370, 8252)\n",
      "[M::mem_pestat] low and high boundaries for computing mean and std.dev: (3653, 11318)\n",
      "[M::mem_pestat] mean and std.dev: (7561.33, 1001.37)\n",
      "[M::mem_pestat] low and high boundaries for proper pairs: (2120, 12851)\n",
      "[M::mem_pestat] skip orientation RF as there are not enough pairs\n",
      "[M::mem_pestat] analyzing insert size distribution for orientation RR...\n",
      "[M::mem_pestat] (25, 50, 75) percentile: (6174, 7033, 8694)\n",
      "[M::mem_pestat] low and high boundaries for computing mean and std.dev: (1134, 13734)\n",
      "[M::mem_pestat] mean and std.dev: (6605.00, 2224.57)\n",
      "[M::mem_pestat] low and high boundaries for proper pairs: (1, 16254)\n",
      "[M::mem_pestat] skip orientation RR\n",
      "[M::mem_process_seqs] Processed 90768 reads in 5.827 CPU sec, 5.671 real sec\n",
      "[M::process] read 90900 sequences (10000148 bp)...\n",
      "[M::mem_pestat] # candidate unique pairs for (FF, FR, RF, RR): (9, 38594, 2, 8)\n",
      "[M::mem_pestat] skip orientation FF as there are not enough pairs\n",
      "[M::mem_pestat] analyzing insert size distribution for orientation FR...\n",
      "[M::mem_pestat] (25, 50, 75) percentile: (6718, 7379, 8263)\n",
      "[M::mem_pestat] low and high boundaries for computing mean and std.dev: (3628, 11353)\n",
      "[M::mem_pestat] mean and std.dev: (7568.41, 1002.90)\n",
      "[M::mem_pestat] low and high boundaries for proper pairs: (2083, 12898)\n",
      "[M::mem_pestat] skip orientation RF as there are not enough pairs\n",
      "[M::mem_pestat] skip orientation RR as there are not enough pairs\n",
      "[M::mem_process_seqs] Processed 90718 reads in 5.896 CPU sec, 5.744 real sec\n",
      "[M::process] read 91014 sequences (10000079 bp)...\n",
      "[M::mem_pestat] # candidate unique pairs for (FF, FR, RF, RR): (9, 38646, 2, 14)\n",
      "[M::mem_pestat] skip orientation FF as there are not enough pairs\n",
      "[M::mem_pestat] analyzing insert size distribution for orientation FR...\n",
      "[M::mem_pestat] (25, 50, 75) percentile: (6724, 7369, 8266)\n",
      "[M::mem_pestat] low and high boundaries for computing mean and std.dev: (3640, 11350)\n",
      "[M::mem_pestat] mean and std.dev: (7568.14, 1007.15)\n",
      "[M::mem_pestat] low and high boundaries for proper pairs: (2098, 12892)\n",
      "[M::mem_pestat] skip orientation RF as there are not enough pairs\n",
      "[M::mem_pestat] analyzing insert size distribution for orientation RR...\n",
      "[M::mem_pestat] (25, 50, 75) percentile: (2250, 5899, 7627)\n",
      "[M::mem_pestat] low and high boundaries for computing mean and std.dev: (1, 18381)\n",
      "[M::mem_pestat] mean and std.dev: (4863.00, 2971.44)\n",
      "[M::mem_pestat] low and high boundaries for proper pairs: (1, 23758)\n",
      "[M::mem_pestat] skip orientation RR\n",
      "[M::mem_process_seqs] Processed 90900 reads in 5.964 CPU sec, 5.818 real sec\n",
      "[M::process] read 90772 sequences (10000151 bp)...\n",
      "[M::mem_pestat] # candidate unique pairs for (FF, FR, RF, RR): (10, 38651, 4, 16)\n",
      "[M::mem_pestat] analyzing insert size distribution for orientation FF...\n",
      "[M::mem_pestat] (25, 50, 75) percentile: (956, 6935, 7345)\n",
      "[M::mem_pestat] low and high boundaries for computing mean and std.dev: (1, 20123)\n",
      "[M::mem_pestat] mean and std.dev: (4306.90, 3084.02)\n",
      "[M::mem_pestat] low and high boundaries for proper pairs: (1, 26512)\n",
      "[M::mem_pestat] analyzing insert size distribution for orientation FR...\n",
      "[M::mem_pestat] (25, 50, 75) percentile: (6720, 7378, 8271)\n",
      "[M::mem_pestat] low and high boundaries for computing mean and std.dev: (3618, 11373)\n",
      "[M::mem_pestat] mean and std.dev: (7570.78, 1006.01)\n",
      "[M::mem_pestat] low and high boundaries for proper pairs: (2067, 12924)\n",
      "[M::mem_pestat] skip orientation RF as there are not enough pairs\n",
      "[M::mem_pestat] analyzing insert size distribution for orientation RR...\n",
      "[M::mem_pestat] (25, 50, 75) percentile: (2795, 6456, 8158)\n",
      "[M::mem_pestat] low and high boundaries for computing mean and std.dev: (1, 18884)\n",
      "[M::mem_pestat] mean and std.dev: (5224.69, 2742.92)\n",
      "[M::mem_pestat] low and high boundaries for proper pairs: (1, 24247)\n",
      "[M::mem_pestat] skip orientation FF\n",
      "[M::mem_pestat] skip orientation RR\n",
      "[M::mem_process_seqs] Processed 91014 reads in 5.937 CPU sec, 5.783 real sec\n",
      "[M::process] read 91006 sequences (10000145 bp)...\n",
      "[M::mem_pestat] # candidate unique pairs for (FF, FR, RF, RR): (10, 38412, 2, 7)\n",
      "[M::mem_pestat] analyzing insert size distribution for orientation FF...\n",
      "[M::mem_pestat] (25, 50, 75) percentile: (1875, 6254, 8928)\n",
      "[M::mem_pestat] low and high boundaries for computing mean and std.dev: (1, 23034)\n",
      "[M::mem_pestat] mean and std.dev: (5484.40, 3513.33)\n",
      "[M::mem_pestat] low and high boundaries for proper pairs: (1, 30087)\n",
      "[M::mem_pestat] analyzing insert size distribution for orientation FR...\n",
      "[M::mem_pestat] (25, 50, 75) percentile: (6726, 7369, 8257)\n",
      "[M::mem_pestat] low and high boundaries for computing mean and std.dev: (3664, 11319)\n",
      "[M::mem_pestat] mean and std.dev: (7570.66, 1005.00)\n",
      "[M::mem_pestat] low and high boundaries for proper pairs: (2133, 12850)\n",
      "[M::mem_pestat] skip orientation RF as there are not enough pairs\n",
      "[M::mem_pestat] skip orientation RR as there are not enough pairs\n",
      "[M::mem_pestat] skip orientation FF\n",
      "[M::mem_process_seqs] Processed 90772 reads in 5.890 CPU sec, 5.740 real sec\n",
      "[M::process] read 90710 sequences (10000062 bp)...\n",
      "[M::mem_pestat] # candidate unique pairs for (FF, FR, RF, RR): (8, 38747, 8, 10)\n",
      "[M::mem_pestat] skip orientation FF as there are not enough pairs\n",
      "[M::mem_pestat] analyzing insert size distribution for orientation FR...\n",
      "[M::mem_pestat] (25, 50, 75) percentile: (6722, 7372, 8258)\n",
      "[M::mem_pestat] low and high boundaries for computing mean and std.dev: (3650, 11330)\n",
      "[M::mem_pestat] mean and std.dev: (7565.63, 1000.16)\n",
      "[M::mem_pestat] low and high boundaries for proper pairs: (2114, 12866)\n",
      "[M::mem_pestat] skip orientation RF as there are not enough pairs\n",
      "[M::mem_pestat] analyzing insert size distribution for orientation RR...\n",
      "[M::mem_pestat] (25, 50, 75) percentile: (5489, 6609, 7415)\n",
      "[M::mem_pestat] low and high boundaries for computing mean and std.dev: (1637, 11267)\n",
      "[M::mem_pestat] mean and std.dev: (6704.40, 1670.63)\n",
      "[M::mem_pestat] low and high boundaries for proper pairs: (1, 13387)\n",
      "[M::mem_pestat] skip orientation RR\n",
      "[M::mem_process_seqs] Processed 91006 reads in 5.875 CPU sec, 5.724 real sec\n",
      "[M::process] read 90896 sequences (10000104 bp)...\n",
      "[M::mem_pestat] # candidate unique pairs for (FF, FR, RF, RR): (7, 38559, 5, 12)\n",
      "[M::mem_pestat] skip orientation FF as there are not enough pairs\n",
      "[M::mem_pestat] analyzing insert size distribution for orientation FR...\n",
      "[M::mem_pestat] (25, 50, 75) percentile: (6728, 7377, 8272)\n",
      "[M::mem_pestat] low and high boundaries for computing mean and std.dev: (3640, 11360)\n",
      "[M::mem_pestat] mean and std.dev: (7573.34, 1002.53)\n",
      "[M::mem_pestat] low and high boundaries for proper pairs: (2096, 12904)\n",
      "[M::mem_pestat] skip orientation RF as there are not enough pairs\n",
      "[M::mem_pestat] analyzing insert size distribution for orientation RR...\n",
      "[M::mem_pestat] (25, 50, 75) percentile: (5452, 7077, 7926)\n",
      "[M::mem_pestat] low and high boundaries for computing mean and std.dev: (504, 12874)\n",
      "[M::mem_pestat] mean and std.dev: (6328.73, 2228.32)\n",
      "[M::mem_pestat] low and high boundaries for proper pairs: (1, 15348)\n",
      "[M::mem_pestat] skip orientation RR\n"
     ]
    },
    {
     "name": "stdout",
     "output_type": "stream",
     "text": [
      "[M::mem_process_seqs] Processed 90710 reads in 5.911 CPU sec, 5.762 real sec\n",
      "[M::process] read 90936 sequences (10000054 bp)...\n",
      "[M::mem_pestat] # candidate unique pairs for (FF, FR, RF, RR): (10, 38597, 6, 5)\n",
      "[M::mem_pestat] analyzing insert size distribution for orientation FF...\n",
      "[M::mem_pestat] (25, 50, 75) percentile: (1786, 3627, 6043)\n",
      "[M::mem_pestat] low and high boundaries for computing mean and std.dev: (1, 14557)\n",
      "[M::mem_pestat] mean and std.dev: (3954.20, 2553.03)\n",
      "[M::mem_pestat] low and high boundaries for proper pairs: (1, 18814)\n",
      "[M::mem_pestat] analyzing insert size distribution for orientation FR...\n",
      "[M::mem_pestat] (25, 50, 75) percentile: (6724, 7366, 8270)\n",
      "[M::mem_pestat] low and high boundaries for computing mean and std.dev: (3632, 11362)\n",
      "[M::mem_pestat] mean and std.dev: (7568.11, 1005.60)\n",
      "[M::mem_pestat] low and high boundaries for proper pairs: (2086, 12908)\n",
      "[M::mem_pestat] skip orientation RF as there are not enough pairs\n",
      "[M::mem_pestat] skip orientation RR as there are not enough pairs\n",
      "[M::mem_pestat] skip orientation FF\n",
      "[M::mem_process_seqs] Processed 90896 reads in 5.845 CPU sec, 5.695 real sec\n",
      "[M::process] read 90834 sequences (10000079 bp)...\n",
      "[M::mem_pestat] # candidate unique pairs for (FF, FR, RF, RR): (7, 38724, 8, 15)\n",
      "[M::mem_pestat] skip orientation FF as there are not enough pairs\n",
      "[M::mem_pestat] analyzing insert size distribution for orientation FR...\n",
      "[M::mem_pestat] (25, 50, 75) percentile: (6723, 7381, 8271)\n",
      "[M::mem_pestat] low and high boundaries for computing mean and std.dev: (3627, 11367)\n",
      "[M::mem_pestat] mean and std.dev: (7570.48, 1013.10)\n",
      "[M::mem_pestat] low and high boundaries for proper pairs: (2079, 12915)\n",
      "[M::mem_pestat] skip orientation RF as there are not enough pairs\n",
      "[M::mem_pestat] analyzing insert size distribution for orientation RR...\n",
      "[M::mem_pestat] (25, 50, 75) percentile: (6108, 7022, 8213)\n",
      "[M::mem_pestat] low and high boundaries for computing mean and std.dev: (1898, 12423)\n",
      "[M::mem_pestat] mean and std.dev: (6548.43, 2156.67)\n",
      "[M::mem_pestat] low and high boundaries for proper pairs: (1, 15175)\n",
      "[M::mem_pestat] skip orientation RR\n",
      "[M::mem_process_seqs] Processed 90936 reads in 5.835 CPU sec, 5.689 real sec\n",
      "[M::process] read 90934 sequences (10000134 bp)...\n",
      "[M::mem_pestat] # candidate unique pairs for (FF, FR, RF, RR): (4, 38737, 11, 8)\n",
      "[M::mem_pestat] skip orientation FF as there are not enough pairs\n",
      "[M::mem_pestat] analyzing insert size distribution for orientation FR...\n",
      "[M::mem_pestat] (25, 50, 75) percentile: (6719, 7366, 8263)\n",
      "[M::mem_pestat] low and high boundaries for computing mean and std.dev: (3631, 11351)\n",
      "[M::mem_pestat] mean and std.dev: (7567.09, 1003.93)\n",
      "[M::mem_pestat] low and high boundaries for proper pairs: (2087, 12895)\n",
      "[M::mem_pestat] analyzing insert size distribution for orientation RF...\n",
      "[M::mem_pestat] (25, 50, 75) percentile: (2028, 3543, 5086)\n",
      "[M::mem_pestat] low and high boundaries for computing mean and std.dev: (1, 11202)\n",
      "[M::mem_pestat] mean and std.dev: (3352.55, 2026.23)\n",
      "[M::mem_pestat] low and high boundaries for proper pairs: (1, 14260)\n",
      "[M::mem_pestat] skip orientation RR as there are not enough pairs\n",
      "[M::mem_pestat] skip orientation RF\n",
      "[M::mem_process_seqs] Processed 90834 reads in 5.834 CPU sec, 5.686 real sec\n",
      "[M::process] read 90928 sequences (10000108 bp)...\n",
      "[M::mem_pestat] # candidate unique pairs for (FF, FR, RF, RR): (7, 38567, 7, 13)\n",
      "[M::mem_pestat] skip orientation FF as there are not enough pairs\n",
      "[M::mem_pestat] analyzing insert size distribution for orientation FR...\n",
      "[M::mem_pestat] (25, 50, 75) percentile: (6725, 7377, 8277)\n",
      "[M::mem_pestat] low and high boundaries for computing mean and std.dev: (3621, 11381)\n",
      "[M::mem_pestat] mean and std.dev: (7572.50, 1007.76)\n",
      "[M::mem_pestat] low and high boundaries for proper pairs: (2069, 12933)\n",
      "[M::mem_pestat] skip orientation RF as there are not enough pairs\n",
      "[M::mem_pestat] analyzing insert size distribution for orientation RR...\n",
      "[M::mem_pestat] (25, 50, 75) percentile: (6156, 7275, 8164)\n",
      "[M::mem_pestat] low and high boundaries for computing mean and std.dev: (2140, 12180)\n",
      "[M::mem_pestat] mean and std.dev: (7422.82, 1132.73)\n",
      "[M::mem_pestat] low and high boundaries for proper pairs: (132, 14188)\n",
      "[M::mem_pestat] skip orientation RR\n",
      "[M::mem_process_seqs] Processed 90934 reads in 5.888 CPU sec, 5.738 real sec\n",
      "[M::process] read 91086 sequences (10000164 bp)...\n",
      "[M::mem_pestat] # candidate unique pairs for (FF, FR, RF, RR): (10, 38575, 5, 7)\n",
      "[M::mem_pestat] analyzing insert size distribution for orientation FF...\n",
      "[M::mem_pestat] (25, 50, 75) percentile: (2850, 5384, 8324)\n",
      "[M::mem_pestat] low and high boundaries for computing mean and std.dev: (1, 19272)\n",
      "[M::mem_pestat] mean and std.dev: (5103.70, 2929.05)\n",
      "[M::mem_pestat] low and high boundaries for proper pairs: (1, 24746)\n",
      "[M::mem_pestat] analyzing insert size distribution for orientation FR...\n",
      "[M::mem_pestat] (25, 50, 75) percentile: (6725, 7370, 8258)\n",
      "[M::mem_pestat] low and high boundaries for computing mean and std.dev: (3659, 11324)\n",
      "[M::mem_pestat] mean and std.dev: (7566.00, 999.83)\n",
      "[M::mem_pestat] low and high boundaries for proper pairs: (2126, 12857)\n",
      "[M::mem_pestat] skip orientation RF as there are not enough pairs\n",
      "[M::mem_pestat] skip orientation RR as there are not enough pairs\n",
      "[M::mem_pestat] skip orientation FF\n",
      "[M::mem_process_seqs] Processed 90928 reads in 5.880 CPU sec, 5.728 real sec\n",
      "[M::process] read 42284 sequences (4642071 bp)...\n",
      "[M::mem_pestat] # candidate unique pairs for (FF, FR, RF, RR): (12, 38744, 5, 9)\n",
      "[M::mem_pestat] analyzing insert size distribution for orientation FF...\n",
      "[M::mem_pestat] (25, 50, 75) percentile: (4399, 5789, 7468)\n",
      "[M::mem_pestat] low and high boundaries for computing mean and std.dev: (1, 13606)\n",
      "[M::mem_pestat] mean and std.dev: (5247.42, 2851.65)\n",
      "[M::mem_pestat] low and high boundaries for proper pairs: (1, 16675)\n",
      "[M::mem_pestat] analyzing insert size distribution for orientation FR...\n",
      "[M::mem_pestat] (25, 50, 75) percentile: (6727, 7379, 8274)\n",
      "[M::mem_pestat] low and high boundaries for computing mean and std.dev: (3633, 11368)\n",
      "[M::mem_pestat] mean and std.dev: (7575.77, 1005.71)\n",
      "[M::mem_pestat] low and high boundaries for proper pairs: (2086, 12915)\n",
      "[M::mem_pestat] skip orientation RF as there are not enough pairs\n",
      "[M::mem_pestat] skip orientation RR as there are not enough pairs\n",
      "[M::mem_pestat] skip orientation FF\n",
      "[M::mem_process_seqs] Processed 91086 reads in 5.803 CPU sec, 5.682 real sec\n",
      "[M::mem_pestat] # candidate unique pairs for (FF, FR, RF, RR): (5, 17887, 8, 5)\n",
      "[M::mem_pestat] skip orientation FF as there are not enough pairs\n",
      "[M::mem_pestat] analyzing insert size distribution for orientation FR...\n",
      "[M::mem_pestat] (25, 50, 75) percentile: (6724, 7368, 8266)\n",
      "[M::mem_pestat] low and high boundaries for computing mean and std.dev: (3640, 11350)\n",
      "[M::mem_pestat] mean and std.dev: (7563.40, 1008.52)\n",
      "[M::mem_pestat] low and high boundaries for proper pairs: (2098, 12892)\n",
      "[M::mem_pestat] skip orientation RF as there are not enough pairs\n",
      "[M::mem_pestat] skip orientation RR as there are not enough pairs\n",
      "[M::mem_process_seqs] Processed 42284 reads in 2.802 CPU sec, 2.698 real sec\n",
      "[main] Version: 0.7.17-r1188\n",
      "[main] CMD: bwa mem ./ref.fasta ./jump.R1.fastq ./jump.R2.fastq\n",
      "[main] Real time: 275.128 sec; CPU: 281.870 sec\n"
     ]
    }
   ],
   "source": [
    "! bwa mem ./ref.fasta ./jump.R1.fastq ./jump.R2.fastq > ./alignment_jump.sam"
   ]
  },
  {
   "cell_type": "code",
   "execution_count": 5,
   "metadata": {},
   "outputs": [],
   "source": [
    "! samtools view -S -b alignment_frag.sam > alignment_frag.bam"
   ]
  },
  {
   "cell_type": "code",
   "execution_count": 6,
   "metadata": {},
   "outputs": [],
   "source": [
    "! samtools view -S -b alignment_jump.sam > alignment_jump.bam"
   ]
  },
  {
   "cell_type": "code",
   "execution_count": 7,
   "metadata": {},
   "outputs": [
    {
     "name": "stdout",
     "output_type": "stream",
     "text": [
      "3432529 + 0 in total (QC-passed reads + QC-failed reads)\r\n",
      "0 + 0 secondary\r\n",
      "165 + 0 supplementary\r\n",
      "0 + 0 duplicates\r\n",
      "3424657 + 0 mapped (99.77% : N/A)\r\n",
      "3432364 + 0 paired in sequencing\r\n",
      "1716182 + 0 read1\r\n",
      "1716182 + 0 read2\r\n",
      "3407384 + 0 properly paired (99.27% : N/A)\r\n",
      "3416620 + 0 with itself and mate mapped\r\n",
      "7872 + 0 singletons (0.23% : N/A)\r\n",
      "0 + 0 with mate mapped to a different chr\r\n",
      "0 + 0 with mate mapped to a different chr (mapQ>=5)\r\n"
     ]
    }
   ],
   "source": [
    "! samtools flagstat alignment_frag.bam"
   ]
  },
  {
   "cell_type": "markdown",
   "metadata": {},
   "source": [
    "Видим, что процент приложившихся ридов для датасета frag равен 99.77."
   ]
  },
  {
   "cell_type": "code",
   "execution_count": 8,
   "metadata": {},
   "outputs": [
    {
     "name": "stdout",
     "output_type": "stream",
     "text": [
      "4328969 + 0 in total (QC-passed reads + QC-failed reads)\r\n",
      "0 + 0 secondary\r\n",
      "13369 + 0 supplementary\r\n",
      "0 + 0 duplicates\r\n",
      "4279501 + 0 mapped (98.86% : N/A)\r\n",
      "4315600 + 0 paired in sequencing\r\n",
      "2157800 + 0 read1\r\n",
      "2157800 + 0 read2\r\n",
      "3764298 + 0 properly paired (87.23% : N/A)\r\n",
      "4216854 + 0 with itself and mate mapped\r\n",
      "49278 + 0 singletons (1.14% : N/A)\r\n",
      "0 + 0 with mate mapped to a different chr\r\n",
      "0 + 0 with mate mapped to a different chr (mapQ>=5)\r\n"
     ]
    }
   ],
   "source": [
    "! samtools flagstat alignment_jump.bam"
   ]
  },
  {
   "cell_type": "markdown",
   "metadata": {},
   "source": [
    "Процент приложившихся ридов для датасета jump равен 98.86."
   ]
  },
  {
   "cell_type": "markdown",
   "metadata": {},
   "source": [
    "#### Задание 1"
   ]
  },
  {
   "cell_type": "code",
   "execution_count": 20,
   "metadata": {},
   "outputs": [],
   "source": [
    "def get_coverage(sam_file_name, ref_file_name):    \n",
    "    sam_file = open(sam_file_name, 'r')\n",
    "    ref_file = open(ref_file_name, 'r')\n",
    "    sam_file.readline()\n",
    "    sam_file.readline()\n",
    "    ref_length = 0\n",
    "    ref_file.readline()\n",
    "    for line in ref_file:\n",
    "        ref_length += len(line)\n",
    "    per_base_coverage = np.zeros(ref_length)\n",
    "    for line in sam_file:\n",
    "        line = line.strip().split()\n",
    "        start = int(line[3])\n",
    "        read_length = len(line[9])\n",
    "        stop = min(start + read_length - 1, ref_length)\n",
    "        per_base_coverage[start:stop] = per_base_coverage[start:stop] + 1\n",
    "    ref_file.close()\n",
    "    sam_file.close()\n",
    "    return per_base_coverage"
   ]
  },
  {
   "cell_type": "markdown",
   "metadata": {},
   "source": [
    "Датасет frag:"
   ]
  },
  {
   "cell_type": "code",
   "execution_count": 21,
   "metadata": {},
   "outputs": [
    {
     "data": {
      "text/plain": [
       "<matplotlib.collections.PathCollection at 0x123d95390>"
      ]
     },
     "execution_count": 21,
     "metadata": {},
     "output_type": "execute_result"
    },
    {
     "data": {
      "image/png": "[encoded data removed]",
      "text/plain": [
       "<Figure size 864x864 with 1 Axes>"
      ]
     },
     "metadata": {
      "needs_background": "light"
     },
     "output_type": "display_data"
    }
   ],
   "source": [
    "per_base_coverage = get_coverage('alignment_frag.sam', 'ref.fasta')\n",
    "n = len(per_base_coverage)\n",
    "M = []\n",
    "N = []\n",
    "for i in range(0, n, 5000):\n",
    "    M.append(i)\n",
    "    N.append(sum(per_base_coverage[i:(i+5000)]) / 5000)\n",
    "plt.figure(figsize=(12, 12))\n",
    "plt.scatter(M, N)"
   ]
  },
  {
   "cell_type": "code",
   "execution_count": 22,
   "metadata": {},
   "outputs": [
    {
     "name": "stdout",
     "output_type": "stream",
     "text": [
      "Среднее покрытие: 138\n",
      "Процент покрытия: 98.04211275974693 %\n"
     ]
    }
   ],
   "source": [
    "print(f'Среднее покрытие: {int(sum(per_base_coverage) / len(per_base_coverage))}')\n",
    "count_covered_bases = 0\n",
    "for base in per_base_coverage:\n",
    "    if base != 0:\n",
    "        count_covered_bases += 1\n",
    "print(f'Процент покрытия: {(count_covered_bases / n) * 100} %')"
   ]
  },
  {
   "cell_type": "markdown",
   "metadata": {},
   "source": [
    "Сравним с данными из bbmap:"
   ]
  },
  {
   "cell_type": "code",
   "execution_count": 19,
   "metadata": {},
   "outputs": [
    {
     "name": "stdout",
     "output_type": "stream",
     "text": [
      "/Users/olga/Downloads/bbmap//calcmem.sh: line 75: [: -v: unary operator expected\n",
      "Max memory cannot be determined.  Attempting to use 3200 MB.\n",
      "If this fails, please add the -Xmx flag (e.g. -Xmx24g) to your command, \n",
      "or run this program qsubbed or from a qlogin session on Genepool, or set ulimit to an appropriate value.\n",
      "java -ea -Xmx3200m -cp /Users/olga/Downloads/bbmap/current/ jgi.CoveragePileup in=alignment_frag.sam out=bbmap_frag.txt hist=hist_frag.txt\n",
      "Executing jgi.CoveragePileup [in=alignment_frag.sam, out=bbmap_frag.txt, hist=hist_frag.txt]\n",
      "\n",
      "Reads:                               \t3432529\n",
      "Mapped reads:                        \t3424657\n",
      "Mapped bases:                        \t472088199\n",
      "Ref scaffolds:                       \t1\n",
      "Ref bases:                           \t3614991\n",
      "\n",
      "Percent mapped:                      \t99.771\n",
      "Percent proper pairs:                \t99.271\n",
      "Average coverage:                    \t130.592\n",
      "Average coverage with deletions:     \t130.592\n",
      "Standard deviation:                    \t28.992\n",
      "Percent scaffolds with any coverage: \t100.00\n",
      "Percent of reference bases covered:  \t100.00\n",
      "\n",
      "Time: \t2.240 seconds.\n"
     ]
    }
   ],
   "source": [
    "! /Users/olga/Downloads/bbmap/pileup.sh in=alignment_frag.sam out=bbmap_frag.txt hist=hist_frag.txt"
   ]
  },
  {
   "cell_type": "markdown",
   "metadata": {},
   "source": [
    "Среднее покрытие несколько отличается, процент покрытия близок к результату работы программы."
   ]
  },
  {
   "cell_type": "markdown",
   "metadata": {},
   "source": [
    "Датасет jump:"
   ]
  },
  {
   "cell_type": "code",
   "execution_count": 23,
   "metadata": {},
   "outputs": [
    {
     "data": {
      "text/plain": [
       "<matplotlib.collections.PathCollection at 0x123ba51d0>"
      ]
     },
     "execution_count": 23,
     "metadata": {},
     "output_type": "execute_result"
    },
    {
     "data": {
      "image/png": "[encoded data removed]",
      "text/plain": [
       "<Figure size 864x864 with 1 Axes>"
      ]
     },
     "metadata": {
      "needs_background": "light"
     },
     "output_type": "display_data"
    }
   ],
   "source": [
    "per_base_coverage = get_coverage('alignment_jump.sam', 'ref.fasta')\n",
    "n = len(per_base_coverage)\n",
    "M = []\n",
    "N = []\n",
    "for i in range(0, n, 5000):\n",
    "    M.append(i)\n",
    "    N.append(sum(per_base_coverage[i:(i+5000)]) / 5000)\n",
    "plt.figure(figsize=(12, 12))\n",
    "plt.scatter(M, N)"
   ]
  },
  {
   "cell_type": "code",
   "execution_count": 25,
   "metadata": {},
   "outputs": [
    {
     "name": "stdout",
     "output_type": "stream",
     "text": [
      "Среднее покрытие: 127\n",
      "Процент покрытия: 88.64979737156628 %\n"
     ]
    }
   ],
   "source": [
    "print(f'Среднее покрытие: {int(sum(per_base_coverage) / len(per_base_coverage))}')\n",
    "count_covered_bases = 0\n",
    "for base in per_base_coverage:\n",
    "    if base != 0:\n",
    "        count_covered_bases += 1\n",
    "print(f'Процент покрытия: {(count_covered_bases / n) * 100} %')"
   ]
  },
  {
   "cell_type": "markdown",
   "metadata": {},
   "source": [
    "Сравним с работой bbmap:"
   ]
  },
  {
   "cell_type": "code",
   "execution_count": 26,
   "metadata": {},
   "outputs": [
    {
     "name": "stdout",
     "output_type": "stream",
     "text": [
      "/Users/olga/Downloads/bbmap//calcmem.sh: line 75: [: -v: unary operator expected\n",
      "Max memory cannot be determined.  Attempting to use 3200 MB.\n",
      "If this fails, please add the -Xmx flag (e.g. -Xmx24g) to your command, \n",
      "or run this program qsubbed or from a qlogin session on Genepool, or set ulimit to an appropriate value.\n",
      "java -ea -Xmx3200m -cp /Users/olga/Downloads/bbmap/current/ jgi.CoveragePileup in=alignment_jump.sam out=bbmap_jump.txt hist=hist_jump.txt\n",
      "Executing jgi.CoveragePileup [in=alignment_jump.sam, out=bbmap_jump.txt, hist=hist_jump.txt]\n",
      "\n",
      "Reads:                               \t4328969\n",
      "Mapped reads:                        \t4279501\n",
      "Mapped bases:                        \t450991162\n",
      "Ref scaffolds:                       \t1\n",
      "Ref bases:                           \t3614991\n",
      "\n",
      "Percent mapped:                      \t98.857\n",
      "Percent proper pairs:                \t87.159\n",
      "Average coverage:                    \t124.756\n",
      "Average coverage with deletions:     \t124.758\n",
      "Standard deviation:                    \t114.683\n",
      "Percent scaffolds with any coverage: \t100.00\n",
      "Percent of reference bases covered:  \t89.16\n",
      "\n",
      "Time: \t2.119 seconds.\n"
     ]
    }
   ],
   "source": [
    "! /Users/olga/Downloads/bbmap/pileup.sh in=alignment_jump.sam out=bbmap_jump.txt hist=hist_jump.txt"
   ]
  },
  {
   "cell_type": "markdown",
   "metadata": {},
   "source": [
    "Среднее покрытие и процент покрытия практически совпадают."
   ]
  },
  {
   "cell_type": "markdown",
   "metadata": {},
   "source": [
    "#### Задание 2"
   ]
  },
  {
   "cell_type": "code",
   "execution_count": 31,
   "metadata": {},
   "outputs": [],
   "source": [
    "def get_ins_size(sam_file_name):\n",
    "    sam_file = open(sam_file_name, 'r')\n",
    "    sam_file.readline()\n",
    "    sam_file.readline()\n",
    "    count_reads = 0\n",
    "    insert_sizes = {}\n",
    "    for line in sam_file:\n",
    "        line = line.strip().split()\n",
    "        ins_size = int(line[8])\n",
    "        if ins_size <= 0:\n",
    "            continue\n",
    "        if ins_size not in insert_sizes.keys():\n",
    "            insert_sizes[ins_size] = 1\n",
    "        else:\n",
    "            insert_sizes[ins_size] += 1\n",
    "        count_reads += 1\n",
    "    sam_file.close()\n",
    "    return insert_sizes, count_reads"
   ]
  },
  {
   "cell_type": "markdown",
   "metadata": {},
   "source": [
    "Датасет frag:"
   ]
  },
  {
   "cell_type": "code",
   "execution_count": 32,
   "metadata": {},
   "outputs": [
    {
     "name": "stdout",
     "output_type": "stream",
     "text": [
      "[]\n"
     ]
    }
   ],
   "source": [
    "insert_sizes, count_reads = get_ins_size('alignment_frag.sam')\n",
    "M_ = [] #расстояния вставки\n",
    "N_ = [] #количества ридов\n",
    "for s in insert_sizes.keys():\n",
    "    M_.append(s)\n",
    "    N_.append(insert_sizes[s])\n",
    "N = np.asarray([[N_[i], i] for i in range(len(N_)) if M_[i] < 1000])\n",
    "M = np.asarray([M_[i] for i in range(len(M_)) if i in N[:, 1]])\n",
    "\n",
    "interval = np.asarray([M_[i] for i in range(len(M_)) if N_[i] == 0.95*count_reads])\n",
    "print(interval)"
   ]
  },
  {
   "cell_type": "markdown",
   "metadata": {},
   "source": [
    "Интервал минимальной ширины, в который попадает 95% ридов, не нашёлся."
   ]
  },
  {
   "cell_type": "code",
   "execution_count": 33,
   "metadata": {},
   "outputs": [
    {
     "data": {
      "text/plain": [
       "<matplotlib.collections.PathCollection at 0x123fbe450>"
      ]
     },
     "execution_count": 33,
     "metadata": {},
     "output_type": "execute_result"
    },
    {
     "data": {
      "image/png": "[encoded data removed]",
      "text/plain": [
       "<Figure size 432x288 with 1 Axes>"
      ]
     },
     "metadata": {
      "needs_background": "light"
     },
     "output_type": "display_data"
    }
   ],
   "source": [
    "plt.scatter(M, N[:, 0])"
   ]
  },
  {
   "cell_type": "code",
   "execution_count": 34,
   "metadata": {},
   "outputs": [
    {
     "name": "stdout",
     "output_type": "stream",
     "text": [
      "Среднее: 990451.3721898418\n",
      "Среднеквадратичное отклонение: 952026.8662403717\n"
     ]
    }
   ],
   "source": [
    "print(f'Среднее: {np.sum(M_) / len(M_)}')\n",
    "print(f'Среднеквадратичное отклонение: {np.std(M_)}')"
   ]
  },
  {
   "cell_type": "markdown",
   "metadata": {},
   "source": [
    "Датасет jump:"
   ]
  },
  {
   "cell_type": "code",
   "execution_count": 36,
   "metadata": {},
   "outputs": [
    {
     "name": "stdout",
     "output_type": "stream",
     "text": [
      "[]\n"
     ]
    }
   ],
   "source": [
    "insert_sizes, count_reads = get_ins_size('alignment_jump.sam')\n",
    "M_ = [] #расстояния вставки\n",
    "N_ = [] #количества ридов\n",
    "for s in insert_sizes.keys():\n",
    "    M_.append(s)\n",
    "    N_.append(insert_sizes[s])\n",
    "N = np.asarray([[N_[i], i] for i in range(len(N_)) if M_[i] < 10000])\n",
    "M = np.asarray([M_[i] for i in range(len(M_)) if i in N[:, 1]])\n",
    "\n",
    "interval = np.asarray([M_[i] for i in range(len(M_)) if N_[i] == 0.95*count_reads])\n",
    "print(interval)"
   ]
  },
  {
   "cell_type": "markdown",
   "metadata": {},
   "source": [
    "Интервал минимальной ширины, в который попадает 95% ридов, не нашёлся."
   ]
  },
  {
   "cell_type": "code",
   "execution_count": 37,
   "metadata": {},
   "outputs": [
    {
     "data": {
      "text/plain": [
       "<matplotlib.collections.PathCollection at 0x123f85c10>"
      ]
     },
     "execution_count": 37,
     "metadata": {},
     "output_type": "execute_result"
    },
    {
     "data": {
      "image/png": "[encoded data removed]",
      "text/plain": [
       "<Figure size 432x288 with 1 Axes>"
      ]
     },
     "metadata": {
      "needs_background": "light"
     },
     "output_type": "display_data"
    }
   ],
   "source": [
    "plt.scatter(M, N[:, 0])"
   ]
  },
  {
   "cell_type": "code",
   "execution_count": 38,
   "metadata": {},
   "outputs": [
    {
     "name": "stdout",
     "output_type": "stream",
     "text": [
      "Среднее: 1195901.96494068\n",
      "Среднеквадратичное отклонение: 922868.6368988004\n"
     ]
    }
   ],
   "source": [
    "print(f'Среднее: {np.sum(M_) / len(M_)}')\n",
    "print(f'Среднеквадратичное отклонение: {np.std(M_)}')"
   ]
  },
  {
   "cell_type": "markdown",
   "metadata": {},
   "source": [
    "Данные из jump обладают большим расстоянием вставки."
   ]
  },
  {
   "cell_type": "markdown",
   "metadata": {},
   "source": [
    "#### Задание 3"
   ]
  },
  {
   "cell_type": "code",
   "execution_count": 48,
   "metadata": {},
   "outputs": [],
   "source": [
    "def get_mismatches(sam_file_name, ref_file_name):\n",
    "    mismatches = {('A', 'A'): 0, ('A', 'C'): 0, ('A', 'G'): 0, ('A', 'T'): 0, \n",
    "                  ('C', 'A'): 0, ('C', 'C'): 0, ('C', 'G'): 0, ('C', 'T'): 0,\n",
    "                  ('G', 'A'): 0, ('G', 'C'): 0, ('G', 'G'): 0, ('G', 'T'): 0, \n",
    "                  ('T', 'A'): 0, ('T', 'C'): 0, ('T', 'G'): 0, ('T', 'T'): 0}\n",
    "    sam_file = open(sam_file_name, 'r')\n",
    "    ref_file = open(ref_file_name, 'r')\n",
    "    sam_file.readline()\n",
    "    sam_file.readline()\n",
    "    ref_file.readline()\n",
    "    ref_seq = ''\n",
    "    ref_length = 0\n",
    "    for line in ref_file:\n",
    "        ref_seq += line.strip()\n",
    "    ref_file.close()\n",
    "    ref_length = len(ref_seq)\n",
    "    total_align_info = {}\n",
    "    for line in sam_file:\n",
    "        line = line.strip().split()\n",
    "        if line[5] == '*':\n",
    "                continue\n",
    "        start = int(line[3])\n",
    "        read_length = len(line[9])\n",
    "        #total_len += read_length\n",
    "        read_seq = line[9]\n",
    "        stop = min(start + read_length - 1, ref_length)\n",
    "        align_info = list(Cigar(line[5]).items())\n",
    "        for (num, letter) in align_info:\n",
    "            if letter not in total_align_info.keys():\n",
    "                total_align_info[letter] = num\n",
    "            else:\n",
    "                total_align_info[letter] += num\n",
    "        align_info_string = ''.join([letter*num for (num, letter) in align_info])\n",
    "        for i in range(start - 1, stop):\n",
    "            if (read_seq[i - start + 1], ref_seq[i]) == ('A', 'C') and align_info_string[i - start + 1] == 'M':\n",
    "                mismatches[('A', 'C')] += 1\n",
    "            elif (read_seq[i - start + 1], ref_seq[i]) == ('A', 'G') and align_info_string[i - start + 1] == 'M':\n",
    "                mismatches[('A', 'G')] += 1\n",
    "            elif (read_seq[i - start + 1], ref_seq[i]) == ('A', 'T') and align_info_string[i - start + 1] == 'M':\n",
    "                mismatches[('A', 'T')] += 1\n",
    "            elif (read_seq[i - start + 1], ref_seq[i]) == ('C', 'A') and align_info_string[i - start + 1] == 'M':\n",
    "                mismatches[('C', 'A')] += 1\n",
    "            elif (read_seq[i - start + 1], ref_seq[i]) == ('C', 'G') and align_info_string[i - start + 1] == 'M':\n",
    "                mismatches[('C', 'G')] += 1\n",
    "            elif (read_seq[i - start + 1], ref_seq[i]) == ('C', 'T') and align_info_string[i - start + 1] == 'M':\n",
    "                mismatches[('C', 'T')] += 1\n",
    "            elif (read_seq[i - start + 1], ref_seq[i]) == ('G', 'A') and align_info_string[i - start + 1] == 'M':\n",
    "                mismatches[('G', 'A')] += 1\n",
    "            elif (read_seq[i - start + 1], ref_seq[i]) == ('G', 'C') and align_info_string[i - start + 1] == 'M':\n",
    "                mismatches[('G', 'C')] += 1\n",
    "            elif (read_seq[i - start + 1], ref_seq[i]) == ('G', 'T') and align_info_string[i - start + 1] == 'M':\n",
    "                mismatches[('G', 'T')] += 1\n",
    "            elif (read_seq[i - start + 1], ref_seq[i]) == ('T', 'A') and align_info_string[i - start + 1] == 'M':\n",
    "                mismatches[('T', 'A')] += 1\n",
    "            elif (read_seq[i - start + 1], ref_seq[i]) == ('T', 'C') and align_info_string[i - start + 1] == 'M':\n",
    "                mismatches[('T', 'C')] += 1\n",
    "            elif (read_seq[i - start + 1], ref_seq[i]) == ('T', 'G') and align_info_string[i - start + 1] == 'M':\n",
    "                mismatches[('T', 'G')] += 1\n",
    "    sam_file.close()\n",
    "    total_len = np.sum(list(total_align_info.values()))\n",
    "    return mismatches, total_len"
   ]
  },
  {
   "cell_type": "markdown",
   "metadata": {},
   "source": [
    "Датасет frag:"
   ]
  },
  {
   "cell_type": "code",
   "execution_count": 54,
   "metadata": {},
   "outputs": [
    {
     "name": "stdout",
     "output_type": "stream",
     "text": [
      "Матрица замен:\n",
      "         A         C         G        T\n",
      "A        0   5501892   5134012  2042362\n",
      "C  6431439         0  14387161  5948797\n",
      "G  5895776  14101450         0  6435023\n",
      "T  2071216   5241640   5440268        0\n",
      "------------------------------\n",
      "Матрица частот замен:\n",
      "          A         C         G         T\n",
      "A  0.000000  0.010710  0.009994  0.003976\n",
      "C  0.012519  0.000000  0.028006  0.011580\n",
      "G  0.011477  0.027449  0.000000  0.012526\n",
      "T  0.004032  0.010203  0.010590  0.000000\n"
     ]
    }
   ],
   "source": [
    "mismatches, total_len = get_mismatches('alignment_frag.sam', 'ref.fasta')\n",
    "print('Матрица замен:')\n",
    "mismatches_df = pd.DataFrame(np.array(list(mismatches.values())).reshape(4, 4), columns=['A', 'C', 'G', 'T'], index=['A', 'C', 'G', 'T'])\n",
    "print(mismatches_df)\n",
    "print('------------------------------')\n",
    "print('Матрица частот замен:')\n",
    "mismatches_freq_arr = np.array(list(mismatches.values())) / total_len\n",
    "mismatches_freq_df = pd.DataFrame(mismatches_freq_arr.reshape(4, 4), columns=['A', 'C', 'G', 'T'], index=['A', 'C', 'G', 'T'])\n",
    "print(mismatches_freq_df)"
   ]
  },
  {
   "cell_type": "code",
   "execution_count": 55,
   "metadata": {},
   "outputs": [
    {
     "name": "stdout",
     "output_type": "stream",
     "text": [
      "Средний процент ошибок в ридах: 0.9566284139407685 %\n"
     ]
    }
   ],
   "source": [
    "print(f'Средний процент ошибок в ридах: {np.mean([mismatches[elem]/total_len for elem in mismatches.keys()]) * 100} %')"
   ]
  },
  {
   "cell_type": "markdown",
   "metadata": {},
   "source": [
    "Датасет jump:"
   ]
  },
  {
   "cell_type": "code",
   "execution_count": 56,
   "metadata": {},
   "outputs": [
    {
     "name": "stdout",
     "output_type": "stream",
     "text": [
      "Матрица замен:\n",
      "         A        C        G        T\n",
      "A        0  2181134  2081695   860064\n",
      "C  2953718        0  5760230  2639569\n",
      "G  2612192  5656285        0  2944942\n",
      "T   879849  2124719  2146064        0\n",
      "------------------------------\n",
      "Матрица частот замен:\n",
      "          A         C         G         T\n",
      "A  0.000000  0.004632  0.004421  0.001826\n",
      "C  0.006272  0.000000  0.012232  0.005605\n",
      "G  0.005547  0.012011  0.000000  0.006254\n",
      "T  0.001868  0.004512  0.004557  0.000000\n"
     ]
    }
   ],
   "source": [
    "mismatches, total_len = get_mismatches('alignment_jump.sam', 'ref.fasta')\n",
    "print('Матрица замен:')\n",
    "mismatches_df = pd.DataFrame(np.array(list(mismatches.values())).reshape(4, 4), columns=['A', 'C', 'G', 'T'], index=['A', 'C', 'G', 'T'])\n",
    "print(mismatches_df)\n",
    "print('------------------------------')\n",
    "print('Матрица частот замен:')\n",
    "mismatches_freq_arr = np.array(list(mismatches.values())) / total_len\n",
    "mismatches_freq_df = pd.DataFrame(mismatches_freq_arr.reshape(4, 4), columns=['A', 'C', 'G', 'T'], index=['A', 'C', 'G', 'T'])\n",
    "print(mismatches_freq_df)"
   ]
  },
  {
   "cell_type": "code",
   "execution_count": 57,
   "metadata": {},
   "outputs": [
    {
     "name": "stdout",
     "output_type": "stream",
     "text": [
      "Средний процент ошибок в ридах: 0.43586545092272644 %\n"
     ]
    }
   ],
   "source": [
    "print(f'Средний процент ошибок в ридах: {np.mean([mismatches[elem]/total_len for elem in mismatches.keys()]) * 100} %')"
   ]
  },
  {
   "cell_type": "markdown",
   "metadata": {},
   "source": [
    "Можно заметить, что матрицы частот замен почти симметричные."
   ]
  },
  {
   "cell_type": "markdown",
   "metadata": {},
   "source": [
    "### Часть 2"
   ]
  },
  {
   "cell_type": "code",
   "execution_count": 58,
   "metadata": {},
   "outputs": [
    {
     "name": "stdout",
     "output_type": "stream",
     "text": [
      "[bwa_index] Pack FASTA... 0.04 sec\n",
      "[bwa_index] Construct BWT for the packed sequence...\n",
      "[bwa_index] 1.44 seconds elapse.\n",
      "[bwa_index] Update BWT... 0.03 sec\n",
      "[bwa_index] Pack forward-only FASTA... 0.02 sec\n",
      "[bwa_index] Construct SA from BWT and Occ... 0.32 sec\n",
      "[main] Version: 0.7.17-r1188\n",
      "[main] CMD: bwa index ./DH10B-K12.fasta\n",
      "[main] Real time: 1.864 sec; CPU: 1.858 sec\n"
     ]
    }
   ],
   "source": [
    "! bwa index ./DH10B-K12.fasta"
   ]
  },
  {
   "cell_type": "code",
   "execution_count": 61,
   "metadata": {},
   "outputs": [
    {
     "name": "stdout",
     "output_type": "stream",
     "text": [
      "[M::bwa_idx_load_from_disk] read 0 ALT contigs\n",
      "[M::process] read 30580 sequences (10000589 bp)...\n",
      "[M::process] read 30700 sequences (10000499 bp)...\n",
      "[M::mem_process_seqs] Processed 30580 reads in 4.488 CPU sec, 4.466 real sec\n",
      "[M::process] read 30654 sequences (10000464 bp)...\n",
      "[M::mem_process_seqs] Processed 30700 reads in 4.929 CPU sec, 4.868 real sec\n",
      "[M::process] read 30558 sequences (10000069 bp)...\n",
      "[M::mem_process_seqs] Processed 30654 reads in 5.451 CPU sec, 5.394 real sec\n",
      "[M::process] read 30468 sequences (10000148 bp)...\n",
      "[M::mem_process_seqs] Processed 30558 reads in 4.228 CPU sec, 4.169 real sec\n",
      "[M::process] read 30596 sequences (10000413 bp)...\n",
      "[M::mem_process_seqs] Processed 30468 reads in 4.307 CPU sec, 4.255 real sec\n",
      "[M::process] read 30514 sequences (10000381 bp)...\n",
      "[M::mem_process_seqs] Processed 30596 reads in 4.329 CPU sec, 4.249 real sec\n",
      "[M::process] read 30520 sequences (10000266 bp)...\n",
      "[M::mem_process_seqs] Processed 30514 reads in 3.896 CPU sec, 3.834 real sec\n",
      "[M::process] read 30396 sequences (10000010 bp)...\n",
      "[M::mem_process_seqs] Processed 30520 reads in 4.379 CPU sec, 4.319 real sec\n",
      "[M::process] read 30478 sequences (10000118 bp)...\n",
      "[M::mem_process_seqs] Processed 30396 reads in 4.052 CPU sec, 3.982 real sec\n",
      "[M::process] read 30562 sequences (10000033 bp)...\n",
      "[M::mem_process_seqs] Processed 30478 reads in 4.287 CPU sec, 4.222 real sec\n",
      "[M::process] read 30576 sequences (10000499 bp)...\n",
      "[M::mem_process_seqs] Processed 30562 reads in 4.316 CPU sec, 4.260 real sec\n",
      "[M::process] read 30436 sequences (10000698 bp)...\n",
      "[M::mem_process_seqs] Processed 30576 reads in 4.258 CPU sec, 4.192 real sec\n",
      "[M::process] read 30768 sequences (10000324 bp)...\n",
      "[M::mem_process_seqs] Processed 30436 reads in 4.375 CPU sec, 4.302 real sec\n",
      "[M::process] read 30638 sequences (10000103 bp)...\n",
      "[M::mem_process_seqs] Processed 30768 reads in 4.375 CPU sec, 4.310 real sec\n",
      "[M::process] read 30718 sequences (10000240 bp)...\n",
      "[M::mem_process_seqs] Processed 30638 reads in 4.620 CPU sec, 4.558 real sec\n",
      "[M::process] read 5759 sequences (1147709 bp)...\n",
      "[M::mem_process_seqs] Processed 30718 reads in 4.380 CPU sec, 4.356 real sec\n",
      "[M::mem_process_seqs] Processed 5759 reads in 0.511 CPU sec, 0.452 real sec\n",
      "[main] Version: 0.7.17-r1188\n",
      "[main] CMD: bwa mem ./DH10B-K12.fasta ./B22-730.fastq\n",
      "[main] Real time: 70.242 sec; CPU: 71.233 sec\n"
     ]
    }
   ],
   "source": [
    "! bwa mem ./DH10B-K12.fasta ./B22-730.fastq > ./alignment_B22_730.sam"
   ]
  },
  {
   "cell_type": "code",
   "execution_count": 63,
   "metadata": {},
   "outputs": [
    {
     "name": "stdout",
     "output_type": "stream",
     "text": [
      "[M::bwa_idx_load_from_disk] read 0 ALT contigs\n",
      "[M::process] read 40748 sequences (10000257 bp)...\n",
      "[M::process] read 40830 sequences (10000256 bp)...\n",
      "[M::mem_process_seqs] Processed 40748 reads in 3.049 CPU sec, 3.010 real sec\n",
      "[M::process] read 40678 sequences (10000475 bp)...\n",
      "[M::mem_process_seqs] Processed 40830 reads in 2.989 CPU sec, 2.895 real sec\n",
      "[M::process] read 40934 sequences (10000123 bp)...\n",
      "[M::mem_process_seqs] Processed 40678 reads in 3.722 CPU sec, 3.646 real sec\n",
      "[M::process] read 40668 sequences (10000353 bp)...\n",
      "[M::mem_process_seqs] Processed 40934 reads in 2.914 CPU sec, 2.852 real sec\n",
      "[M::process] read 40714 sequences (10000220 bp)...\n",
      "[M::mem_process_seqs] Processed 40668 reads in 2.964 CPU sec, 2.908 real sec\n",
      "[M::process] read 40714 sequences (10000207 bp)...\n",
      "[M::mem_process_seqs] Processed 40714 reads in 3.058 CPU sec, 2.967 real sec\n",
      "[M::process] read 40584 sequences (10000468 bp)...\n",
      "[M::mem_process_seqs] Processed 40714 reads in 2.684 CPU sec, 2.592 real sec\n",
      "[M::process] read 40728 sequences (10000278 bp)...\n",
      "[M::mem_process_seqs] Processed 40584 reads in 3.024 CPU sec, 2.958 real sec\n",
      "[M::process] read 40746 sequences (10000126 bp)...\n",
      "[M::mem_process_seqs] Processed 40728 reads in 2.831 CPU sec, 2.761 real sec\n",
      "[M::process] read 40890 sequences (10000295 bp)...\n",
      "[M::mem_process_seqs] Processed 40746 reads in 2.857 CPU sec, 2.782 real sec\n",
      "[M::process] read 40758 sequences (10000106 bp)...\n",
      "[M::mem_process_seqs] Processed 40890 reads in 2.878 CPU sec, 2.802 real sec\n",
      "[M::process] read 40668 sequences (10000113 bp)...\n",
      "[M::mem_process_seqs] Processed 40758 reads in 3.027 CPU sec, 2.958 real sec\n",
      "[M::process] read 40834 sequences (10000508 bp)...\n",
      "[M::mem_process_seqs] Processed 40668 reads in 3.096 CPU sec, 3.019 real sec\n",
      "[M::process] read 40740 sequences (10000085 bp)...\n",
      "[M::mem_process_seqs] Processed 40834 reads in 3.244 CPU sec, 3.185 real sec\n",
      "[M::process] read 40748 sequences (10000509 bp)...\n",
      "[M::mem_process_seqs] Processed 40740 reads in 3.267 CPU sec, 3.178 real sec\n",
      "[M::process] read 33424 sequences (7905189 bp)...\n",
      "[M::mem_process_seqs] Processed 40748 reads in 3.033 CPU sec, 2.945 real sec\n",
      "[M::mem_process_seqs] Processed 33424 reads in 2.269 CPU sec, 2.207 real sec\n",
      "[main] Version: 0.7.17-r1188\n",
      "[main] CMD: bwa mem ./DH10B-K12.fasta ./C24-698.fastq\n",
      "[main] Real time: 49.789 sec; CPU: 51.027 sec\n"
     ]
    }
   ],
   "source": [
    "! bwa mem ./DH10B-K12.fasta ./C24-698.fastq > ./alignment_C24_698.sam"
   ]
  },
  {
   "cell_type": "markdown",
   "metadata": {},
   "source": [
    "#### Покрытие генома (график, среднее покрытие, процент покрытия)"
   ]
  },
  {
   "cell_type": "markdown",
   "metadata": {},
   "source": [
    "Датасет B22-730:"
   ]
  },
  {
   "cell_type": "code",
   "execution_count": 64,
   "metadata": {},
   "outputs": [
    {
     "data": {
      "text/plain": [
       "<matplotlib.collections.PathCollection at 0x126ed1310>"
      ]
     },
     "execution_count": 64,
     "metadata": {},
     "output_type": "execute_result"
    },
    {
     "data": {
      "image/png": "[encoded data removed]",
      "text/plain": [
       "<Figure size 864x864 with 1 Axes>"
      ]
     },
     "metadata": {
      "needs_background": "light"
     },
     "output_type": "display_data"
    }
   ],
   "source": [
    "per_base_coverage = get_coverage('alignment_B22_730.sam', 'DH10B-K12.fasta')\n",
    "n = len(per_base_coverage)\n",
    "M = []\n",
    "N = []\n",
    "for i in range(0, n, 5000):\n",
    "    M.append(i)\n",
    "    N.append(sum(per_base_coverage[i:(i+5000)]) / 5000)\n",
    "plt.figure(figsize=(12, 12))\n",
    "plt.scatter(M, N)"
   ]
  },
  {
   "cell_type": "code",
   "execution_count": 65,
   "metadata": {},
   "outputs": [
    {
     "name": "stdout",
     "output_type": "stream",
     "text": [
      "Среднее покрытие: 33\n",
      "Процент покрытия: 98.58397170846796 %\n"
     ]
    }
   ],
   "source": [
    "print(f'Среднее покрытие: {int(sum(per_base_coverage) / len(per_base_coverage))}')\n",
    "count_covered_bases = 0\n",
    "for base in per_base_coverage:\n",
    "    if base != 0:\n",
    "        count_covered_bases += 1\n",
    "print(f'Процент покрытия: {(count_covered_bases / n) * 100} %')"
   ]
  },
  {
   "cell_type": "markdown",
   "metadata": {},
   "source": [
    "Сравним с работой bbmap:"
   ]
  },
  {
   "cell_type": "code",
   "execution_count": 67,
   "metadata": {},
   "outputs": [
    {
     "name": "stdout",
     "output_type": "stream",
     "text": [
      "/Users/olga/Downloads/bbmap//calcmem.sh: line 75: [: -v: unary operator expected\n",
      "Max memory cannot be determined.  Attempting to use 3200 MB.\n",
      "If this fails, please add the -Xmx flag (e.g. -Xmx24g) to your command, \n",
      "or run this program qsubbed or from a qlogin session on Genepool, or set ulimit to an appropriate value.\n",
      "java -ea -Xmx3200m -cp /Users/olga/Downloads/bbmap/current/ jgi.CoveragePileup in=alignment_B22_730.sam out=bbmap_B22_730.txt hist=hist_B22_730.txt\n",
      "Executing jgi.CoveragePileup [in=alignment_B22_730.sam, out=bbmap_B22_730.txt, hist=hist_B22_730.txt]\n",
      "\n",
      "Reads:                               \t497384\n",
      "Mapped reads:                        \t489459\n",
      "Mapped bases:                        \t159632928\n",
      "Ref scaffolds:                       \t1\n",
      "Ref bases:                           \t4686137\n",
      "\n",
      "Percent mapped:                      \t98.407\n",
      "Percent proper pairs:                \t0.000\n",
      "Average coverage:                    \t34.065\n",
      "Average coverage with deletions:     \t34.035\n",
      "Standard deviation:                    \t10.532\n",
      "Percent scaffolds with any coverage: \t100.00\n",
      "Percent of reference bases covered:  \t99.99\n",
      "\n",
      "Time: \t0.857 seconds.\n"
     ]
    }
   ],
   "source": [
    "! /Users/olga/Downloads/bbmap/pileup.sh in=alignment_B22_730.sam out=bbmap_B22_730.txt hist=hist_B22_730.txt"
   ]
  },
  {
   "cell_type": "markdown",
   "metadata": {},
   "source": [
    "Среднее покрытие и процент покрытия практически совпадают."
   ]
  },
  {
   "cell_type": "markdown",
   "metadata": {},
   "source": [
    "Датасет C24-698:"
   ]
  },
  {
   "cell_type": "code",
   "execution_count": 68,
   "metadata": {},
   "outputs": [
    {
     "data": {
      "text/plain": [
       "<matplotlib.collections.PathCollection at 0x127064110>"
      ]
     },
     "execution_count": 68,
     "metadata": {},
     "output_type": "execute_result"
    },
    {
     "data": {
      "image/png": "[encoded data removed]",
      "text/plain": [
       "<Figure size 864x864 with 1 Axes>"
      ]
     },
     "metadata": {
      "needs_background": "light"
     },
     "output_type": "display_data"
    }
   ],
   "source": [
    "per_base_coverage = get_coverage('alignment_C24_698.sam', 'DH10B-K12.fasta')\n",
    "n = len(per_base_coverage)\n",
    "M = []\n",
    "N = []\n",
    "for i in range(0, n, 5000):\n",
    "    M.append(i)\n",
    "    N.append(sum(per_base_coverage[i:(i+5000)]) / 5000)\n",
    "plt.figure(figsize=(12, 12))\n",
    "plt.scatter(M, N)"
   ]
  },
  {
   "cell_type": "code",
   "execution_count": 69,
   "metadata": {},
   "outputs": [
    {
     "name": "stdout",
     "output_type": "stream",
     "text": [
      "Среднее покрытие: 35\n",
      "Процент покрытия: 98.59371275443749 %\n"
     ]
    }
   ],
   "source": [
    "print(f'Среднее покрытие: {int(sum(per_base_coverage) / len(per_base_coverage))}')\n",
    "count_covered_bases = 0\n",
    "for base in per_base_coverage:\n",
    "    if base != 0:\n",
    "        count_covered_bases += 1\n",
    "print(f'Процент покрытия: {(count_covered_bases / n) * 100} %')"
   ]
  },
  {
   "cell_type": "markdown",
   "metadata": {},
   "source": [
    "Сравним с работой bbmap:"
   ]
  },
  {
   "cell_type": "code",
   "execution_count": 70,
   "metadata": {},
   "outputs": [
    {
     "name": "stdout",
     "output_type": "stream",
     "text": [
      "/Users/olga/Downloads/bbmap//calcmem.sh: line 75: [: -v: unary operator expected\n",
      "Max memory cannot be determined.  Attempting to use 3200 MB.\n",
      "If this fails, please add the -Xmx flag (e.g. -Xmx24g) to your command, \n",
      "or run this program qsubbed or from a qlogin session on Genepool, or set ulimit to an appropriate value.\n",
      "java -ea -Xmx3200m -cp /Users/olga/Downloads/bbmap/current/ jgi.CoveragePileup in=alignment_C24_698.sam out=bbmap_C24_698.txt hist=hist_C24_698.txt\n",
      "Executing jgi.CoveragePileup [in=alignment_C24_698.sam, out=bbmap_C24_698.txt, hist=hist_C24_698.txt]\n",
      "\n",
      "Reads:                               \t686667\n",
      "Mapped reads:                        \t682638\n",
      "Mapped bases:                        \t167334689\n",
      "Ref scaffolds:                       \t1\n",
      "Ref bases:                           \t4686137\n",
      "\n",
      "Percent mapped:                      \t99.413\n",
      "Percent proper pairs:                \t0.000\n",
      "Average coverage:                    \t35.708\n",
      "Average coverage with deletions:     \t35.705\n",
      "Standard deviation:                    \t8.029\n",
      "Percent scaffolds with any coverage: \t100.00\n",
      "Percent of reference bases covered:  \t100.00\n",
      "\n",
      "Time: \t0.905 seconds.\n"
     ]
    }
   ],
   "source": [
    "! /Users/olga/Downloads/bbmap/pileup.sh in=alignment_C24_698.sam out=bbmap_C24_698.txt hist=hist_C24_698.txt"
   ]
  },
  {
   "cell_type": "markdown",
   "metadata": {},
   "source": [
    "Среднее покрытие и процент покрытия практически совпадают."
   ]
  },
  {
   "cell_type": "markdown",
   "metadata": {},
   "source": [
    "#### Статистика длин инделов"
   ]
  },
  {
   "cell_type": "code",
   "execution_count": 72,
   "metadata": {},
   "outputs": [],
   "source": [
    "def get_indel_lengths(sam_file_name):\n",
    "    sam_file = open(sam_file_name, 'r')\n",
    "    sam_file.readline()\n",
    "    sam_file.readline()\n",
    "    insertion_lengths = {}\n",
    "    deletion_lengths = {}\n",
    "    indel_lengths = {}\n",
    "    for line in sam_file:\n",
    "        line = line.strip().split()\n",
    "        if line[5] == '*':\n",
    "            continue\n",
    "        align_info = list(Cigar(line[5]).items())\n",
    "        for (num, letter) in align_info:\n",
    "            if letter == 'D':\n",
    "                if num not in deletion_lengths.keys():\n",
    "                    deletion_lengths[num] = 1\n",
    "                else:\n",
    "                    deletion_lengths[num] += 1\n",
    "                if num not in indel_lengths.keys():\n",
    "                    indel_lengths[num] = 1\n",
    "                else:\n",
    "                    indel_lengths[num] += 1\n",
    "            elif letter == 'I':\n",
    "                if num not in insertion_lengths.keys():\n",
    "                    insertion_lengths[num] = 1\n",
    "                else:\n",
    "                    insertion_lengths[num] += 1\n",
    "                if num not in indel_lengths.keys():\n",
    "                    indel_lengths[num] = 1\n",
    "                else:\n",
    "                    indel_lengths[num] += 1\n",
    "    sam_file.close()\n",
    "    return deletion_lengths, insertion_lengths, indel_lengths"
   ]
  },
  {
   "cell_type": "markdown",
   "metadata": {},
   "source": [
    "Датасет B22-730"
   ]
  },
  {
   "cell_type": "code",
   "execution_count": 73,
   "metadata": {},
   "outputs": [
    {
     "name": "stdout",
     "output_type": "stream",
     "text": [
      "{1: 340196, 2: 18865, 3: 1403, 4: 277, 5: 76, 6: 23, 16: 1, 14: 1, 7: 10, 24: 1, 8: 3}\n",
      "Средняя длина делеций: 8.181818181818182\n",
      "Минимальная длина делеций: 1\n",
      "Максимальная длина делеций: 24\n"
     ]
    },
    {
     "data": {
      "text/plain": [
       "<matplotlib.collections.PathCollection at 0x1273a3950>"
      ]
     },
     "execution_count": 73,
     "metadata": {},
     "output_type": "execute_result"
    },
    {
     "data": {
      "image/png": "[encoded data removed]",
      "text/plain": [
       "<Figure size 864x576 with 1 Axes>"
      ]
     },
     "metadata": {
      "needs_background": "light"
     },
     "output_type": "display_data"
    }
   ],
   "source": [
    "deletion_lengths, insertion_lengths, indel_lengths = get_indel_lengths('alignment_B22_730.sam')\n",
    "print(deletion_lengths)\n",
    "print(f'Средняя длина делеций: {np.mean(list(deletion_lengths.keys()))}')\n",
    "print(f'Минимальная длина делеций: {min(list(deletion_lengths.keys()))}')\n",
    "print(f'Максимальная длина делеций: {max(list(deletion_lengths.keys()))}')\n",
    "\n",
    "n = len(list(deletion_lengths.keys()))\n",
    "M = []\n",
    "N = []\n",
    "for elem in deletion_lengths.keys():\n",
    "    M.append(elem)\n",
    "    N.append(deletion_lengths[elem])\n",
    "\n",
    "plt.figure(figsize=(12, 8))\n",
    "plt.title('Deletion lengths')\n",
    "plt.scatter(M, N)"
   ]
  },
  {
   "cell_type": "code",
   "execution_count": 75,
   "metadata": {},
   "outputs": [
    {
     "name": "stdout",
     "output_type": "stream",
     "text": [
      "{1: 449394, 2: 28183, 4: 837, 3: 2948, 9: 54, 7: 124, 10: 58, 5: 328, 11: 35, 6: 203, 12: 24, 14: 25, 13: 27, 8: 91, 16: 21, 19: 4, 18: 7, 17: 20, 21: 1, 15: 15, 20: 1}\n",
      "Средняя длина вставок: 11.0\n",
      "Минимальная длина вставок: 1\n",
      "Максимальная длина вставок: 21\n"
     ]
    },
    {
     "data": {
      "text/plain": [
       "<matplotlib.collections.PathCollection at 0x1271c2990>"
      ]
     },
     "execution_count": 75,
     "metadata": {},
     "output_type": "execute_result"
    },
    {
     "data": {
      "image/png": "[encoded data removed]",
      "text/plain": [
       "<Figure size 864x576 with 1 Axes>"
      ]
     },
     "metadata": {
      "needs_background": "light"
     },
     "output_type": "display_data"
    }
   ],
   "source": [
    "print(insertion_lengths)\n",
    "print(f'Средняя длина вставок: {np.mean(list(insertion_lengths.keys()))}')\n",
    "print(f'Минимальная длина вставок: {min(list(insertion_lengths.keys()))}')\n",
    "print(f'Максимальная длина вставок: {max(list(insertion_lengths.keys()))}')\n",
    "\n",
    "n = len(list(insertion_lengths.keys()))\n",
    "M = []\n",
    "N = []\n",
    "for elem in insertion_lengths.keys():\n",
    "    M.append(elem)\n",
    "    N.append(insertion_lengths[elem])\n",
    "\n",
    "plt.figure(figsize=(12, 8))\n",
    "plt.title('Insertion lengths')\n",
    "plt.scatter(M, N)"
   ]
  },
  {
   "cell_type": "code",
   "execution_count": 76,
   "metadata": {},
   "outputs": [
    {
     "name": "stdout",
     "output_type": "stream",
     "text": [
      "{1: 789590, 2: 47048, 4: 1114, 3: 4351, 9: 54, 7: 134, 10: 58, 5: 404, 11: 35, 6: 226, 12: 24, 14: 26, 13: 27, 8: 94, 16: 22, 19: 4, 18: 7, 17: 20, 21: 1, 15: 15, 20: 1, 24: 1}\n",
      "Средняя длина инделов: 11.590909090909092\n",
      "Минимальная длина инделов: 1\n",
      "Максимальная длина инделов: 24\n"
     ]
    },
    {
     "data": {
      "text/plain": [
       "<matplotlib.collections.PathCollection at 0x1278b0910>"
      ]
     },
     "execution_count": 76,
     "metadata": {},
     "output_type": "execute_result"
    },
    {
     "data": {
      "image/png": "[encoded data removed]",
      "text/plain": [
       "<Figure size 864x576 with 1 Axes>"
      ]
     },
     "metadata": {
      "needs_background": "light"
     },
     "output_type": "display_data"
    }
   ],
   "source": [
    "print(indel_lengths)\n",
    "print(f'Средняя длина инделов: {np.mean(list(indel_lengths.keys()))}')\n",
    "print(f'Минимальная длина инделов: {min(list(indel_lengths.keys()))}')\n",
    "print(f'Максимальная длина инделов: {max(list(indel_lengths.keys()))}')\n",
    "\n",
    "n = len(list(indel_lengths.keys()))\n",
    "M = []\n",
    "N = []\n",
    "for elem in indel_lengths.keys():\n",
    "    M.append(elem)\n",
    "    N.append(indel_lengths[elem])\n",
    "\n",
    "plt.figure(figsize=(12, 8))\n",
    "plt.title('Indel lengths')\n",
    "plt.scatter(M, N)"
   ]
  },
  {
   "cell_type": "markdown",
   "metadata": {},
   "source": [
    "Датасет C24-698"
   ]
  },
  {
   "cell_type": "code",
   "execution_count": 77,
   "metadata": {},
   "outputs": [
    {
     "name": "stdout",
     "output_type": "stream",
     "text": [
      "{1: 215400, 2: 10236, 4: 115, 3: 881, 5: 31, 7: 1, 8: 3, 6: 5, 10: 1}\n",
      "Средняя длина делеций: 5.111111111111111\n",
      "Минимальная длина делеций: 1\n",
      "Максимальная длина делеций: 10\n"
     ]
    },
    {
     "data": {
      "text/plain": [
       "<matplotlib.collections.PathCollection at 0x1277f9f50>"
      ]
     },
     "execution_count": 77,
     "metadata": {},
     "output_type": "execute_result"
    },
    {
     "data": {
      "image/png": "[encoded data removed]",
      "text/plain": [
       "<Figure size 864x576 with 1 Axes>"
      ]
     },
     "metadata": {
      "needs_background": "light"
     },
     "output_type": "display_data"
    }
   ],
   "source": [
    "deletion_lengths, insertion_lengths, indel_lengths = get_indel_lengths('alignment_C24_698.sam')\n",
    "print(deletion_lengths)\n",
    "print(f'Средняя длина делеций: {np.mean(list(deletion_lengths.keys()))}')\n",
    "print(f'Минимальная длина делеций: {min(list(deletion_lengths.keys()))}')\n",
    "print(f'Максимальная длина делеций: {max(list(deletion_lengths.keys()))}')\n",
    "\n",
    "n = len(list(deletion_lengths.keys()))\n",
    "M = []\n",
    "N = []\n",
    "for elem in deletion_lengths.keys():\n",
    "    M.append(elem)\n",
    "    N.append(deletion_lengths[elem])\n",
    "\n",
    "plt.figure(figsize=(12, 8))\n",
    "plt.title('Deletion lengths')\n",
    "plt.scatter(M, N)"
   ]
  },
  {
   "cell_type": "code",
   "execution_count": 78,
   "metadata": {},
   "outputs": [
    {
     "name": "stdout",
     "output_type": "stream",
     "text": [
      "{1: 222134, 2: 13473, 3: 1186, 4: 318, 10: 15, 5: 118, 15: 5, 6: 58, 9: 19, 18: 2, 8: 24, 26: 1, 7: 51, 17: 5, 12: 8, 14: 9, 11: 12, 13: 5, 16: 3, 20: 1}\n",
      "Средняя длина вставок: 10.85\n",
      "Минимальная длина вставок: 1\n",
      "Максимальная длина вставок: 26\n"
     ]
    },
    {
     "data": {
      "text/plain": [
       "<matplotlib.collections.PathCollection at 0x127855350>"
      ]
     },
     "execution_count": 78,
     "metadata": {},
     "output_type": "execute_result"
    },
    {
     "data": {
      "image/png": "[encoded data removed]",
      "text/plain": [
       "<Figure size 864x576 with 1 Axes>"
      ]
     },
     "metadata": {
      "needs_background": "light"
     },
     "output_type": "display_data"
    }
   ],
   "source": [
    "print(insertion_lengths)\n",
    "print(f'Средняя длина вставок: {np.mean(list(insertion_lengths.keys()))}')\n",
    "print(f'Минимальная длина вставок: {min(list(insertion_lengths.keys()))}')\n",
    "print(f'Максимальная длина вставок: {max(list(insertion_lengths.keys()))}')\n",
    "\n",
    "n = len(list(insertion_lengths.keys()))\n",
    "M = []\n",
    "N = []\n",
    "for elem in insertion_lengths.keys():\n",
    "    M.append(elem)\n",
    "    N.append(insertion_lengths[elem])\n",
    "\n",
    "plt.figure(figsize=(12, 8))\n",
    "plt.title('Insertion lengths')\n",
    "plt.scatter(M, N)"
   ]
  },
  {
   "cell_type": "code",
   "execution_count": 79,
   "metadata": {},
   "outputs": [
    {
     "name": "stdout",
     "output_type": "stream",
     "text": [
      "{1: 437534, 2: 23709, 3: 2067, 4: 433, 5: 149, 10: 16, 15: 5, 6: 63, 9: 19, 18: 2, 8: 27, 26: 1, 7: 52, 17: 5, 12: 8, 14: 9, 11: 12, 13: 5, 16: 3, 20: 1}\n",
      "Средняя длина инделов: 10.85\n",
      "Минимальная длина инделов: 1\n",
      "Максимальная длина инделов: 26\n"
     ]
    },
    {
     "data": {
      "text/plain": [
       "<matplotlib.collections.PathCollection at 0x1277365d0>"
      ]
     },
     "execution_count": 79,
     "metadata": {},
     "output_type": "execute_result"
    },
    {
     "data": {
      "image/png": "[encoded data removed]",
      "text/plain": [
       "<Figure size 864x576 with 1 Axes>"
      ]
     },
     "metadata": {
      "needs_background": "light"
     },
     "output_type": "display_data"
    }
   ],
   "source": [
    "print(indel_lengths)\n",
    "print(f'Средняя длина инделов: {np.mean(list(indel_lengths.keys()))}')\n",
    "print(f'Минимальная длина инделов: {min(list(indel_lengths.keys()))}')\n",
    "print(f'Максимальная длина инделов: {max(list(indel_lengths.keys()))}')\n",
    "\n",
    "n = len(list(indel_lengths.keys()))\n",
    "M = []\n",
    "N = []\n",
    "for elem in indel_lengths.keys():\n",
    "    M.append(elem)\n",
    "    N.append(indel_lengths[elem])\n",
    "\n",
    "plt.figure(figsize=(12, 8))\n",
    "plt.title('Indel lengths')\n",
    "plt.scatter(M, N)"
   ]
  },
  {
   "cell_type": "markdown",
   "metadata": {},
   "source": [
    "#### Статистика длин инделов в зависимости от длины гомополимерного участка"
   ]
  },
  {
   "cell_type": "code",
   "execution_count": 81,
   "metadata": {},
   "outputs": [],
   "source": [
    "ref_file = open('DH10B-K12.fasta', 'r')\n",
    "ref_file.readline()\n",
    "ref_seq = ''\n",
    "for line in ref_file:\n",
    "    ref_seq += line.strip()\n",
    "ref_file.close()"
   ]
  },
  {
   "cell_type": "code",
   "execution_count": 82,
   "metadata": {},
   "outputs": [],
   "source": [
    "def find_homopolymers(k, ref_seq): # k - длина гомополимерного участка\n",
    "    homopolymer_positions = []\n",
    "    for i in range(len(ref_seq) - k):\n",
    "        if ref_seq[i:(i+k)] == 'A'*k or ref_seq[i:(i+k)] == 'C'*k or ref_seq[i:(i+k)] == 'G'*k or ref_seq[i:(i+k)] == 'T'*k:\n",
    "            homopolymer_positions.append(i)\n",
    "    return homopolymer_positions # нашли позиции гомополимерных участков длины k в референсе"
   ]
  },
  {
   "cell_type": "code",
   "execution_count": 83,
   "metadata": {},
   "outputs": [],
   "source": [
    "def get_deletions_from_cigar(cigar_string): # считаем длины делеций \n",
    "    deletions = []\n",
    "    curr = None\n",
    "    for letter in cigar_string:\n",
    "        if letter == 'D':\n",
    "            if curr == None:\n",
    "                curr = 1\n",
    "                deletions.append(1)\n",
    "            else:\n",
    "                curr += 1\n",
    "                deletions[-1] += 1\n",
    "        else:\n",
    "            curr = None\n",
    "    return deletions\n",
    "\n",
    "def get_insertions_from_cigar(cigar_string): # считаем длины вставок\n",
    "    insertions = []\n",
    "    curr = None\n",
    "    for letter in cigar_string:\n",
    "        if letter == 'I':\n",
    "            if curr == None:\n",
    "                curr = 1\n",
    "                insertions.append(1)\n",
    "            else:\n",
    "                curr += 1\n",
    "                insertions[-1] += 1\n",
    "        else:\n",
    "            curr = None\n",
    "    return insertions\n",
    "\n",
    "def get_read_homopolymer(read_seq): # возвращаем длину гомополимера в риде\n",
    "    length = 0\n",
    "    curr = read_seq[0]\n",
    "    for letter in read_seq:\n",
    "        if letter != curr:\n",
    "            break\n",
    "        else:\n",
    "            length += 1\n",
    "    return length"
   ]
  },
  {
   "cell_type": "code",
   "execution_count": 84,
   "metadata": {},
   "outputs": [],
   "source": [
    "def indel_statistics_homopolymers(k, ref_seq, sam_filename):\n",
    "    sam_file = open(sam_filename, 'r')\n",
    "    sam_file.readline()\n",
    "    sam_file.readline()\n",
    "    homopolymer_positions = find_homopolymers(k, ref_seq)\n",
    "    insertion_lengths = {}\n",
    "    deletion_lengths = {}\n",
    "    indel_lengths = {}\n",
    "    homopolymer_lengths = {}\n",
    "    ref_length = len(ref_seq)\n",
    "    for line in sam_file:\n",
    "        line = line.strip().split()\n",
    "        if line[5] == '*':\n",
    "            continue\n",
    "        start = int(line[3])\n",
    "        read_length = len(line[9])\n",
    "        read_seq = line[9]\n",
    "        stop = min(start + read_length - 1, ref_length)\n",
    "        align_info = list(Cigar(line[5]).items())\n",
    "        align_info_string = ''.join([letter*num for (num, letter) in align_info])\n",
    "        for i in range(start - 1, stop):\n",
    "            if i in homopolymer_positions:\n",
    "                n = min(k, stop - i)\n",
    "                cigar_of_interest = align_info_string[i - start + 1:i - start + 1 + n]\n",
    "                deletions = get_deletions_from_cigar(cigar_of_interest)\n",
    "                for del_length in deletions:\n",
    "                    if not del_length in deletion_lengths.keys():\n",
    "                        deletion_lengths[del_length] = 1\n",
    "                    else:\n",
    "                        deletion_lengths[del_length] += 1\n",
    "                insertions = get_insertions_from_cigar(cigar_of_interest)\n",
    "                for ins_length in insertions:\n",
    "                    if not ins_length in insertion_lengths.keys():\n",
    "                        insertion_lengths[ins_length] = 1\n",
    "                    else:\n",
    "                        insertion_lengths[ins_length] += 1\n",
    "                read_of_interest = read_seq[i - start + 1:i - start + 1 + n]\n",
    "                homopolymer_length = get_read_homopolymer(read_of_interest)\n",
    "                if not homopolymer_length in homopolymer_lengths.keys():\n",
    "                    homopolymer_lengths[homopolymer_length] = 1\n",
    "                else:\n",
    "                    homopolymer_lengths[homopolymer_length] += 1\n",
    "    sam_file.close()\n",
    "    return homopolymer_lengths, insertion_lengths, deletion_lengths"
   ]
  },
  {
   "cell_type": "code",
   "execution_count": 108,
   "metadata": {},
   "outputs": [],
   "source": [
    "def show_results_indel(k, ref_seq, sam_filename):\n",
    "    h, i, d = indel_statistics_homopolymers(k, ref_seq, sam_filename)\n",
    "    n1 = len(list(h.keys()))\n",
    "    homopolymer_lengths = []\n",
    "    N1 = []\n",
    "    for elem in h.keys():\n",
    "        homopolymer_lengths.append(elem)\n",
    "        N1.append(h[elem])\n",
    "    n2 = len(list(i.keys()))\n",
    "    insert_lengths = []\n",
    "    N2 = []\n",
    "    for elem in i.keys():\n",
    "        insert_lengths.append(elem)\n",
    "        N2.append(i[elem])\n",
    "    n3 = len(list(d.keys()))\n",
    "    deletion_lengths = []\n",
    "    N3 = []\n",
    "    for elem in d.keys():\n",
    "        deletion_lengths.append(elem)\n",
    "        N3.append(d[elem])\n",
    "    print(f'Средняя длина вставки: {np.mean(list(i.keys()))}')\n",
    "    print(f'Минимальная длина вставки: {min(list(i.keys()))}')\n",
    "    print(f'Максимальная длина вставки: {max(list(i.keys()))}')\n",
    "    print(f'Средняя длина делеции: {np.mean(list(d.keys()))}')\n",
    "    print(f'Минимальная длина делеции: {min(list(d.keys()))}')\n",
    "    print(f'Максимальная длина делеции: {max(list(d.keys()))}')\n",
    "    print(f'Средняя длина гомополимера: {np.mean(list(h.keys()))}')\n",
    "    print(f'Минимальная длина гомополимера: {min(list(h.keys()))}')\n",
    "    print(f'Максимальная длина гомополимера: {max(list(h.keys()))}')\n",
    "    data1 = {'x': homopolymer_lengths + insert_lengths + deletion_lengths, 'y': N1 + N2 + N3, 'label': ['Homopolymer lengths']*len(N1) + ['Insertion lengths']*len(N2) + ['Deletion lengths']*len(N3)}\n",
    "    plt.figure(figsize=(12, 8))\n",
    "    sns.scatterplot(x='x', y='y', s=60, data=data1, hue='label')\n",
    "    plt.show()"
   ]
  },
  {
   "cell_type": "markdown",
   "metadata": {},
   "source": [
    "Датасет B22-730"
   ]
  },
  {
   "cell_type": "code",
   "execution_count": 109,
   "metadata": {},
   "outputs": [
    {
     "name": "stdout",
     "output_type": "stream",
     "text": [
      "Средняя длина вставки: 2.0\n",
      "Минимальная длина вставки: 1\n",
      "Максимальная длина вставки: 3\n",
      "Средняя длина делеции: 1.5\n",
      "Минимальная длина делеции: 1\n",
      "Максимальная длина делеции: 2\n",
      "Средняя длина гомополимера: 5.444444444444445\n",
      "Минимальная длина гомополимера: 1\n",
      "Максимальная длина гомополимера: 10\n"
     ]
    },
    {
     "data": {
      "image/png": "[encoded data removed]",
      "text/plain": [
       "<Figure size 864x576 with 1 Axes>"
      ]
     },
     "metadata": {
      "needs_background": "light"
     },
     "output_type": "display_data"
    }
   ],
   "source": [
    "show_results_indel(10, ref_seq, 'alignment_B22_730.sam')"
   ]
  },
  {
   "cell_type": "code",
   "execution_count": 110,
   "metadata": {},
   "outputs": [
    {
     "name": "stdout",
     "output_type": "stream",
     "text": [
      "Средняя длина вставки: 4.5\n",
      "Минимальная длина вставки: 1\n",
      "Максимальная длина вставки: 8\n",
      "Средняя длина делеции: 2.0\n",
      "Минимальная длина делеции: 1\n",
      "Максимальная длина делеции: 3\n",
      "Средняя длина гомополимера: 5.0\n",
      "Минимальная длина гомополимера: 1\n",
      "Максимальная длина гомополимера: 9\n"
     ]
    },
    {
     "data": {
      "image/png": "[encoded data removed]",
      "text/plain": [
       "<Figure size 864x576 with 1 Axes>"
      ]
     },
     "metadata": {
      "needs_background": "light"
     },
     "output_type": "display_data"
    }
   ],
   "source": [
    "show_results_indel(9, ref_seq, 'alignment_B22_730.sam')"
   ]
  },
  {
   "cell_type": "code",
   "execution_count": 112,
   "metadata": {},
   "outputs": [
    {
     "name": "stdout",
     "output_type": "stream",
     "text": [
      "Средняя длина вставки: 4.5\n",
      "Минимальная длина вставки: 1\n",
      "Максимальная длина вставки: 8\n",
      "Средняя длина делеции: 2.5\n",
      "Минимальная длина делеции: 1\n",
      "Максимальная длина делеции: 4\n",
      "Средняя длина гомополимера: 4.5\n",
      "Минимальная длина гомополимера: 1\n",
      "Максимальная длина гомополимера: 8\n"
     ]
    },
    {
     "data": {
      "image/png": "[encoded data removed]",
      "text/plain": [
       "<Figure size 864x576 with 1 Axes>"
      ]
     },
     "metadata": {
      "needs_background": "light"
     },
     "output_type": "display_data"
    }
   ],
   "source": [
    "show_results_indel(8, ref_seq, 'alignment_B22_730.sam')"
   ]
  },
  {
   "cell_type": "markdown",
   "metadata": {},
   "source": [
    "Датасет C24-698"
   ]
  },
  {
   "cell_type": "code",
   "execution_count": 113,
   "metadata": {},
   "outputs": [
    {
     "name": "stdout",
     "output_type": "stream",
     "text": [
      "Средняя длина вставки: 1.0\n",
      "Минимальная длина вставки: 1\n",
      "Максимальная длина вставки: 1\n",
      "Средняя длина делеции: 2.75\n",
      "Минимальная длина делеции: 1\n",
      "Максимальная длина делеции: 5\n",
      "Средняя длина гомополимера: 5.714285714285714\n",
      "Минимальная длина гомополимера: 1\n",
      "Максимальная длина гомополимера: 10\n"
     ]
    },
    {
     "data": {
      "image/png": "[encoded data removed]",
      "text/plain": [
       "<Figure size 864x576 with 1 Axes>"
      ]
     },
     "metadata": {
      "needs_background": "light"
     },
     "output_type": "display_data"
    }
   ],
   "source": [
    "show_results_indel(10, ref_seq, 'alignment_C24_698.sam')"
   ]
  },
  {
   "cell_type": "code",
   "execution_count": 114,
   "metadata": {},
   "outputs": [
    {
     "name": "stdout",
     "output_type": "stream",
     "text": [
      "Средняя длина вставки: 3.3333333333333335\n",
      "Минимальная длина вставки: 1\n",
      "Максимальная длина вставки: 7\n",
      "Средняя длина делеции: 3.0\n",
      "Минимальная длина делеции: 1\n",
      "Максимальная длина делеции: 5\n",
      "Средняя длина гомополимера: 5.0\n",
      "Минимальная длина гомополимера: 1\n",
      "Максимальная длина гомополимера: 9\n"
     ]
    },
    {
     "data": {
      "image/png": "[encoded data removed]",
      "text/plain": [
       "<Figure size 864x576 with 1 Axes>"
      ]
     },
     "metadata": {
      "needs_background": "light"
     },
     "output_type": "display_data"
    }
   ],
   "source": [
    "show_results_indel(9, ref_seq, 'alignment_C24_698.sam')"
   ]
  },
  {
   "cell_type": "code",
   "execution_count": 115,
   "metadata": {},
   "outputs": [
    {
     "name": "stdout",
     "output_type": "stream",
     "text": [
      "Средняя длина вставки: 3.8333333333333335\n",
      "Минимальная длина вставки: 1\n",
      "Максимальная длина вставки: 7\n",
      "Средняя длина делеции: 3.0\n",
      "Минимальная длина делеции: 1\n",
      "Максимальная длина делеции: 5\n",
      "Средняя длина гомополимера: 4.5\n",
      "Минимальная длина гомополимера: 1\n",
      "Максимальная длина гомополимера: 8\n"
     ]
    },
    {
     "data": {
      "image/png": "[encoded data removed]",
      "text/plain": [
       "<Figure size 864x576 with 1 Axes>"
      ]
     },
     "metadata": {
      "needs_background": "light"
     },
     "output_type": "display_data"
    }
   ],
   "source": [
    "show_results_indel(8, ref_seq, 'alignment_C24_698.sam')"
   ]
  },
  {
   "cell_type": "markdown",
   "metadata": {},
   "source": [
    "Заметим, что при уменьшении длины гомополимерного участка возрастают длины инделов и делеций."
   ]
  },
  {
   "cell_type": "markdown",
   "metadata": {},
   "source": [
    "#### Статистика качества нуклеотидов при замене"
   ]
  },
  {
   "cell_type": "code",
   "execution_count": 116,
   "metadata": {},
   "outputs": [],
   "source": [
    "ref_file = open('DH10B-K12.fasta', 'r')\n",
    "ref_file.readline()\n",
    "ref_seq = ''\n",
    "for line in ref_file:\n",
    "    ref_seq += line.strip()\n",
    "ref_file.close()\n",
    "ref_length = len(ref_seq)"
   ]
  },
  {
   "cell_type": "code",
   "execution_count": 117,
   "metadata": {},
   "outputs": [],
   "source": [
    "def stat_mismatch(sam_filename, ref_seq):\n",
    "    sam_file = open(sam_filename, 'r')\n",
    "    sam_file.readline()\n",
    "    sam_file.readline()\n",
    "    ref_length = len(ref_seq)\n",
    "    qualities = {}\n",
    "    for line in sam_file:\n",
    "        line = line.strip().split()\n",
    "        if line[5] == '*':\n",
    "            continue\n",
    "        start = int(line[3])\n",
    "        read_length = len(line[9])\n",
    "        read_seq = line[9]\n",
    "        stop = min(start + read_length - 1, ref_length)\n",
    "        quality_string = line[10]\n",
    "        quality_score = [ord(c) - 33 for c in quality_string]\n",
    "        align_info = list(Cigar(line[5]).items())\n",
    "        align_info_string = ''.join([letter*num for (num, letter) in align_info])\n",
    "        for i in range(start - 1, stop):\n",
    "            if align_info_string[i - start + 1] == 'M' and read_seq[i - start + 1] != ref_seq[i]:\n",
    "                if quality_score[i - start + 1] not in qualities.keys():\n",
    "                    qualities[quality_score[i - start + 1]] = 1\n",
    "                else:\n",
    "                    qualities[quality_score[i - start + 1]] += 1\n",
    "    sam_file.close()\n",
    "    return qualities"
   ]
  },
  {
   "cell_type": "markdown",
   "metadata": {},
   "source": [
    "Датасет B22-730"
   ]
  },
  {
   "cell_type": "code",
   "execution_count": 118,
   "metadata": {},
   "outputs": [
    {
     "name": "stdout",
     "output_type": "stream",
     "text": [
      "Среднее качество: 23.0\n"
     ]
    },
    {
     "name": "stderr",
     "output_type": "stream",
     "text": [
      "/usr/local/lib/python3.7/site-packages/seaborn/_decorators.py:43: FutureWarning: Pass the following variables as keyword args: x, y. From version 0.12, the only valid positional argument will be `data`, and passing other arguments without an explicit keyword will result in an error or misinterpretation.\n",
      "  FutureWarning\n"
     ]
    },
    {
     "data": {
      "image/png": "[encoded data removed]",
      "text/plain": [
       "<Figure size 864x576 with 1 Axes>"
      ]
     },
     "metadata": {
      "needs_background": "light"
     },
     "output_type": "display_data"
    }
   ],
   "source": [
    "res = stat_mismatch('alignment_B22_730.sam', ref_seq)\n",
    "n = len(list(res.keys()))\n",
    "M = []\n",
    "N = []\n",
    "for elem in res.keys():\n",
    "    M.append(elem)\n",
    "    N.append(res[elem])\n",
    "print(f'Среднее качество: {np.mean(list(res.keys()))}')\n",
    "plt.figure(figsize=(12, 8))\n",
    "sns.scatterplot(M, N, s=60)\n",
    "plt.show()"
   ]
  },
  {
   "cell_type": "markdown",
   "metadata": {},
   "source": [
    "Датасет C24-698"
   ]
  },
  {
   "cell_type": "code",
   "execution_count": 119,
   "metadata": {},
   "outputs": [
    {
     "name": "stdout",
     "output_type": "stream",
     "text": [
      "Среднее качество: 23.0\n"
     ]
    },
    {
     "name": "stderr",
     "output_type": "stream",
     "text": [
      "/usr/local/lib/python3.7/site-packages/seaborn/_decorators.py:43: FutureWarning: Pass the following variables as keyword args: x, y. From version 0.12, the only valid positional argument will be `data`, and passing other arguments without an explicit keyword will result in an error or misinterpretation.\n",
      "  FutureWarning\n"
     ]
    },
    {
     "data": {
      "image/png": "[encoded data removed]",
      "text/plain": [
       "<Figure size 864x576 with 1 Axes>"
      ]
     },
     "metadata": {
      "needs_background": "light"
     },
     "output_type": "display_data"
    }
   ],
   "source": [
    "res = stat_mismatch('alignment_C24_698.sam', ref_seq)\n",
    "n = len(list(res.keys()))\n",
    "M = []\n",
    "N = []\n",
    "for elem in res.keys():\n",
    "    M.append(elem)\n",
    "    N.append(res[elem])\n",
    "print(f'Среднее качество: {np.mean(list(res.keys()))}')\n",
    "plt.figure(figsize=(12, 8))\n",
    "sns.scatterplot(M, N, s=60)\n",
    "plt.show()"
   ]
  },
  {
   "cell_type": "markdown",
   "metadata": {},
   "source": [
    "Заметим, что среднее значение достигается на достаточно высоком уровне качества (30 и выше)."
   ]
  },
  {
   "cell_type": "markdown",
   "metadata": {},
   "source": [
    "#### Статистика качества нуклеотидов при ошибочно вставленном нуклеотиде"
   ]
  },
  {
   "cell_type": "code",
   "execution_count": 120,
   "metadata": {},
   "outputs": [],
   "source": [
    "ref_file = open('DH10B-K12.fasta', 'r')\n",
    "ref_file.readline()\n",
    "ref_seq = ''\n",
    "for line in ref_file:\n",
    "    ref_seq += line.strip()\n",
    "ref_file.close()\n",
    "ref_length = len(ref_seq)"
   ]
  },
  {
   "cell_type": "code",
   "execution_count": 121,
   "metadata": {},
   "outputs": [],
   "source": [
    "def stat_insertion(sam_filename, ref_seq):\n",
    "    sam_file = open(sam_filename, 'r')\n",
    "    sam_file.readline()\n",
    "    sam_file.readline()\n",
    "    ref_length = len(ref_seq)\n",
    "    qualities = {}\n",
    "    for line in sam_file:\n",
    "        line = line.strip().split()\n",
    "        if line[5] == '*':\n",
    "            continue\n",
    "        start = int(line[3])\n",
    "        read_length = len(line[9])\n",
    "        read_seq = line[9]\n",
    "        stop = min(start + read_length - 1, ref_length)\n",
    "        quality_string = line[10]\n",
    "        quality_score = [ord(c) - 33 for c in quality_string]\n",
    "        align_info = list(Cigar(line[5]).items())\n",
    "        align_info_string = ''.join([letter*num for (num, letter) in align_info])\n",
    "        for i in range(start - 1, stop):\n",
    "            if align_info_string[i - start + 1] == 'I':\n",
    "                if quality_score[i - start + 1] not in qualities.keys():\n",
    "                    qualities[quality_score[i - start + 1]] = 1\n",
    "                else:\n",
    "                    qualities[quality_score[i - start + 1]] += 1\n",
    "    sam_file.close()\n",
    "    return qualities"
   ]
  },
  {
   "cell_type": "markdown",
   "metadata": {},
   "source": [
    "Датасет B22-730"
   ]
  },
  {
   "cell_type": "code",
   "execution_count": 122,
   "metadata": {},
   "outputs": [
    {
     "name": "stdout",
     "output_type": "stream",
     "text": [
      "Среднее качество: 23.0\n"
     ]
    },
    {
     "name": "stderr",
     "output_type": "stream",
     "text": [
      "/usr/local/lib/python3.7/site-packages/seaborn/_decorators.py:43: FutureWarning: Pass the following variables as keyword args: x, y. From version 0.12, the only valid positional argument will be `data`, and passing other arguments without an explicit keyword will result in an error or misinterpretation.\n",
      "  FutureWarning\n"
     ]
    },
    {
     "data": {
      "image/png": "[encoded data removed]",
      "text/plain": [
       "<Figure size 864x576 with 1 Axes>"
      ]
     },
     "metadata": {
      "needs_background": "light"
     },
     "output_type": "display_data"
    }
   ],
   "source": [
    "res = stat_insertion('alignment_B22_730.sam', ref_seq)\n",
    "n = len(list(res.keys()))\n",
    "M = []\n",
    "N = []\n",
    "for elem in res.keys():\n",
    "    M.append(elem)\n",
    "    N.append(res[elem])\n",
    "print(f'Среднее качество: {np.mean(list(res.keys()))}')\n",
    "plt.figure(figsize=(12, 8))\n",
    "sns.scatterplot(M, N, s=60)\n",
    "plt.show()"
   ]
  },
  {
   "cell_type": "markdown",
   "metadata": {},
   "source": [
    "Датасет C24-698"
   ]
  },
  {
   "cell_type": "code",
   "execution_count": 123,
   "metadata": {},
   "outputs": [
    {
     "name": "stdout",
     "output_type": "stream",
     "text": [
      "Среднее качество: 23.0\n"
     ]
    },
    {
     "name": "stderr",
     "output_type": "stream",
     "text": [
      "/usr/local/lib/python3.7/site-packages/seaborn/_decorators.py:43: FutureWarning: Pass the following variables as keyword args: x, y. From version 0.12, the only valid positional argument will be `data`, and passing other arguments without an explicit keyword will result in an error or misinterpretation.\n",
      "  FutureWarning\n"
     ]
    },
    {
     "data": {
      "image/png": "[encoded data removed]",
      "text/plain": [
       "<Figure size 864x576 with 1 Axes>"
      ]
     },
     "metadata": {
      "needs_background": "light"
     },
     "output_type": "display_data"
    }
   ],
   "source": [
    "res = stat_insertion('alignment_C24_698.sam', ref_seq)\n",
    "n = len(list(res.keys()))\n",
    "M = []\n",
    "N = []\n",
    "for elem in res.keys():\n",
    "    M.append(elem)\n",
    "    N.append(res[elem])\n",
    "print(f'Среднее качество: {np.mean(list(res.keys()))}')\n",
    "plt.figure(figsize=(12, 8))\n",
    "sns.scatterplot(M, N, s=60)\n",
    "plt.show()"
   ]
  },
  {
   "cell_type": "markdown",
   "metadata": {},
   "source": [
    "Заметим, что среднее значение достигается на низком качестве (примерно 15)."
   ]
  },
  {
   "cell_type": "markdown",
   "metadata": {},
   "source": [
    "#### Таблица частот замен / вставок / удалений + средний процент ошибок в ридах"
   ]
  },
  {
   "cell_type": "code",
   "execution_count": 133,
   "metadata": {},
   "outputs": [],
   "source": [
    "def get_errors(sam_file_name, ref_file_name):\n",
    "    errors = {('A', 'A'): 0, ('A', 'C'): 0, ('A', 'G'): 0, ('A', 'T'): 0, ('A', '-'): 0, \n",
    "              ('C', 'A'): 0, ('C', 'C'): 0, ('C', 'G'): 0, ('C', 'T'): 0, ('C', '-'): 0,\n",
    "              ('G', 'A'): 0, ('G', 'C'): 0, ('G', 'G'): 0, ('G', 'T'): 0, ('G', '-'): 0, \n",
    "              ('T', 'A'): 0, ('T', 'C'): 0, ('T', 'G'): 0, ('T', 'T'): 0, ('T', '-'): 0,\n",
    "              ('-', 'A'): 0, ('-', 'C'): 0, ('-', 'G'): 0, ('-', 'T'): 0, ('-', '-'): 0}\n",
    "    sam_file = open(sam_file_name, 'r')\n",
    "    ref_file = open(ref_file_name, 'r')\n",
    "    sam_file.readline()\n",
    "    sam_file.readline()\n",
    "    ref_file.readline()\n",
    "    ref_seq = ''\n",
    "    ref_length = 0\n",
    "    for line in ref_file:\n",
    "        ref_seq += line.strip()\n",
    "    ref_file.close()\n",
    "    ref_length = len(ref_seq)\n",
    "    total_align_info = {}\n",
    "    for line in sam_file:\n",
    "        line = line.strip().split()\n",
    "        if line[5] == '*':\n",
    "                continue\n",
    "        start = int(line[3])\n",
    "        read_length = len(line[9])\n",
    "        read_seq = line[9]\n",
    "        stop = min(start + read_length - 1, ref_length)\n",
    "        align_info = list(Cigar(line[5]).items())\n",
    "        for (num, letter) in align_info:\n",
    "            if letter not in total_align_info.keys():\n",
    "                total_align_info[letter] = num\n",
    "            else:\n",
    "                total_align_info[letter] += num\n",
    "        align_info_string = ''.join([letter*num for (num, letter) in align_info])\n",
    "        for i in range(start - 1, stop):\n",
    "            if (read_seq[i - start + 1], ref_seq[i]) == ('A', 'C') and align_info_string[i - start + 1] == 'M':\n",
    "                errors[('A', 'C')] += 1\n",
    "            elif (read_seq[i - start + 1], ref_seq[i]) == ('A', 'G') and align_info_string[i - start + 1] == 'M':\n",
    "                errors[('A', 'G')] += 1\n",
    "            elif (read_seq[i - start + 1], ref_seq[i]) == ('A', 'T') and align_info_string[i - start + 1] == 'M':\n",
    "                errors[('A', 'T')] += 1\n",
    "            elif (read_seq[i - start + 1], ref_seq[i]) == ('C', 'A') and align_info_string[i - start + 1] == 'M':\n",
    "                errors[('C', 'A')] += 1\n",
    "            elif (read_seq[i - start + 1], ref_seq[i]) == ('C', 'G') and align_info_string[i - start + 1] == 'M':\n",
    "                errors[('C', 'G')] += 1\n",
    "            elif (read_seq[i - start + 1], ref_seq[i]) == ('C', 'T') and align_info_string[i - start + 1] == 'M':\n",
    "                errors[('C', 'T')] += 1\n",
    "            elif (read_seq[i - start + 1], ref_seq[i]) == ('G', 'A') and align_info_string[i - start + 1] == 'M':\n",
    "                errors[('G', 'A')] += 1\n",
    "            elif (read_seq[i - start + 1], ref_seq[i]) == ('G', 'C') and align_info_string[i - start + 1] == 'M':\n",
    "                errors[('G', 'C')] += 1\n",
    "            elif (read_seq[i - start + 1], ref_seq[i]) == ('G', 'T') and align_info_string[i - start + 1] == 'M':\n",
    "                errors[('G', 'T')] += 1\n",
    "            elif (read_seq[i - start + 1], ref_seq[i]) == ('T', 'A') and align_info_string[i - start + 1] == 'M':\n",
    "                errors[('T', 'A')] += 1\n",
    "            elif (read_seq[i - start + 1], ref_seq[i]) == ('T', 'C') and align_info_string[i - start + 1] == 'M':\n",
    "                errors[('T', 'C')] += 1\n",
    "            elif (read_seq[i - start + 1], ref_seq[i]) == ('T', 'G') and align_info_string[i - start + 1] == 'M':\n",
    "                errors[('T', 'G')] += 1\n",
    "            elif ref_seq[i] == 'A' and align_info_string[i - start + 1] == 'I':\n",
    "                errors[('A', '-')] += 1\n",
    "            elif ref_seq[i] == 'C' and align_info_string[i - start + 1] == 'I':\n",
    "                errors[('C', '-')] += 1\n",
    "            elif ref_seq[i] == 'G' and align_info_string[i - start + 1] == 'I':\n",
    "                errors[('G', '-')] += 1\n",
    "            elif ref_seq[i] == 'T' and align_info_string[i - start + 1] == 'I':\n",
    "                errors[('T', '-')] += 1\n",
    "            elif ref_seq[i] == 'A' and align_info_string[i - start + 1] == 'D':\n",
    "                errors[('-', 'A')] += 1\n",
    "            elif ref_seq[i] == 'C' and align_info_string[i - start + 1] == 'D':\n",
    "                errors[('-', 'C')] += 1\n",
    "            elif ref_seq[i] == 'G' and align_info_string[i - start + 1] == 'D':\n",
    "                errors[('-', 'G')] += 1\n",
    "            elif ref_seq[i] == 'T' and align_info_string[i - start + 1] == 'D':\n",
    "                errors[('-', 'T')] += 1\n",
    "    sam_file.close()\n",
    "    total_len = np.sum(list(total_align_info.values()))\n",
    "    return errors, total_len"
   ]
  },
  {
   "cell_type": "markdown",
   "metadata": {},
   "source": [
    "Датасет B22-730"
   ]
  },
  {
   "cell_type": "code",
   "execution_count": 134,
   "metadata": {},
   "outputs": [
    {
     "name": "stdout",
     "output_type": "stream",
     "text": [
      "Матрица замен / инделов:\n",
      "         A        C        G        T       -\n",
      "A        0  4202058  3901864  4122069  145825\n",
      "C  4146243        0  4664520  3897755  121907\n",
      "G  3922828  4583487        0  4176351  106596\n",
      "T  4148627  3922024  4132278        0  150834\n",
      "-   115044    75523    75500   117094       0\n",
      "------------------------------\n",
      "Матрица частот замен / инделов:\n",
      "          A         C         G         T         -\n",
      "A  0.000000  0.025919  0.024068  0.025426  0.000899\n",
      "C  0.025575  0.000000  0.028772  0.024042  0.000752\n",
      "G  0.024197  0.028272  0.000000  0.025761  0.000658\n",
      "T  0.025590  0.024192  0.025489  0.000000  0.000930\n",
      "-  0.000710  0.000466  0.000466  0.000722  0.000000\n"
     ]
    }
   ],
   "source": [
    "errors, total_len = get_errors('alignment_B22_730.sam', 'DH10B-K12.fasta')\n",
    "print('Матрица замен / инделов:')\n",
    "errors_df = pd.DataFrame(np.array(list(errors.values())).reshape(5, 5), columns=['A', 'C', 'G', 'T', '-'], index=['A', 'C', 'G', 'T', '-'])\n",
    "print(errors_df)\n",
    "print('------------------------------')\n",
    "print('Матрица частот замен / инделов:')\n",
    "errors_freq_arr = np.array(list(errors.values())) / total_len\n",
    "errors_freq_df = pd.DataFrame(errors_freq_arr.reshape(5, 5), columns=['A', 'C', 'G', 'T', '-'], index=['A', 'C', 'G', 'T', '-'])\n",
    "print(errors_freq_df)"
   ]
  },
  {
   "cell_type": "code",
   "execution_count": 135,
   "metadata": {},
   "outputs": [
    {
     "name": "stdout",
     "output_type": "stream",
     "text": [
      "Средний процент ошибок в ридах: 1.2516277803119111 %\n"
     ]
    }
   ],
   "source": [
    "print(f'Средний процент ошибок в ридах: {np.mean([errors[elem]/total_len for elem in errors.keys()]) * 100} %') # средний процент ошибок в ридах"
   ]
  },
  {
   "cell_type": "markdown",
   "metadata": {},
   "source": [
    "Датасет C24-698"
   ]
  },
  {
   "cell_type": "code",
   "execution_count": 136,
   "metadata": {},
   "outputs": [
    {
     "name": "stdout",
     "output_type": "stream",
     "text": [
      "Матрица замен / инделов:\n",
      "         A        C        G        T      -\n",
      "A        0  2338191  2117246  2124687  62358\n",
      "C  2214094        0  2683461  2108846  68705\n",
      "G  2075855  2592961        0  2332013  59742\n",
      "T  2272896  2085133  2226395        0  65494\n",
      "-    38202    80474    80089    40334      0\n",
      "------------------------------\n",
      "Матрица частот замен / инделов:\n",
      "          A         C         G         T         -\n",
      "A  0.000000  0.013892  0.012579  0.012623  0.000370\n",
      "C  0.013154  0.000000  0.015943  0.012529  0.000408\n",
      "G  0.012333  0.015405  0.000000  0.013855  0.000355\n",
      "T  0.013504  0.012388  0.013227  0.000000  0.000389\n",
      "-  0.000227  0.000478  0.000476  0.000240  0.000000\n"
     ]
    }
   ],
   "source": [
    "errors, total_len = get_errors('alignment_C24_698.sam', 'DH10B-K12.fasta')\n",
    "print('Матрица замен / инделов:')\n",
    "errors_df = pd.DataFrame(np.array(list(errors.values())).reshape(5, 5), columns=['A', 'C', 'G', 'T', '-'], index=['A', 'C', 'G', 'T', '-'])\n",
    "print(errors_df)\n",
    "print('------------------------------')\n",
    "print('Матрица частот замен / инделов:')\n",
    "errors_freq_arr = np.array(list(errors.values())) / total_len\n",
    "errors_freq_df = pd.DataFrame(errors_freq_arr.reshape(5, 5), columns=['A', 'C', 'G', 'T', '-'], index=['A', 'C', 'G', 'T', '-'])\n",
    "print(errors_freq_df)"
   ]
  },
  {
   "cell_type": "code",
   "execution_count": 137,
   "metadata": {},
   "outputs": [
    {
     "name": "stdout",
     "output_type": "stream",
     "text": [
      "Средний процент ошибок в ридах: 0.6575007130285728 %\n"
     ]
    }
   ],
   "source": [
    "print(f'Средний процент ошибок в ридах: {np.mean([errors[elem]/total_len for elem in errors.keys()]) * 100} %') # средний процент ошибок в ридах"
   ]
  },
  {
   "cell_type": "markdown",
   "metadata": {},
   "source": [
    "Можно заметить, что часть матрицы, отвечающая за частоты замен, почти симметрична, причём частоты замен практически равны между собой."
   ]
  },
  {
   "cell_type": "code",
   "execution_count": null,
   "metadata": {},
   "outputs": [],
   "source": []
  }
 ],
 "metadata": {
  "kernelspec": {
   "display_name": "Python 3",
   "language": "python",
   "name": "python3"
  },
  "language_info": {
   "codemirror_mode": {
    "name": "ipython",
    "version": 3
   },
   "file_extension": ".py",
   "mimetype": "text/x-python",
   "name": "python",
   "nbconvert_exporter": "python",
   "pygments_lexer": "ipython3",
   "version": "3.7.4"
  }
 },
 "nbformat": 4,
 "nbformat_minor": 2
}
